{
 "cells": [
  {
   "cell_type": "code",
   "execution_count": 1,
   "id": "7f8c4c03",
   "metadata": {
    "execution": {
     "iopub.execute_input": "2024-03-30T06:15:01.840065Z",
     "iopub.status.busy": "2024-03-30T06:15:01.839421Z",
     "iopub.status.idle": "2024-03-30T06:15:07.382488Z",
     "shell.execute_reply": "2024-03-30T06:15:07.381127Z"
    },
    "papermill": {
     "duration": 5.574712,
     "end_time": "2024-03-30T06:15:07.385176",
     "exception": false,
     "start_time": "2024-03-30T06:15:01.810464",
     "status": "completed"
    },
    "tags": []
   },
   "outputs": [
    {
     "name": "stdout",
     "output_type": "stream",
     "text": [
      "2.0.0+cpu\n"
     ]
    }
   ],
   "source": [
    "import torch\n",
    "import pandas as pd\n",
    "import matplotlib.pyplot as plt\n",
    "import numpy as np\n",
    "print(torch.__version__)"
   ]
  },
  {
   "cell_type": "markdown",
   "id": "70585fa2",
   "metadata": {
    "papermill": {
     "duration": 0.026455,
     "end_time": "2024-03-30T06:15:07.439471",
     "exception": false,
     "start_time": "2024-03-30T06:15:07.413016",
     "status": "completed"
    },
    "tags": []
   },
   "source": [
    "## Creating a range, reshaping a tensor"
   ]
  },
  {
   "cell_type": "code",
   "execution_count": 2,
   "id": "f79e8b27",
   "metadata": {
    "execution": {
     "iopub.execute_input": "2024-03-30T06:15:07.496296Z",
     "iopub.status.busy": "2024-03-30T06:15:07.495696Z",
     "iopub.status.idle": "2024-03-30T06:15:07.531836Z",
     "shell.execute_reply": "2024-03-30T06:15:07.530861Z"
    },
    "papermill": {
     "duration": 0.066971,
     "end_time": "2024-03-30T06:15:07.534613",
     "exception": false,
     "start_time": "2024-03-30T06:15:07.467642",
     "status": "completed"
    },
    "tags": []
   },
   "outputs": [],
   "source": [
    "X = torch.arange(0,10,1)\n",
    "#X_reshaped= X.reshape(2,5)\n",
    "#X_reshaped"
   ]
  },
  {
   "cell_type": "markdown",
   "id": "0389abb4",
   "metadata": {
    "papermill": {
     "duration": 0.026836,
     "end_time": "2024-03-30T06:15:07.588029",
     "exception": false,
     "start_time": "2024-03-30T06:15:07.561193",
     "status": "completed"
    },
    "tags": []
   },
   "source": [
    "## Creating a view of a tensor"
   ]
  },
  {
   "cell_type": "code",
   "execution_count": 3,
   "id": "b86bbcd9",
   "metadata": {
    "execution": {
     "iopub.execute_input": "2024-03-30T06:15:07.643695Z",
     "iopub.status.busy": "2024-03-30T06:15:07.642835Z",
     "iopub.status.idle": "2024-03-30T06:15:07.696400Z",
     "shell.execute_reply": "2024-03-30T06:15:07.695182Z"
    },
    "papermill": {
     "duration": 0.084251,
     "end_time": "2024-03-30T06:15:07.698953",
     "exception": false,
     "start_time": "2024-03-30T06:15:07.614702",
     "status": "completed"
    },
    "tags": []
   },
   "outputs": [
    {
     "data": {
      "text/plain": [
       "tensor([0, 5, 2, 3, 4, 5, 6, 7, 8, 9])"
      ]
     },
     "execution_count": 3,
     "metadata": {},
     "output_type": "execute_result"
    }
   ],
   "source": [
    "x = X\n",
    "z = x.view(1,10)\n",
    "z[0,1] = 5\n",
    "x"
   ]
  },
  {
   "cell_type": "markdown",
   "id": "e83bef9b",
   "metadata": {
    "papermill": {
     "duration": 0.027267,
     "end_time": "2024-03-30T06:15:07.817054",
     "exception": false,
     "start_time": "2024-03-30T06:15:07.789787",
     "status": "completed"
    },
    "tags": []
   },
   "source": [
    "## Stacking tensors"
   ]
  },
  {
   "cell_type": "code",
   "execution_count": 4,
   "id": "24621dce",
   "metadata": {
    "execution": {
     "iopub.execute_input": "2024-03-30T06:15:07.873876Z",
     "iopub.status.busy": "2024-03-30T06:15:07.872736Z",
     "iopub.status.idle": "2024-03-30T06:15:07.898868Z",
     "shell.execute_reply": "2024-03-30T06:15:07.897361Z"
    },
    "papermill": {
     "duration": 0.057022,
     "end_time": "2024-03-30T06:15:07.901484",
     "exception": false,
     "start_time": "2024-03-30T06:15:07.844462",
     "status": "completed"
    },
    "tags": []
   },
   "outputs": [
    {
     "data": {
      "text/plain": [
       "tensor([[0, 5, 2, 3, 4, 5, 6, 7, 8, 9],\n",
       "        [0, 5, 2, 3, 4, 5, 6, 7, 8, 9],\n",
       "        [0, 5, 2, 3, 4, 5, 6, 7, 8, 9]])"
      ]
     },
     "execution_count": 4,
     "metadata": {},
     "output_type": "execute_result"
    }
   ],
   "source": [
    "x_stacked = torch.stack([x,x,x]) #vertical stacking\n",
    "x_stacked"
   ]
  },
  {
   "cell_type": "code",
   "execution_count": 5,
   "id": "791c97fc",
   "metadata": {
    "execution": {
     "iopub.execute_input": "2024-03-30T06:15:07.958215Z",
     "iopub.status.busy": "2024-03-30T06:15:07.956913Z",
     "iopub.status.idle": "2024-03-30T06:15:07.967548Z",
     "shell.execute_reply": "2024-03-30T06:15:07.966504Z"
    },
    "papermill": {
     "duration": 0.041557,
     "end_time": "2024-03-30T06:15:07.970252",
     "exception": false,
     "start_time": "2024-03-30T06:15:07.928695",
     "status": "completed"
    },
    "tags": []
   },
   "outputs": [
    {
     "data": {
      "text/plain": [
       "tensor([[0, 0],\n",
       "        [5, 5],\n",
       "        [2, 2],\n",
       "        [3, 3],\n",
       "        [4, 4],\n",
       "        [5, 5],\n",
       "        [6, 6],\n",
       "        [7, 7],\n",
       "        [8, 8],\n",
       "        [9, 9]])"
      ]
     },
     "execution_count": 5,
     "metadata": {},
     "output_type": "execute_result"
    }
   ],
   "source": [
    "x_stacked2 = torch.stack([x,x],dim=1)\n",
    "x_stacked2"
   ]
  },
  {
   "cell_type": "code",
   "execution_count": 6,
   "id": "d91327ed",
   "metadata": {
    "execution": {
     "iopub.execute_input": "2024-03-30T06:15:08.027603Z",
     "iopub.status.busy": "2024-03-30T06:15:08.026256Z",
     "iopub.status.idle": "2024-03-30T06:15:08.034630Z",
     "shell.execute_reply": "2024-03-30T06:15:08.033349Z"
    },
    "papermill": {
     "duration": 0.039835,
     "end_time": "2024-03-30T06:15:08.037203",
     "exception": false,
     "start_time": "2024-03-30T06:15:07.997368",
     "status": "completed"
    },
    "tags": []
   },
   "outputs": [
    {
     "data": {
      "text/plain": [
       "tensor([[[[0, 0],\n",
       "          [5, 5],\n",
       "          [2, 2],\n",
       "          [3, 3],\n",
       "          [4, 4]],\n",
       "\n",
       "         [[5, 5],\n",
       "          [6, 6],\n",
       "          [7, 7],\n",
       "          [8, 8],\n",
       "          [9, 9]]]])"
      ]
     },
     "execution_count": 6,
     "metadata": {},
     "output_type": "execute_result"
    }
   ],
   "source": [
    "x_stacked2.shape\n",
    "x_stacked2 = x_stacked2.reshape(1,2,5,2)\n",
    "x_stacked2"
   ]
  },
  {
   "cell_type": "markdown",
   "id": "90dff599",
   "metadata": {
    "papermill": {
     "duration": 0.027072,
     "end_time": "2024-03-30T06:15:08.091746",
     "exception": false,
     "start_time": "2024-03-30T06:15:08.064674",
     "status": "completed"
    },
    "tags": []
   },
   "source": [
    "# Squeezing & Unsqueezing"
   ]
  },
  {
   "cell_type": "code",
   "execution_count": 7,
   "id": "9ecd21b8",
   "metadata": {
    "execution": {
     "iopub.execute_input": "2024-03-30T06:15:08.149617Z",
     "iopub.status.busy": "2024-03-30T06:15:08.148555Z",
     "iopub.status.idle": "2024-03-30T06:15:08.161065Z",
     "shell.execute_reply": "2024-03-30T06:15:08.159627Z"
    },
    "papermill": {
     "duration": 0.043609,
     "end_time": "2024-03-30T06:15:08.163731",
     "exception": false,
     "start_time": "2024-03-30T06:15:08.120122",
     "status": "completed"
    },
    "tags": []
   },
   "outputs": [
    {
     "name": "stdout",
     "output_type": "stream",
     "text": [
      "previous shape: torch.Size([2, 5, 2])\n",
      "current shape: torch.Size([1, 2, 5, 2])\n"
     ]
    }
   ],
   "source": [
    "y = x_stacked2.squeeze()\n",
    "print(f\"previous shape: {y.shape}\")\n",
    "z = y.unsqueeze(dim=0)\n",
    "print(f\"current shape: {z.shape}\")"
   ]
  },
  {
   "cell_type": "markdown",
   "id": "0e110378",
   "metadata": {
    "papermill": {
     "duration": 0.02802,
     "end_time": "2024-03-30T06:15:08.219054",
     "exception": false,
     "start_time": "2024-03-30T06:15:08.191034",
     "status": "completed"
    },
    "tags": []
   },
   "source": [
    "## Permuting a tensor"
   ]
  },
  {
   "cell_type": "code",
   "execution_count": 8,
   "id": "8df249f4",
   "metadata": {
    "execution": {
     "iopub.execute_input": "2024-03-30T06:15:08.277653Z",
     "iopub.status.busy": "2024-03-30T06:15:08.276375Z",
     "iopub.status.idle": "2024-03-30T06:15:08.300848Z",
     "shell.execute_reply": "2024-03-30T06:15:08.299348Z"
    },
    "papermill": {
     "duration": 0.057107,
     "end_time": "2024-03-30T06:15:08.303837",
     "exception": false,
     "start_time": "2024-03-30T06:15:08.246730",
     "status": "completed"
    },
    "tags": []
   },
   "outputs": [
    {
     "data": {
      "text/plain": [
       "torch.Size([3, 224, 224])"
      ]
     },
     "execution_count": 8,
     "metadata": {},
     "output_type": "execute_result"
    }
   ],
   "source": [
    "#torch.permute rearranges the dimensions of a specified tensor in a specfic order, and it returns a view\n",
    "x = torch.rand(2,3,5)\n",
    "x.size()\n",
    "torch.permute(x,(2,0,1)).size()\n",
    "x = torch.rand(size = (224,224,3))\n",
    "\n",
    "y = x.permute(2,0,1)\n",
    "y.shape"
   ]
  },
  {
   "cell_type": "code",
   "execution_count": 9,
   "id": "6a461eec",
   "metadata": {
    "execution": {
     "iopub.execute_input": "2024-03-30T06:15:08.364627Z",
     "iopub.status.busy": "2024-03-30T06:15:08.363929Z",
     "iopub.status.idle": "2024-03-30T06:15:08.417838Z",
     "shell.execute_reply": "2024-03-30T06:15:08.416448Z"
    },
    "papermill": {
     "duration": 0.087885,
     "end_time": "2024-03-30T06:15:08.420689",
     "exception": false,
     "start_time": "2024-03-30T06:15:08.332804",
     "status": "completed"
    },
    "tags": []
   },
   "outputs": [
    {
     "data": {
      "text/plain": [
       "tensor([[[5.0000e+00, 5.0000e+00, 5.0000e+00],\n",
       "         [3.1695e-01, 4.8161e-01, 5.7198e-01],\n",
       "         [3.2903e-01, 9.7058e-01, 2.6901e-01],\n",
       "         ...,\n",
       "         [3.5853e-02, 9.5530e-01, 7.4955e-01],\n",
       "         [1.1667e-02, 9.0369e-01, 6.8380e-01],\n",
       "         [6.4644e-01, 2.0965e-01, 9.6976e-01]],\n",
       "\n",
       "        [[5.0000e+00, 5.0000e+00, 5.0000e+00],\n",
       "         [5.3555e-01, 2.0772e-01, 3.4785e-01],\n",
       "         [9.9484e-01, 8.6426e-01, 3.4997e-01],\n",
       "         ...,\n",
       "         [1.3889e-01, 6.5386e-01, 4.4065e-01],\n",
       "         [8.5644e-01, 9.9268e-03, 1.5228e-01],\n",
       "         [9.0068e-01, 1.4119e-01, 4.9056e-01]],\n",
       "\n",
       "        [[5.0000e+00, 5.0000e+00, 5.0000e+00],\n",
       "         [1.9057e-01, 4.0100e-01, 7.9430e-01],\n",
       "         [4.4993e-01, 9.7779e-01, 6.0111e-01],\n",
       "         ...,\n",
       "         [8.9711e-01, 8.6151e-01, 9.8592e-01],\n",
       "         [2.4371e-01, 7.8146e-01, 6.5972e-02],\n",
       "         [7.7812e-01, 3.2963e-01, 7.9978e-01]],\n",
       "\n",
       "        ...,\n",
       "\n",
       "        [[5.0000e+00, 5.0000e+00, 5.0000e+00],\n",
       "         [9.9556e-01, 5.6532e-01, 3.7422e-01],\n",
       "         [4.8248e-01, 5.2543e-01, 4.1799e-03],\n",
       "         ...,\n",
       "         [6.7370e-01, 1.1565e-01, 4.9118e-01],\n",
       "         [9.4041e-01, 1.6561e-01, 5.2937e-01],\n",
       "         [6.9327e-01, 9.2240e-01, 3.9551e-01]],\n",
       "\n",
       "        [[5.0000e+00, 5.0000e+00, 5.0000e+00],\n",
       "         [3.7974e-01, 1.7586e-01, 6.3727e-01],\n",
       "         [4.4140e-01, 5.9239e-01, 8.9361e-01],\n",
       "         ...,\n",
       "         [4.8701e-02, 9.7417e-02, 5.3173e-01],\n",
       "         [4.2735e-01, 9.8045e-01, 7.9403e-01],\n",
       "         [8.6739e-02, 5.9933e-01, 5.4541e-01]],\n",
       "\n",
       "        [[5.0000e+00, 5.0000e+00, 5.0000e+00],\n",
       "         [1.9862e-01, 2.8908e-02, 8.2099e-01],\n",
       "         [9.7595e-02, 4.0061e-01, 8.4199e-01],\n",
       "         ...,\n",
       "         [2.4703e-01, 1.6645e-01, 1.1003e-01],\n",
       "         [6.2553e-01, 7.1208e-01, 4.6421e-01],\n",
       "         [7.9806e-01, 8.3317e-01, 9.1938e-01]]])"
      ]
     },
     "execution_count": 9,
     "metadata": {},
     "output_type": "execute_result"
    }
   ],
   "source": [
    "x[:,:1] = 5\n",
    "x"
   ]
  },
  {
   "cell_type": "markdown",
   "id": "67ab2cb5",
   "metadata": {
    "papermill": {
     "duration": 0.027489,
     "end_time": "2024-03-30T06:15:08.475922",
     "exception": false,
     "start_time": "2024-03-30T06:15:08.448433",
     "status": "completed"
    },
    "tags": []
   },
   "source": [
    "## Checking if a gpu is available"
   ]
  },
  {
   "cell_type": "code",
   "execution_count": 10,
   "id": "7227179d",
   "metadata": {
    "execution": {
     "iopub.execute_input": "2024-03-30T06:15:08.533313Z",
     "iopub.status.busy": "2024-03-30T06:15:08.532773Z",
     "iopub.status.idle": "2024-03-30T06:15:08.541066Z",
     "shell.execute_reply": "2024-03-30T06:15:08.539928Z"
    },
    "papermill": {
     "duration": 0.040055,
     "end_time": "2024-03-30T06:15:08.543624",
     "exception": false,
     "start_time": "2024-03-30T06:15:08.503569",
     "status": "completed"
    },
    "tags": []
   },
   "outputs": [
    {
     "data": {
      "text/plain": [
       "False"
      ]
     },
     "execution_count": 10,
     "metadata": {},
     "output_type": "execute_result"
    }
   ],
   "source": [
    "torch.cuda.is_available()"
   ]
  },
  {
   "cell_type": "markdown",
   "id": "2d8fbdd0",
   "metadata": {
    "papermill": {
     "duration": 0.029031,
     "end_time": "2024-03-30T06:15:08.601024",
     "exception": false,
     "start_time": "2024-03-30T06:15:08.571993",
     "status": "completed"
    },
    "tags": []
   },
   "source": [
    "## Random seeds"
   ]
  },
  {
   "cell_type": "code",
   "execution_count": 11,
   "id": "e2902a50",
   "metadata": {
    "execution": {
     "iopub.execute_input": "2024-03-30T06:15:08.661056Z",
     "iopub.status.busy": "2024-03-30T06:15:08.659732Z",
     "iopub.status.idle": "2024-03-30T06:15:08.678405Z",
     "shell.execute_reply": "2024-03-30T06:15:08.677132Z"
    },
    "papermill": {
     "duration": 0.050626,
     "end_time": "2024-03-30T06:15:08.681157",
     "exception": false,
     "start_time": "2024-03-30T06:15:08.630531",
     "status": "completed"
    },
    "tags": []
   },
   "outputs": [
    {
     "data": {
      "text/plain": [
       "(tensor([[0.9007, 0.7464, 0.4716, 0.8738],\n",
       "         [0.7403, 0.7840, 0.8946, 0.6238]]),\n",
       " tensor([[0.9007, 0.7464, 0.4716, 0.8738],\n",
       "         [0.7403, 0.7840, 0.8946, 0.6238]]))"
      ]
     },
     "execution_count": 11,
     "metadata": {},
     "output_type": "execute_result"
    }
   ],
   "source": [
    "import random\n",
    "torch.manual_seed(seed = 30)\n",
    "x = torch.rand(2,4)\n",
    "torch.manual_seed(seed = 30)\n",
    "y= torch.rand(2,4)\n",
    "x,y"
   ]
  },
  {
   "cell_type": "code",
   "execution_count": 12,
   "id": "9963d62b",
   "metadata": {
    "execution": {
     "iopub.execute_input": "2024-03-30T06:15:08.742204Z",
     "iopub.status.busy": "2024-03-30T06:15:08.741177Z",
     "iopub.status.idle": "2024-03-30T06:15:08.750005Z",
     "shell.execute_reply": "2024-03-30T06:15:08.748768Z"
    },
    "papermill": {
     "duration": 0.043205,
     "end_time": "2024-03-30T06:15:08.752796",
     "exception": false,
     "start_time": "2024-03-30T06:15:08.709591",
     "status": "completed"
    },
    "tags": []
   },
   "outputs": [
    {
     "data": {
      "text/plain": [
       "(torch.float32, torch.int64)"
      ]
     },
     "execution_count": 12,
     "metadata": {},
     "output_type": "execute_result"
    }
   ],
   "source": [
    "a = torch.rand(7,7,)\n",
    "b = torch.arange(0,7,1) #arange creates int64 rand ccreates flot32\n",
    "a.dtype,b.dtype"
   ]
  },
  {
   "cell_type": "markdown",
   "id": "71e27805",
   "metadata": {
    "papermill": {
     "duration": 0.028465,
     "end_time": "2024-03-30T06:15:08.809463",
     "exception": false,
     "start_time": "2024-03-30T06:15:08.780998",
     "status": "completed"
    },
    "tags": []
   },
   "source": [
    "## Transposing tensors"
   ]
  },
  {
   "cell_type": "code",
   "execution_count": 13,
   "id": "3f7773ab",
   "metadata": {
    "execution": {
     "iopub.execute_input": "2024-03-30T06:15:08.867934Z",
     "iopub.status.busy": "2024-03-30T06:15:08.867462Z",
     "iopub.status.idle": "2024-03-30T06:15:08.882878Z",
     "shell.execute_reply": "2024-03-30T06:15:08.881760Z"
    },
    "papermill": {
     "duration": 0.047498,
     "end_time": "2024-03-30T06:15:08.885576",
     "exception": false,
     "start_time": "2024-03-30T06:15:08.838078",
     "status": "completed"
    },
    "tags": []
   },
   "outputs": [],
   "source": [
    "# to fix this\n",
    "b = b.type(torch.float32)\n",
    "b = b.reshape(1,7)\n",
    "c = a@b.T"
   ]
  },
  {
   "cell_type": "code",
   "execution_count": 14,
   "id": "7395452d",
   "metadata": {
    "execution": {
     "iopub.execute_input": "2024-03-30T06:15:08.944927Z",
     "iopub.status.busy": "2024-03-30T06:15:08.943494Z",
     "iopub.status.idle": "2024-03-30T06:15:08.950705Z",
     "shell.execute_reply": "2024-03-30T06:15:08.949867Z"
    },
    "papermill": {
     "duration": 0.039392,
     "end_time": "2024-03-30T06:15:08.953261",
     "exception": false,
     "start_time": "2024-03-30T06:15:08.913869",
     "status": "completed"
    },
    "tags": []
   },
   "outputs": [
    {
     "data": {
      "text/plain": [
       "torch.Size([7, 1])"
      ]
     },
     "execution_count": 14,
     "metadata": {},
     "output_type": "execute_result"
    }
   ],
   "source": [
    "#to fix the shape error\n",
    "c =a@b.T\n",
    "c.size()"
   ]
  },
  {
   "cell_type": "markdown",
   "id": "8b34857b",
   "metadata": {
    "execution": {
     "iopub.execute_input": "2024-03-19T13:37:07.071480Z",
     "iopub.status.busy": "2024-03-19T13:37:07.071041Z",
     "iopub.status.idle": "2024-03-19T13:37:07.088252Z",
     "shell.execute_reply": "2024-03-19T13:37:07.086690Z",
     "shell.execute_reply.started": "2024-03-19T13:37:07.071448Z"
    },
    "papermill": {
     "duration": 0.02804,
     "end_time": "2024-03-30T06:15:09.009771",
     "exception": false,
     "start_time": "2024-03-30T06:15:08.981731",
     "status": "completed"
    },
    "tags": []
   },
   "source": [
    "import random\n",
    "torch.manual_seed(seed = 0)\n",
    "d = torch.rand(7,7)\n",
    "torch.manual_seed(seed = 0)\n",
    "e = torch.rand(1,7)\n",
    "print(d,e)\n",
    "f = d@e.T\n",
    "print(f)\n",
    "d==e"
   ]
  },
  {
   "cell_type": "code",
   "execution_count": null,
   "id": "090d61ba",
   "metadata": {
    "papermill": {
     "duration": 0.027859,
     "end_time": "2024-03-30T06:15:09.066297",
     "exception": false,
     "start_time": "2024-03-30T06:15:09.038438",
     "status": "completed"
    },
    "tags": []
   },
   "outputs": [],
   "source": []
  },
  {
   "cell_type": "code",
   "execution_count": 15,
   "id": "b1f2b7e7",
   "metadata": {
    "execution": {
     "iopub.execute_input": "2024-03-30T06:15:09.126708Z",
     "iopub.status.busy": "2024-03-30T06:15:09.126245Z",
     "iopub.status.idle": "2024-03-30T06:15:09.136118Z",
     "shell.execute_reply": "2024-03-30T06:15:09.134926Z"
    },
    "papermill": {
     "duration": 0.044055,
     "end_time": "2024-03-30T06:15:09.138739",
     "exception": false,
     "start_time": "2024-03-30T06:15:09.094684",
     "status": "completed"
    },
    "tags": []
   },
   "outputs": [
    {
     "data": {
      "text/plain": [
       "tensor([[[0.8184, 0.5022, 0.1390],\n",
       "         [0.6871, 0.2544, 0.9488],\n",
       "         [0.5232, 0.9378, 0.1448]]])"
      ]
     },
     "execution_count": 15,
     "metadata": {},
     "output_type": "execute_result"
    }
   ],
   "source": [
    "x = torch.rand(1,3,3)\n",
    "x"
   ]
  },
  {
   "cell_type": "code",
   "execution_count": 16,
   "id": "f77c69f1",
   "metadata": {
    "execution": {
     "iopub.execute_input": "2024-03-30T06:15:09.198967Z",
     "iopub.status.busy": "2024-03-30T06:15:09.198509Z",
     "iopub.status.idle": "2024-03-30T06:15:09.206906Z",
     "shell.execute_reply": "2024-03-30T06:15:09.205845Z"
    },
    "papermill": {
     "duration": 0.041399,
     "end_time": "2024-03-30T06:15:09.209234",
     "exception": false,
     "start_time": "2024-03-30T06:15:09.167835",
     "status": "completed"
    },
    "tags": []
   },
   "outputs": [
    {
     "data": {
      "text/plain": [
       "tensor([[0.1390, 0.9488, 0.1448]])"
      ]
     },
     "execution_count": 16,
     "metadata": {},
     "output_type": "execute_result"
    }
   ],
   "source": [
    "x[:,:,2]"
   ]
  },
  {
   "cell_type": "markdown",
   "id": "aa2480a0",
   "metadata": {
    "papermill": {
     "duration": 0.029419,
     "end_time": "2024-03-30T06:15:09.267033",
     "exception": false,
     "start_time": "2024-03-30T06:15:09.237614",
     "status": "completed"
    },
    "tags": []
   },
   "source": [
    "## pytorch and numpy"
   ]
  },
  {
   "cell_type": "code",
   "execution_count": 17,
   "id": "fbaad205",
   "metadata": {
    "execution": {
     "iopub.execute_input": "2024-03-30T06:15:09.326754Z",
     "iopub.status.busy": "2024-03-30T06:15:09.326002Z",
     "iopub.status.idle": "2024-03-30T06:15:09.336949Z",
     "shell.execute_reply": "2024-03-30T06:15:09.335620Z"
    },
    "papermill": {
     "duration": 0.0444,
     "end_time": "2024-03-30T06:15:09.339825",
     "exception": false,
     "start_time": "2024-03-30T06:15:09.295425",
     "status": "completed"
    },
    "tags": []
   },
   "outputs": [
    {
     "data": {
      "text/plain": [
       "(array([0, 1, 2, 3, 4, 5, 6, 7, 8, 9]),\n",
       " tensor([0., 1., 2., 3., 4., 5., 6., 7., 8., 9.]))"
      ]
     },
     "execution_count": 17,
     "metadata": {},
     "output_type": "execute_result"
    }
   ],
   "source": [
    "v = np.arange(0,10)\n",
    "c = torch.from_numpy(v).type(torch.float32) #numpy's default is float 64\n",
    "v,c"
   ]
  },
  {
   "cell_type": "code",
   "execution_count": 18,
   "id": "e5e5d8cc",
   "metadata": {
    "execution": {
     "iopub.execute_input": "2024-03-30T06:15:09.401486Z",
     "iopub.status.busy": "2024-03-30T06:15:09.401026Z",
     "iopub.status.idle": "2024-03-30T06:15:09.412035Z",
     "shell.execute_reply": "2024-03-30T06:15:09.410869Z"
    },
    "papermill": {
     "duration": 0.04473,
     "end_time": "2024-03-30T06:15:09.414661",
     "exception": false,
     "start_time": "2024-03-30T06:15:09.369931",
     "status": "completed"
    },
    "tags": []
   },
   "outputs": [
    {
     "data": {
      "text/plain": [
       "(array([ 1,  2,  3,  4,  5,  6,  7,  8,  9, 10]),\n",
       " tensor([0., 1., 2., 3., 4., 5., 6., 7., 8., 9.]))"
      ]
     },
     "execution_count": 18,
     "metadata": {},
     "output_type": "execute_result"
    }
   ],
   "source": [
    "v += 1\n",
    "v,c"
   ]
  },
  {
   "cell_type": "code",
   "execution_count": 19,
   "id": "ab73d8fe",
   "metadata": {
    "execution": {
     "iopub.execute_input": "2024-03-30T06:15:09.474680Z",
     "iopub.status.busy": "2024-03-30T06:15:09.473896Z",
     "iopub.status.idle": "2024-03-30T06:15:09.483378Z",
     "shell.execute_reply": "2024-03-30T06:15:09.482163Z"
    },
    "papermill": {
     "duration": 0.042328,
     "end_time": "2024-03-30T06:15:09.485781",
     "exception": false,
     "start_time": "2024-03-30T06:15:09.443453",
     "status": "completed"
    },
    "tags": []
   },
   "outputs": [
    {
     "data": {
      "text/plain": [
       "tensor([[0., 0., 0.],\n",
       "        [0., 0., 0.],\n",
       "        [0., 0., 0.]])"
      ]
     },
     "execution_count": 19,
     "metadata": {},
     "output_type": "execute_result"
    }
   ],
   "source": [
    "m = torch.zeros(3,3)\n",
    "m"
   ]
  },
  {
   "cell_type": "code",
   "execution_count": 20,
   "id": "f49000a8",
   "metadata": {
    "execution": {
     "iopub.execute_input": "2024-03-30T06:15:09.545652Z",
     "iopub.status.busy": "2024-03-30T06:15:09.545201Z",
     "iopub.status.idle": "2024-03-30T06:15:09.556182Z",
     "shell.execute_reply": "2024-03-30T06:15:09.554996Z"
    },
    "papermill": {
     "duration": 0.044322,
     "end_time": "2024-03-30T06:15:09.558824",
     "exception": false,
     "start_time": "2024-03-30T06:15:09.514502",
     "status": "completed"
    },
    "tags": []
   },
   "outputs": [
    {
     "data": {
      "text/plain": [
       "(tensor([[1., 1., 1.],\n",
       "         [1., 1., 1.],\n",
       "         [1., 1., 1.]]),\n",
       " array([[1., 1., 1.],\n",
       "        [1., 1., 1.],\n",
       "        [1., 1., 1.]], dtype=float32))"
      ]
     },
     "execution_count": 20,
     "metadata": {},
     "output_type": "execute_result"
    }
   ],
   "source": [
    "k = m.numpy()\n",
    "m += 1\n",
    "m,k"
   ]
  },
  {
   "cell_type": "code",
   "execution_count": 21,
   "id": "dfac95e4",
   "metadata": {
    "execution": {
     "iopub.execute_input": "2024-03-30T06:15:09.620124Z",
     "iopub.status.busy": "2024-03-30T06:15:09.619654Z",
     "iopub.status.idle": "2024-03-30T06:15:09.628903Z",
     "shell.execute_reply": "2024-03-30T06:15:09.627686Z"
    },
    "papermill": {
     "duration": 0.04253,
     "end_time": "2024-03-30T06:15:09.631311",
     "exception": false,
     "start_time": "2024-03-30T06:15:09.588781",
     "status": "completed"
    },
    "tags": []
   },
   "outputs": [
    {
     "data": {
      "text/plain": [
       "(array([[4., 4., 4.],\n",
       "        [4., 4., 4.],\n",
       "        [4., 4., 4.]], dtype=float32),\n",
       " tensor([[4., 4., 4.],\n",
       "         [4., 4., 4.],\n",
       "         [4., 4., 4.]]))"
      ]
     },
     "execution_count": 21,
     "metadata": {},
     "output_type": "execute_result"
    }
   ],
   "source": [
    "m+=2\n",
    "m,k\n",
    "k+=1\n",
    "k,m"
   ]
  },
  {
   "cell_type": "code",
   "execution_count": 22,
   "id": "781db74f",
   "metadata": {
    "execution": {
     "iopub.execute_input": "2024-03-30T06:15:09.693580Z",
     "iopub.status.busy": "2024-03-30T06:15:09.692276Z",
     "iopub.status.idle": "2024-03-30T06:15:09.702769Z",
     "shell.execute_reply": "2024-03-30T06:15:09.701469Z"
    },
    "papermill": {
     "duration": 0.04442,
     "end_time": "2024-03-30T06:15:09.705424",
     "exception": false,
     "start_time": "2024-03-30T06:15:09.661004",
     "status": "completed"
    },
    "tags": []
   },
   "outputs": [
    {
     "data": {
      "text/plain": [
       "tensor([[True, True],\n",
       "        [True, True]])"
      ]
     },
     "execution_count": 22,
     "metadata": {},
     "output_type": "execute_result"
    }
   ],
   "source": [
    "#reproducibility\n",
    "torch.manual_seed(6)\n",
    "x = torch.rand(2,2)\n",
    "torch.manual_seed(6)\n",
    "y = torch.rand(2,2)\n",
    "x == y"
   ]
  },
  {
   "cell_type": "code",
   "execution_count": 23,
   "id": "b7a6011a",
   "metadata": {
    "execution": {
     "iopub.execute_input": "2024-03-30T06:15:09.767689Z",
     "iopub.status.busy": "2024-03-30T06:15:09.766336Z",
     "iopub.status.idle": "2024-03-30T06:15:09.774571Z",
     "shell.execute_reply": "2024-03-30T06:15:09.773256Z"
    },
    "papermill": {
     "duration": 0.041734,
     "end_time": "2024-03-30T06:15:09.777260",
     "exception": false,
     "start_time": "2024-03-30T06:15:09.735526",
     "status": "completed"
    },
    "tags": []
   },
   "outputs": [
    {
     "data": {
      "text/plain": [
       "False"
      ]
     },
     "execution_count": 23,
     "metadata": {},
     "output_type": "execute_result"
    }
   ],
   "source": [
    "torch.cuda.is_available()"
   ]
  },
  {
   "cell_type": "code",
   "execution_count": 24,
   "id": "e3341029",
   "metadata": {
    "execution": {
     "iopub.execute_input": "2024-03-30T06:15:09.839582Z",
     "iopub.status.busy": "2024-03-30T06:15:09.839160Z",
     "iopub.status.idle": "2024-03-30T06:15:09.846372Z",
     "shell.execute_reply": "2024-03-30T06:15:09.845006Z"
    },
    "papermill": {
     "duration": 0.041687,
     "end_time": "2024-03-30T06:15:09.848997",
     "exception": false,
     "start_time": "2024-03-30T06:15:09.807310",
     "status": "completed"
    },
    "tags": []
   },
   "outputs": [
    {
     "data": {
      "text/plain": [
       "device(type='cpu')"
      ]
     },
     "execution_count": 24,
     "metadata": {},
     "output_type": "execute_result"
    }
   ],
   "source": [
    "x.device"
   ]
  },
  {
   "cell_type": "markdown",
   "id": "6df44d22",
   "metadata": {
    "papermill": {
     "duration": 0.031469,
     "end_time": "2024-03-30T06:15:09.910722",
     "exception": false,
     "start_time": "2024-03-30T06:15:09.879253",
     "status": "completed"
    },
    "tags": []
   },
   "source": [
    "## First pytorch model, linear regression"
   ]
  },
  {
   "cell_type": "code",
   "execution_count": 25,
   "id": "de51f6ed",
   "metadata": {
    "execution": {
     "iopub.execute_input": "2024-03-30T06:15:09.972487Z",
     "iopub.status.busy": "2024-03-30T06:15:09.972082Z",
     "iopub.status.idle": "2024-03-30T06:15:09.977230Z",
     "shell.execute_reply": "2024-03-30T06:15:09.975971Z"
    },
    "papermill": {
     "duration": 0.039168,
     "end_time": "2024-03-30T06:15:09.979601",
     "exception": false,
     "start_time": "2024-03-30T06:15:09.940433",
     "status": "completed"
    },
    "tags": []
   },
   "outputs": [],
   "source": [
    "import torch\n",
    "from torch import nn\n",
    "import matplotlib.pyplot as plt"
   ]
  },
  {
   "cell_type": "code",
   "execution_count": 26,
   "id": "2959d4dd",
   "metadata": {
    "execution": {
     "iopub.execute_input": "2024-03-30T06:15:10.040788Z",
     "iopub.status.busy": "2024-03-30T06:15:10.040343Z",
     "iopub.status.idle": "2024-03-30T06:15:10.047878Z",
     "shell.execute_reply": "2024-03-30T06:15:10.046694Z"
    },
    "papermill": {
     "duration": 0.04118,
     "end_time": "2024-03-30T06:15:10.050410",
     "exception": false,
     "start_time": "2024-03-30T06:15:10.009230",
     "status": "completed"
    },
    "tags": []
   },
   "outputs": [
    {
     "data": {
      "text/plain": [
       "'2.0.0+cpu'"
      ]
     },
     "execution_count": 26,
     "metadata": {},
     "output_type": "execute_result"
    }
   ],
   "source": [
    "torch.__version__"
   ]
  },
  {
   "cell_type": "code",
   "execution_count": 27,
   "id": "a8731a56",
   "metadata": {
    "execution": {
     "iopub.execute_input": "2024-03-30T06:15:10.113375Z",
     "iopub.status.busy": "2024-03-30T06:15:10.112966Z",
     "iopub.status.idle": "2024-03-30T06:15:10.127984Z",
     "shell.execute_reply": "2024-03-30T06:15:10.127059Z"
    },
    "papermill": {
     "duration": 0.050112,
     "end_time": "2024-03-30T06:15:10.130278",
     "exception": false,
     "start_time": "2024-03-30T06:15:10.080166",
     "status": "completed"
    },
    "tags": []
   },
   "outputs": [
    {
     "data": {
      "text/plain": [
       "(tensor([[0.0000],\n",
       "         [0.0200],\n",
       "         [0.0400],\n",
       "         [0.0600],\n",
       "         [0.0800],\n",
       "         [0.1000],\n",
       "         [0.1200],\n",
       "         [0.1400],\n",
       "         [0.1600],\n",
       "         [0.1800]]),\n",
       " tensor([[0.3000],\n",
       "         [0.3140],\n",
       "         [0.3280],\n",
       "         [0.3420],\n",
       "         [0.3560],\n",
       "         [0.3700],\n",
       "         [0.3840],\n",
       "         [0.3980],\n",
       "         [0.4120],\n",
       "         [0.4260]]),\n",
       " 50,\n",
       " 50)"
      ]
     },
     "execution_count": 27,
     "metadata": {},
     "output_type": "execute_result"
    }
   ],
   "source": [
    "#creating known parameters\n",
    "weight = 0.7 #(slope)\n",
    "bias = 0.3 #(error_term)\n",
    "\n",
    "#creating some data\n",
    "start = 0\n",
    "end = 1\n",
    "step = 0.02\n",
    "X = torch.arange(start,end,step).unsqueeze(dim=1)\n",
    "y = weight*X+bias\n",
    "X[:10],y[:10],len(X),len(y)"
   ]
  },
  {
   "cell_type": "code",
   "execution_count": 28,
   "id": "a4ee626c",
   "metadata": {
    "execution": {
     "iopub.execute_input": "2024-03-30T06:15:10.193210Z",
     "iopub.status.busy": "2024-03-30T06:15:10.192750Z",
     "iopub.status.idle": "2024-03-30T06:15:10.200249Z",
     "shell.execute_reply": "2024-03-30T06:15:10.198962Z"
    },
    "papermill": {
     "duration": 0.042314,
     "end_time": "2024-03-30T06:15:10.202987",
     "exception": false,
     "start_time": "2024-03-30T06:15:10.160673",
     "status": "completed"
    },
    "tags": []
   },
   "outputs": [
    {
     "data": {
      "text/plain": [
       "torch.Size([50, 1])"
      ]
     },
     "execution_count": 28,
     "metadata": {},
     "output_type": "execute_result"
    }
   ],
   "source": [
    "y.shape"
   ]
  },
  {
   "cell_type": "code",
   "execution_count": 29,
   "id": "6cdeb1e0",
   "metadata": {
    "execution": {
     "iopub.execute_input": "2024-03-30T06:15:10.266758Z",
     "iopub.status.busy": "2024-03-30T06:15:10.266306Z",
     "iopub.status.idle": "2024-03-30T06:15:10.275112Z",
     "shell.execute_reply": "2024-03-30T06:15:10.274049Z"
    },
    "papermill": {
     "duration": 0.04414,
     "end_time": "2024-03-30T06:15:10.277475",
     "exception": false,
     "start_time": "2024-03-30T06:15:10.233335",
     "status": "completed"
    },
    "tags": []
   },
   "outputs": [
    {
     "data": {
      "text/plain": [
       "(torch.Size([40, 1]), torch.Size([10, 1]))"
      ]
     },
     "execution_count": 29,
     "metadata": {},
     "output_type": "execute_result"
    }
   ],
   "source": [
    "# splitting into training and test sets\n",
    "train_split = int(0.8*len(X))\n",
    "X_train,y_train = X[:train_split],y[:train_split]\n",
    "X_test,y_test = X[train_split:],y[train_split:]\n",
    "X_train.shape,y_test.shape"
   ]
  },
  {
   "cell_type": "code",
   "execution_count": 30,
   "id": "33fccd54",
   "metadata": {
    "execution": {
     "iopub.execute_input": "2024-03-30T06:15:10.341873Z",
     "iopub.status.busy": "2024-03-30T06:15:10.341428Z",
     "iopub.status.idle": "2024-03-30T06:15:10.350436Z",
     "shell.execute_reply": "2024-03-30T06:15:10.348969Z"
    },
    "papermill": {
     "duration": 0.044832,
     "end_time": "2024-03-30T06:15:10.353096",
     "exception": false,
     "start_time": "2024-03-30T06:15:10.308264",
     "status": "completed"
    },
    "tags": []
   },
   "outputs": [],
   "source": [
    "def plo(traind,\n",
    "        trainl,\n",
    "        testd,\n",
    "        testl,\n",
    "        pred=None):\n",
    "    plt.figure(figsize=(10,7))\n",
    "    plt.scatter(traind,trainl,c=\"r\",s=4,label=\"train\")\n",
    "    plt.scatter(testd,testl,c=\"c\",s=3,label=\"test\")\n",
    "    if pred is not None:\n",
    "        plt.scatter(testd,pred,c=\"b\",s=2,label=\"predictions\")\n",
    "    plt.legend(prop={\"size\":14});\n",
    "    "
   ]
  },
  {
   "cell_type": "code",
   "execution_count": 31,
   "id": "ad0ba26c",
   "metadata": {
    "execution": {
     "iopub.execute_input": "2024-03-30T06:15:10.419284Z",
     "iopub.status.busy": "2024-03-30T06:15:10.418884Z",
     "iopub.status.idle": "2024-03-30T06:15:10.885114Z",
     "shell.execute_reply": "2024-03-30T06:15:10.883833Z"
    },
    "papermill": {
     "duration": 0.502618,
     "end_time": "2024-03-30T06:15:10.888238",
     "exception": false,
     "start_time": "2024-03-30T06:15:10.385620",
     "status": "completed"
    },
    "tags": []
   },
   "outputs": [
    {
     "data": {
      "image/png": "[encoded data removed]",
      "text/plain": [
       "<Figure size 1000x700 with 1 Axes>"
      ]
     },
     "metadata": {},
     "output_type": "display_data"
    }
   ],
   "source": [
    "plo(X_train,y_train,X_test,y_test)"
   ]
  },
  {
   "cell_type": "markdown",
   "id": "0297de55",
   "metadata": {
    "papermill": {
     "duration": 0.030682,
     "end_time": "2024-03-30T06:15:10.951261",
     "exception": false,
     "start_time": "2024-03-30T06:15:10.920579",
     "status": "completed"
    },
    "tags": []
   },
   "source": [
    "### Creating the model"
   ]
  },
  {
   "cell_type": "code",
   "execution_count": 32,
   "id": "4fa61659",
   "metadata": {
    "execution": {
     "iopub.execute_input": "2024-03-30T06:15:11.015627Z",
     "iopub.status.busy": "2024-03-30T06:15:11.015145Z",
     "iopub.status.idle": "2024-03-30T06:15:11.022530Z",
     "shell.execute_reply": "2024-03-30T06:15:11.021625Z"
    },
    "papermill": {
     "duration": 0.042171,
     "end_time": "2024-03-30T06:15:11.024530",
     "exception": false,
     "start_time": "2024-03-30T06:15:10.982359",
     "status": "completed"
    },
    "tags": []
   },
   "outputs": [],
   "source": [
    "class LinearRegressionModel(nn.Module): # <- almost everything in PyTorch is a nn.Module (think of this as neural network lego blocks)\n",
    "    def __init__(self):\n",
    "        super().__init__() \n",
    "        self.weights = nn.Parameter(torch.randn(1, # <- start with random weights (this will get adjusted as the model learns)\n",
    "                                                dtype=torch.float), # <- PyTorch loves float32 by default\n",
    "                                   requires_grad=True) # <- can we update this value with gradient descent?)\n",
    "\n",
    "        self.bias = nn.Parameter(torch.randn(1, # <- start with random bias (this will get adjusted as the model learns)\n",
    "                                            dtype=torch.float), # <- PyTorch loves float32 by default\n",
    "                                requires_grad=True) # <- can we update this value with gradient descent?))\n",
    "\n",
    "    # Forward defines the computation in the model\n",
    "    def forward(self, x: torch.Tensor) -> torch.Tensor: # <- \"x\" is the input data (e.g. training/testing features)\n",
    "        return self.weights * x + self.bias # <- this is the linear regression formula (y = m*x + b)"
   ]
  },
  {
   "cell_type": "code",
   "execution_count": 33,
   "id": "30946b9a",
   "metadata": {
    "execution": {
     "iopub.execute_input": "2024-03-30T06:15:11.089908Z",
     "iopub.status.busy": "2024-03-30T06:15:11.089019Z",
     "iopub.status.idle": "2024-03-30T06:15:11.102084Z",
     "shell.execute_reply": "2024-03-30T06:15:11.100262Z"
    },
    "papermill": {
     "duration": 0.049113,
     "end_time": "2024-03-30T06:15:11.105192",
     "exception": false,
     "start_time": "2024-03-30T06:15:11.056079",
     "status": "completed"
    },
    "tags": []
   },
   "outputs": [
    {
     "data": {
      "text/plain": [
       "[Parameter containing:\n",
       " tensor([0.3367], requires_grad=True),\n",
       " Parameter containing:\n",
       " tensor([0.1288], requires_grad=True)]"
      ]
     },
     "execution_count": 33,
     "metadata": {},
     "output_type": "execute_result"
    }
   ],
   "source": [
    "torch.manual_seed(42)\n",
    "mod = LinearRegressionModel()\n",
    "list(mod.parameters())"
   ]
  },
  {
   "cell_type": "code",
   "execution_count": 34,
   "id": "8f04f296",
   "metadata": {
    "execution": {
     "iopub.execute_input": "2024-03-30T06:15:11.172761Z",
     "iopub.status.busy": "2024-03-30T06:15:11.172298Z",
     "iopub.status.idle": "2024-03-30T06:15:11.182403Z",
     "shell.execute_reply": "2024-03-30T06:15:11.181478Z"
    },
    "papermill": {
     "duration": 0.045654,
     "end_time": "2024-03-30T06:15:11.184682",
     "exception": false,
     "start_time": "2024-03-30T06:15:11.139028",
     "status": "completed"
    },
    "tags": []
   },
   "outputs": [
    {
     "data": {
      "text/plain": [
       "OrderedDict([('weights', tensor([0.3367])), ('bias', tensor([0.1288]))])"
      ]
     },
     "execution_count": 34,
     "metadata": {},
     "output_type": "execute_result"
    }
   ],
   "source": [
    " mod.state_dict()"
   ]
  },
  {
   "cell_type": "markdown",
   "id": "d1de1064",
   "metadata": {
    "papermill": {
     "duration": 0.031635,
     "end_time": "2024-03-30T06:15:11.248122",
     "exception": false,
     "start_time": "2024-03-30T06:15:11.216487",
     "status": "completed"
    },
    "tags": []
   },
   "source": [
    "## using torch.inference_mode() to make predictiions"
   ]
  },
  {
   "cell_type": "code",
   "execution_count": 35,
   "id": "2f4a917a",
   "metadata": {
    "execution": {
     "iopub.execute_input": "2024-03-30T06:15:11.317126Z",
     "iopub.status.busy": "2024-03-30T06:15:11.316288Z",
     "iopub.status.idle": "2024-03-30T06:15:11.325578Z",
     "shell.execute_reply": "2024-03-30T06:15:11.324522Z"
    },
    "papermill": {
     "duration": 0.046333,
     "end_time": "2024-03-30T06:15:11.328214",
     "exception": false,
     "start_time": "2024-03-30T06:15:11.281881",
     "status": "completed"
    },
    "tags": []
   },
   "outputs": [
    {
     "data": {
      "text/plain": [
       "tensor(0.5358)"
      ]
     },
     "execution_count": 35,
     "metadata": {},
     "output_type": "execute_result"
    }
   ],
   "source": [
    "with torch.inference_mode(): #tells the model to not keep track of the gradient\n",
    "    y_preds = mod(X_test)\n",
    "((abs(y_preds - y_test) / y_test)).mean()"
   ]
  },
  {
   "cell_type": "code",
   "execution_count": 36,
   "id": "09f0b827",
   "metadata": {
    "execution": {
     "iopub.execute_input": "2024-03-30T06:15:11.395122Z",
     "iopub.status.busy": "2024-03-30T06:15:11.393842Z",
     "iopub.status.idle": "2024-03-30T06:15:11.841854Z",
     "shell.execute_reply": "2024-03-30T06:15:11.840392Z"
    },
    "papermill": {
     "duration": 0.48499,
     "end_time": "2024-03-30T06:15:11.844690",
     "exception": false,
     "start_time": "2024-03-30T06:15:11.359700",
     "status": "completed"
    },
    "tags": []
   },
   "outputs": [
    {
     "data": {
      "image/png": "[encoded data removed]",
      "text/plain": [
       "<Figure size 1000x700 with 1 Axes>"
      ]
     },
     "metadata": {},
     "output_type": "display_data"
    }
   ],
   "source": [
    "plo(X_train,y_train,X_test,y_test,y_preds)"
   ]
  },
  {
   "cell_type": "markdown",
   "id": "7c380088",
   "metadata": {
    "papermill": {
     "duration": 0.032022,
     "end_time": "2024-03-30T06:15:11.908889",
     "exception": false,
     "start_time": "2024-03-30T06:15:11.876867",
     "status": "completed"
    },
    "tags": []
   },
   "source": [
    "## training\n",
    "we can measure error using loss functions, cost functions, criterions\n",
    "**optimisers**: take into account previous params and then fixes them to better match"
   ]
  },
  {
   "cell_type": "code",
   "execution_count": 37,
   "id": "7dada384",
   "metadata": {
    "execution": {
     "iopub.execute_input": "2024-03-30T06:15:11.975127Z",
     "iopub.status.busy": "2024-03-30T06:15:11.974725Z",
     "iopub.status.idle": "2024-03-30T06:15:11.984153Z",
     "shell.execute_reply": "2024-03-30T06:15:11.982909Z"
    },
    "papermill": {
     "duration": 0.045657,
     "end_time": "2024-03-30T06:15:11.986932",
     "exception": false,
     "start_time": "2024-03-30T06:15:11.941275",
     "status": "completed"
    },
    "tags": []
   },
   "outputs": [
    {
     "data": {
      "text/plain": [
       "OrderedDict([('weights', tensor([0.3367])), ('bias', tensor([0.1288]))])"
      ]
     },
     "execution_count": 37,
     "metadata": {},
     "output_type": "execute_result"
    }
   ],
   "source": [
    "mod.state_dict()"
   ]
  },
  {
   "cell_type": "code",
   "execution_count": 38,
   "id": "9253f3d7",
   "metadata": {
    "execution": {
     "iopub.execute_input": "2024-03-30T06:15:12.054484Z",
     "iopub.status.busy": "2024-03-30T06:15:12.054064Z",
     "iopub.status.idle": "2024-03-30T06:15:12.061088Z",
     "shell.execute_reply": "2024-03-30T06:15:12.059265Z"
    },
    "papermill": {
     "duration": 0.043781,
     "end_time": "2024-03-30T06:15:12.063832",
     "exception": false,
     "start_time": "2024-03-30T06:15:12.020051",
     "status": "completed"
    },
    "tags": []
   },
   "outputs": [],
   "source": [
    "# setting up loss function\n",
    "loss_fn = nn.L1Loss()\n",
    "# setting up optimiser\n",
    "optimizer = torch.optim.SGD(params=mod.parameters(),lr=0.01,)"
   ]
  },
  {
   "cell_type": "code",
   "execution_count": 39,
   "id": "1ec9aa81",
   "metadata": {
    "execution": {
     "iopub.execute_input": "2024-03-30T06:15:12.131166Z",
     "iopub.status.busy": "2024-03-30T06:15:12.130739Z",
     "iopub.status.idle": "2024-03-30T06:15:12.138348Z",
     "shell.execute_reply": "2024-03-30T06:15:12.137032Z"
    },
    "papermill": {
     "duration": 0.043898,
     "end_time": "2024-03-30T06:15:12.140980",
     "exception": false,
     "start_time": "2024-03-30T06:15:12.097082",
     "status": "completed"
    },
    "tags": []
   },
   "outputs": [
    {
     "data": {
      "text/plain": [
       "SGD (\n",
       "Parameter Group 0\n",
       "    dampening: 0\n",
       "    differentiable: False\n",
       "    foreach: None\n",
       "    lr: 0.01\n",
       "    maximize: False\n",
       "    momentum: 0\n",
       "    nesterov: False\n",
       "    weight_decay: 0\n",
       ")"
      ]
     },
     "execution_count": 39,
     "metadata": {},
     "output_type": "execute_result"
    }
   ],
   "source": [
    "optimizer"
   ]
  },
  {
   "cell_type": "markdown",
   "id": "d1216715",
   "metadata": {
    "papermill": {
     "duration": 0.031933,
     "end_time": "2024-03-30T06:15:12.206819",
     "exception": false,
     "start_time": "2024-03-30T06:15:12.174886",
     "status": "completed"
    },
    "tags": []
   },
   "source": [
    "### Train Test Loop"
   ]
  },
  {
   "cell_type": "code",
   "execution_count": 40,
   "id": "ad619838",
   "metadata": {
    "execution": {
     "iopub.execute_input": "2024-03-30T06:15:12.274038Z",
     "iopub.status.busy": "2024-03-30T06:15:12.273584Z",
     "iopub.status.idle": "2024-03-30T06:15:12.445328Z",
     "shell.execute_reply": "2024-03-30T06:15:12.444124Z"
    },
    "papermill": {
     "duration": 0.208564,
     "end_time": "2024-03-30T06:15:12.448615",
     "exception": false,
     "start_time": "2024-03-30T06:15:12.240051",
     "status": "completed"
    },
    "tags": []
   },
   "outputs": [
    {
     "name": "stdout",
     "output_type": "stream",
     "text": [
      "Loss :0.31288138031959534\n",
      "epoch 0 | loss 0.31288138031959534| test loss 0.48106518387794495 |params:OrderedDict([('weights', tensor([0.3406])), ('bias', tensor([0.1388]))])\n",
      "Loss :0.3013603389263153\n",
      "Loss :0.28983935713768005\n",
      "Loss :0.2783183455467224\n",
      "Loss :0.26679736375808716\n",
      "Loss :0.2552763521671295\n",
      "Loss :0.24375534057617188\n",
      "Loss :0.23223432898521423\n",
      "Loss :0.22071333229541779\n",
      "Loss :0.20919232070446014\n",
      "Loss :0.1976713240146637\n",
      "epoch 10 | loss 0.1976713240146637| test loss 0.3463551998138428 |params:OrderedDict([('weights', tensor([0.3796])), ('bias', tensor([0.2388]))])\n",
      "Loss :0.18615034222602844\n",
      "Loss :0.1746293306350708\n",
      "Loss :0.16310831904411316\n",
      "Loss :0.1515873372554779\n",
      "Loss :0.14006635546684265\n",
      "Loss :0.1285453587770462\n",
      "Loss :0.11702437698841095\n",
      "Loss :0.1060912236571312\n",
      "Loss :0.09681284427642822\n",
      "Loss :0.08908725529909134\n",
      "epoch 20 | loss 0.08908725529909134| test loss 0.21729660034179688 |params:OrderedDict([('weights', tensor([0.4184])), ('bias', tensor([0.3333]))])\n",
      "Loss :0.08227583020925522\n",
      "Loss :0.07638873159885406\n",
      "Loss :0.07160007208585739\n",
      "Loss :0.06747635453939438\n",
      "Loss :0.06395438313484192\n",
      "Loss :0.06097004935145378\n",
      "Loss :0.05845819041132927\n",
      "Loss :0.05635259300470352\n",
      "Loss :0.0545857772231102\n",
      "Loss :0.053148526698350906\n",
      "epoch 30 | loss 0.053148526698350906| test loss 0.14464017748832703 |params:OrderedDict([('weights', tensor([0.4512])), ('bias', tensor([0.3768]))])\n",
      "Loss :0.05181945487856865\n",
      "Loss :0.05069301277399063\n",
      "Loss :0.0498228520154953\n",
      "Loss :0.04895269125699997\n",
      "Loss :0.04819351062178612\n",
      "Loss :0.047531817108392715\n",
      "Loss :0.04692792519927025\n",
      "Loss :0.04642331600189209\n",
      "Loss :0.04591871052980423\n",
      "Loss :0.04543796554207802\n",
      "epoch 40 | loss 0.04543796554207802| test loss 0.11360953003168106 |params:OrderedDict([('weights', tensor([0.4748])), ('bias', tensor([0.3868]))])\n",
      "Loss :0.04503796249628067\n",
      "Loss :0.04463795945048332\n",
      "Loss :0.04423796385526657\n",
      "Loss :0.04383796453475952\n",
      "Loss :0.04343796148896217\n",
      "Loss :0.043074630200862885\n",
      "Loss :0.04272563382983208\n",
      "Loss :0.04237663000822067\n",
      "Loss :0.04202762991189957\n",
      "Loss :0.04167863354086876\n",
      "epoch 50 | loss 0.04167863354086876| test loss 0.09919948130846024 |params:OrderedDict([('weights', tensor([0.4938])), ('bias', tensor([0.3843]))])\n",
      "Loss :0.04132963344454765\n",
      "Loss :0.04098063334822655\n",
      "Loss :0.04063162952661514\n",
      "Loss :0.040282636880874634\n",
      "Loss :0.039933640509843826\n",
      "Loss :0.03958464413881302\n",
      "Loss :0.03923564404249191\n",
      "Loss :0.03888664394617081\n",
      "Loss :0.0385376438498497\n",
      "Loss :0.03818932920694351\n",
      "epoch 60 | loss 0.03818932920694351| test loss 0.08886633068323135 |params:OrderedDict([('weights', tensor([0.5116])), ('bias', tensor([0.3788]))])\n",
      "Loss :0.03785243630409241\n",
      "Loss :0.0375034399330616\n",
      "Loss :0.037164121866226196\n",
      "Loss :0.03681822493672371\n",
      "Loss :0.03647511452436447\n",
      "Loss :0.03613303601741791\n",
      "Loss :0.03578609973192215\n",
      "Loss :0.03544783592224121\n",
      "Loss :0.035098835825920105\n",
      "Loss :0.03476089984178543\n",
      "epoch 70 | loss 0.03476089984178543| test loss 0.0805937647819519 |params:OrderedDict([('weights', tensor([0.5288])), ('bias', tensor([0.3718]))])\n",
      "Loss :0.03441363573074341\n",
      "Loss :0.03407188132405281\n",
      "Loss :0.03372843936085701\n",
      "Loss :0.03338287025690079\n",
      "Loss :0.033043231815099716\n",
      "Loss :0.03269423171877861\n",
      "Loss :0.032357655465602875\n",
      "Loss :0.03200903534889221\n",
      "Loss :0.03166864812374115\n",
      "Loss :0.03132382780313492\n",
      "epoch 80 | loss 0.03132382780313492| test loss 0.07232122868299484 |params:OrderedDict([('weights', tensor([0.5459])), ('bias', tensor([0.3648]))])\n",
      "Loss :0.030979642644524574\n",
      "Loss :0.030638623982667923\n",
      "Loss :0.0302906334400177\n",
      "Loss :0.029953425750136375\n",
      "Loss :0.02960442565381527\n",
      "Loss :0.029265418648719788\n",
      "Loss :0.028919223695993423\n",
      "Loss :0.028576409444212914\n",
      "Loss :0.028234025463461876\n",
      "Loss :0.02788739837706089\n",
      "epoch 90 | loss 0.02788739837706089| test loss 0.06473556160926819 |params:OrderedDict([('weights', tensor([0.5629])), ('bias', tensor([0.3573]))])\n",
      "Loss :0.02754882536828518\n",
      "Loss :0.027199819684028625\n",
      "Loss :0.026862185448408127\n",
      "Loss :0.02651461586356163\n",
      "Loss :0.026173178106546402\n",
      "Loss :0.025829419493675232\n",
      "Loss :0.02548416517674923\n",
      "Loss :0.025144213810563087\n",
      "Loss :0.02479521557688713\n",
      "Loss :0.024458957836031914\n",
      "epoch 100 | loss 0.024458957836031914| test loss 0.05646304413676262 |params:OrderedDict([('weights', tensor([0.5800])), ('bias', tensor([0.3503]))])\n",
      "Loss :0.024110013619065285\n",
      "Loss :0.02376994863152504\n",
      "Loss :0.02342480979859829\n",
      "Loss :0.023080935701727867\n",
      "Loss :0.022739607840776443\n",
      "Loss :0.022391926497220993\n",
      "Loss :0.022054409608244896\n",
      "Loss :0.02170540764927864\n",
      "Loss :0.021366719156503677\n",
      "Loss :0.021020207554101944\n",
      "epoch 110 | loss 0.021020207554101944| test loss 0.04819049686193466 |params:OrderedDict([('weights', tensor([0.5972])), ('bias', tensor([0.3433]))])\n",
      "Loss :0.020677709951996803\n",
      "Loss :0.02033500373363495\n",
      "Loss :0.01998869702219963\n",
      "Loss :0.019649803638458252\n",
      "Loss :0.019300809130072594\n",
      "Loss :0.018963487818837166\n",
      "Loss :0.01861560344696045\n",
      "Loss :0.018274478614330292\n",
      "Loss :0.017930403351783752\n",
      "Loss :0.01758546568453312\n",
      "epoch 120 | loss 0.01758546568453312| test loss 0.04060482233762741 |params:OrderedDict([('weights', tensor([0.6141])), ('bias', tensor([0.3358]))])\n",
      "Loss :0.017245199531316757\n",
      "Loss :0.016896454617381096\n",
      "Loss :0.01656000316143036\n",
      "Loss :0.016210997477173805\n",
      "Loss :0.01587124727666378\n",
      "Loss :0.015525798313319683\n",
      "Loss :0.015182236209511757\n",
      "Loss :0.014840595424175262\n",
      "Loss :0.01449323259294033\n",
      "Loss :0.014155393466353416\n",
      "epoch 130 | loss 0.014155393466353416| test loss 0.03233227878808975 |params:OrderedDict([('weights', tensor([0.6313])), ('bias', tensor([0.3288]))])\n",
      "Loss :0.013806397095322609\n",
      "Loss :0.013468016870319843\n",
      "Loss :0.013121193274855614\n",
      "Loss :0.01277900766581297\n",
      "Loss :0.012435992248356342\n",
      "Loss :0.01208999752998352\n",
      "Loss :0.011750795878469944\n",
      "Loss :0.011401787400245667\n",
      "Loss :0.011064787395298481\n",
      "Loss :0.010716589167714119\n",
      "epoch 140 | loss 0.010716589167714119| test loss 0.024059748277068138 |params:OrderedDict([('weights', tensor([0.6485])), ('bias', tensor([0.3218]))])\n",
      "Loss :0.010375778190791607\n",
      "Loss :0.010031387209892273\n",
      "Loss :0.009686763398349285\n",
      "Loss :0.009346187114715576\n",
      "Loss :0.008997755125164986\n",
      "Loss :0.008660981431603432\n",
      "Loss :0.008311985060572624\n",
      "Loss :0.007972544990479946\n",
      "Loss :0.007626785431057215\n",
      "Loss :0.0072835334576666355\n",
      "epoch 150 | loss 0.0072835334576666355| test loss 0.016474086791276932 |params:OrderedDict([('weights', tensor([0.6654])), ('bias', tensor([0.3143]))])\n",
      "Loss :0.006941580679267645\n",
      "Loss :0.006594526115804911\n",
      "Loss :0.006256377790123224\n",
      "Loss :0.005907376762479544\n",
      "Loss :0.005569315515458584\n",
      "Loss :0.005222178064286709\n",
      "Loss :0.004880306776612997\n",
      "Loss :0.004536976106464863\n",
      "Loss :0.00419129803776741\n",
      "Loss :0.0038517764769494534\n",
      "epoch 160 | loss 0.0038517764769494534| test loss 0.008201557211577892 |params:OrderedDict([('weights', tensor([0.6826])), ('bias', tensor([0.3073]))])\n",
      "Loss :0.0035027749836444855\n",
      "Loss :0.0031660839449614286\n",
      "Loss :0.002817571861669421\n",
      "Loss :0.0024770735763013363\n",
      "Loss :0.0021323717664927244\n",
      "Loss :0.0017880648374557495\n",
      "Loss :0.0014518328243866563\n",
      "Loss :0.0011887758737429976\n",
      "Loss :0.0025885067880153656\n",
      "Loss :0.008932482451200485\n",
      "epoch 170 | loss 0.008932482451200485| test loss 0.005023092031478882 |params:OrderedDict([('weights', tensor([0.6951])), ('bias', tensor([0.2993]))])\n",
      "Loss :0.0025885067880153656\n",
      "Loss :0.008932482451200485\n",
      "Loss :0.0025885067880153656\n",
      "Loss :0.008932482451200485\n",
      "Loss :0.0025885067880153656\n",
      "Loss :0.008932482451200485\n",
      "Loss :0.0025885067880153656\n",
      "Loss :0.008932482451200485\n",
      "Loss :0.0025885067880153656\n",
      "Loss :0.008932482451200485\n",
      "epoch 180 | loss 0.008932482451200485| test loss 0.005023092031478882 |params:OrderedDict([('weights', tensor([0.6951])), ('bias', tensor([0.2993]))])\n",
      "Loss :0.0025885067880153656\n",
      "Loss :0.008932482451200485\n",
      "Loss :0.0025885067880153656\n",
      "Loss :0.008932482451200485\n",
      "Loss :0.0025885067880153656\n",
      "Loss :0.008932482451200485\n",
      "Loss :0.0025885067880153656\n",
      "Loss :0.008932482451200485\n",
      "Loss :0.0025885067880153656\n",
      "Loss :0.008932482451200485\n",
      "epoch 190 | loss 0.008932482451200485| test loss 0.005023092031478882 |params:OrderedDict([('weights', tensor([0.6951])), ('bias', tensor([0.2993]))])\n",
      "Loss :0.0025885067880153656\n",
      "Loss :0.008932482451200485\n",
      "Loss :0.0025885067880153656\n",
      "Loss :0.008932482451200485\n",
      "Loss :0.0025885067880153656\n",
      "Loss :0.008932482451200485\n",
      "Loss :0.0025885067880153656\n",
      "Loss :0.008932482451200485\n",
      "Loss :0.0025885067880153656\n",
      "Loss :0.008932482451200485\n",
      "epoch 200 | loss 0.008932482451200485| test loss 0.005023092031478882 |params:OrderedDict([('weights', tensor([0.6951])), ('bias', tensor([0.2993]))])\n",
      "Loss :0.0025885067880153656\n",
      "Loss :0.008932482451200485\n",
      "Loss :0.0025885067880153656\n",
      "Loss :0.008932482451200485\n",
      "Loss :0.0025885067880153656\n",
      "Loss :0.008932482451200485\n",
      "Loss :0.0025885067880153656\n",
      "Loss :0.008932482451200485\n",
      "Loss :0.0025885067880153656\n",
      "Loss :0.008932482451200485\n",
      "epoch 210 | loss 0.008932482451200485| test loss 0.005023092031478882 |params:OrderedDict([('weights', tensor([0.6951])), ('bias', tensor([0.2993]))])\n",
      "Loss :0.0025885067880153656\n",
      "Loss :0.008932482451200485\n",
      "Loss :0.0025885067880153656\n",
      "Loss :0.008932482451200485\n",
      "Loss :0.0025885067880153656\n",
      "Loss :0.008932482451200485\n",
      "Loss :0.0025885067880153656\n",
      "Loss :0.008932482451200485\n",
      "Loss :0.0025885067880153656\n",
      "Loss :0.008932482451200485\n",
      "epoch 220 | loss 0.008932482451200485| test loss 0.005023092031478882 |params:OrderedDict([('weights', tensor([0.6951])), ('bias', tensor([0.2993]))])\n",
      "Loss :0.0025885067880153656\n",
      "Loss :0.008932482451200485\n",
      "Loss :0.0025885067880153656\n",
      "Loss :0.008932482451200485\n",
      "Loss :0.0025885067880153656\n",
      "Loss :0.008932482451200485\n",
      "Loss :0.0025885067880153656\n",
      "Loss :0.008932482451200485\n",
      "Loss :0.0025885067880153656\n",
      "Loss :0.008932482451200485\n",
      "epoch 230 | loss 0.008932482451200485| test loss 0.005023092031478882 |params:OrderedDict([('weights', tensor([0.6951])), ('bias', tensor([0.2993]))])\n",
      "Loss :0.0025885067880153656\n",
      "Loss :0.008932482451200485\n",
      "Loss :0.0025885067880153656\n",
      "Loss :0.008932482451200485\n",
      "Loss :0.0025885067880153656\n",
      "Loss :0.008932482451200485\n",
      "Loss :0.0025885067880153656\n",
      "Loss :0.008932482451200485\n",
      "Loss :0.0025885067880153656\n",
      "Loss :0.008932482451200485\n",
      "epoch 240 | loss 0.008932482451200485| test loss 0.005023092031478882 |params:OrderedDict([('weights', tensor([0.6951])), ('bias', tensor([0.2993]))])\n",
      "Loss :0.0025885067880153656\n",
      "Loss :0.008932482451200485\n",
      "Loss :0.0025885067880153656\n",
      "Loss :0.008932482451200485\n",
      "Loss :0.0025885067880153656\n",
      "Loss :0.008932482451200485\n",
      "Loss :0.0025885067880153656\n",
      "Loss :0.008932482451200485\n",
      "Loss :0.0025885067880153656\n",
      "Loss :0.008932482451200485\n",
      "epoch 250 | loss 0.008932482451200485| test loss 0.005023092031478882 |params:OrderedDict([('weights', tensor([0.6951])), ('bias', tensor([0.2993]))])\n",
      "Loss :0.0025885067880153656\n",
      "Loss :0.008932482451200485\n",
      "Loss :0.0025885067880153656\n",
      "Loss :0.008932482451200485\n",
      "Loss :0.0025885067880153656\n",
      "Loss :0.008932482451200485\n",
      "Loss :0.0025885067880153656\n",
      "Loss :0.008932482451200485\n",
      "Loss :0.0025885067880153656\n",
      "Loss :0.008932482451200485\n",
      "epoch 260 | loss 0.008932482451200485| test loss 0.005023092031478882 |params:OrderedDict([('weights', tensor([0.6951])), ('bias', tensor([0.2993]))])\n",
      "Loss :0.0025885067880153656\n",
      "Loss :0.008932482451200485\n",
      "Loss :0.0025885067880153656\n",
      "Loss :0.008932482451200485\n",
      "Loss :0.0025885067880153656\n",
      "Loss :0.008932482451200485\n",
      "Loss :0.0025885067880153656\n",
      "Loss :0.008932482451200485\n",
      "Loss :0.0025885067880153656\n",
      "Loss :0.008932482451200485\n",
      "epoch 270 | loss 0.008932482451200485| test loss 0.005023092031478882 |params:OrderedDict([('weights', tensor([0.6951])), ('bias', tensor([0.2993]))])\n",
      "Loss :0.0025885067880153656\n",
      "Loss :0.008932482451200485\n",
      "Loss :0.0025885067880153656\n",
      "Loss :0.008932482451200485\n",
      "Loss :0.0025885067880153656\n",
      "Loss :0.008932482451200485\n",
      "Loss :0.0025885067880153656\n",
      "Loss :0.008932482451200485\n",
      "Loss :0.0025885067880153656\n",
      "Loss :0.008932482451200485\n",
      "epoch 280 | loss 0.008932482451200485| test loss 0.005023092031478882 |params:OrderedDict([('weights', tensor([0.6951])), ('bias', tensor([0.2993]))])\n",
      "Loss :0.0025885067880153656\n",
      "Loss :0.008932482451200485\n",
      "Loss :0.0025885067880153656\n",
      "Loss :0.008932482451200485\n",
      "Loss :0.0025885067880153656\n",
      "Loss :0.008932482451200485\n",
      "Loss :0.0025885067880153656\n",
      "Loss :0.008932482451200485\n",
      "Loss :0.0025885067880153656\n",
      "Loss :0.008932482451200485\n",
      "epoch 290 | loss 0.008932482451200485| test loss 0.005023092031478882 |params:OrderedDict([('weights', tensor([0.6951])), ('bias', tensor([0.2993]))])\n",
      "Loss :0.0025885067880153656\n",
      "Loss :0.008932482451200485\n",
      "Loss :0.0025885067880153656\n",
      "Loss :0.008932482451200485\n",
      "Loss :0.0025885067880153656\n",
      "Loss :0.008932482451200485\n",
      "Loss :0.0025885067880153656\n",
      "Loss :0.008932482451200485\n",
      "Loss :0.0025885067880153656\n",
      "Loss :0.008932482451200485\n",
      "epoch 300 | loss 0.008932482451200485| test loss 0.005023092031478882 |params:OrderedDict([('weights', tensor([0.6951])), ('bias', tensor([0.2993]))])\n"
     ]
    }
   ],
   "source": [
    "torch.manual_seed(42)\n",
    "#Building a training loop\n",
    "\n",
    "epochs = 301\n",
    "#tracking progress\n",
    "epoch_count = []\n",
    "loss_values=[]\n",
    "test_loss_values=[]\n",
    "\n",
    "# an epoch is a loop through the data\n",
    "# step 0 loop through data\n",
    "for epoch in range(epochs):\n",
    "    #set model to training mode\n",
    "    mod.train()\n",
    "    #forward pass\n",
    "    y_pred = mod(X_train)\n",
    "    #calculate loss\n",
    "    loss = loss_fn(y_pred,y_train)\n",
    "    print(f\"Loss :{loss}\")\n",
    "    #optimizer zero grad\n",
    "    optimizer.zero_grad()\n",
    "    #back propagation\n",
    "    loss.backward()\n",
    "    #perform gradient descent\n",
    "    optimizer.step()\n",
    "    # testing\n",
    "    mod.eval()\n",
    "    with torch.inference_mode():\n",
    "        test_pred = mod(X_test)\n",
    "        test_loss = loss_fn(test_pred,y_test)\n",
    "        if epoch % 10 == 0:\n",
    "            epoch_count.append(epoch)\n",
    "            loss_values.append(loss)\n",
    "            test_loss_values.append(test_loss)\n",
    "            print(f\"epoch {epoch} | loss {loss}| test loss {test_loss} |params:{mod.state_dict()}\")\n",
    "        \n",
    "    "
   ]
  },
  {
   "cell_type": "code",
   "execution_count": 41,
   "id": "4e9fdd5c",
   "metadata": {
    "execution": {
     "iopub.execute_input": "2024-03-30T06:15:12.518128Z",
     "iopub.status.busy": "2024-03-30T06:15:12.517398Z",
     "iopub.status.idle": "2024-03-30T06:15:12.522413Z",
     "shell.execute_reply": "2024-03-30T06:15:12.521520Z"
    },
    "papermill": {
     "duration": 0.043272,
     "end_time": "2024-03-30T06:15:12.524709",
     "exception": false,
     "start_time": "2024-03-30T06:15:12.481437",
     "status": "completed"
    },
    "tags": []
   },
   "outputs": [],
   "source": [
    "#plot loss curves\n"
   ]
  },
  {
   "cell_type": "code",
   "execution_count": 42,
   "id": "0f772cc2",
   "metadata": {
    "execution": {
     "iopub.execute_input": "2024-03-30T06:15:12.592283Z",
     "iopub.status.busy": "2024-03-30T06:15:12.591868Z",
     "iopub.status.idle": "2024-03-30T06:15:13.046007Z",
     "shell.execute_reply": "2024-03-30T06:15:13.044305Z"
    },
    "papermill": {
     "duration": 0.49223,
     "end_time": "2024-03-30T06:15:13.049716",
     "exception": false,
     "start_time": "2024-03-30T06:15:12.557486",
     "status": "completed"
    },
    "tags": []
   },
   "outputs": [
    {
     "data": {
      "image/png": "[encoded data removed]",
      "text/plain": [
       "<Figure size 1000x700 with 1 Axes>"
      ]
     },
     "metadata": {},
     "output_type": "display_data"
    }
   ],
   "source": [
    "plo(X_train,y_train,X_test,y_test,y_preds)"
   ]
  },
  {
   "cell_type": "code",
   "execution_count": 43,
   "id": "45341db6",
   "metadata": {
    "execution": {
     "iopub.execute_input": "2024-03-30T06:15:13.122116Z",
     "iopub.status.busy": "2024-03-30T06:15:13.121679Z",
     "iopub.status.idle": "2024-03-30T06:15:13.128525Z",
     "shell.execute_reply": "2024-03-30T06:15:13.127100Z"
    },
    "papermill": {
     "duration": 0.045186,
     "end_time": "2024-03-30T06:15:13.131362",
     "exception": false,
     "start_time": "2024-03-30T06:15:13.086176",
     "status": "completed"
    },
    "tags": []
   },
   "outputs": [],
   "source": [
    "with torch.inference_mode():\n",
    "    y_preds_new = mod(X_test)"
   ]
  },
  {
   "cell_type": "code",
   "execution_count": 44,
   "id": "c2c005aa",
   "metadata": {
    "execution": {
     "iopub.execute_input": "2024-03-30T06:15:13.215489Z",
     "iopub.status.busy": "2024-03-30T06:15:13.214130Z",
     "iopub.status.idle": "2024-03-30T06:15:13.671475Z",
     "shell.execute_reply": "2024-03-30T06:15:13.670164Z"
    },
    "papermill": {
     "duration": 0.505667,
     "end_time": "2024-03-30T06:15:13.674308",
     "exception": false,
     "start_time": "2024-03-30T06:15:13.168641",
     "status": "completed"
    },
    "tags": []
   },
   "outputs": [
    {
     "data": {
      "image/png": "[encoded data removed]",
      "text/plain": [
       "<Figure size 1000x700 with 1 Axes>"
      ]
     },
     "metadata": {},
     "output_type": "display_data"
    }
   ],
   "source": [
    "plo(X_train,y_train,X_test,y_test,y_preds_new)"
   ]
  },
  {
   "cell_type": "code",
   "execution_count": 45,
   "id": "41a2c7e5",
   "metadata": {
    "execution": {
     "iopub.execute_input": "2024-03-30T06:15:13.745526Z",
     "iopub.status.busy": "2024-03-30T06:15:13.744480Z",
     "iopub.status.idle": "2024-03-30T06:15:14.033605Z",
     "shell.execute_reply": "2024-03-30T06:15:14.032099Z"
    },
    "papermill": {
     "duration": 0.32812,
     "end_time": "2024-03-30T06:15:14.036613",
     "exception": false,
     "start_time": "2024-03-30T06:15:13.708493",
     "status": "completed"
    },
    "tags": []
   },
   "outputs": [
    {
     "data": {
      "text/plain": [
       "[<matplotlib.lines.Line2D at 0x7b0f8d11a9e0>]"
      ]
     },
     "execution_count": 45,
     "metadata": {},
     "output_type": "execute_result"
    },
    {
     "data": {
      "image/png": "[encoded data removed]",
      "text/plain": [
       "<Figure size 640x480 with 1 Axes>"
      ]
     },
     "metadata": {},
     "output_type": "display_data"
    }
   ],
   "source": [
    "import numpy as np\n",
    "plt.plot(epoch_count,np.array(torch.tensor(loss_values).cpu().numpy()),label=\"Train\")\n",
    "plt.plot(epoch_count,test_loss_values,label=\"Test loss\")"
   ]
  },
  {
   "cell_type": "markdown",
   "id": "13797fdb",
   "metadata": {
    "papermill": {
     "duration": 0.034598,
     "end_time": "2024-03-30T06:15:14.106286",
     "exception": false,
     "start_time": "2024-03-30T06:15:14.071688",
     "status": "completed"
    },
    "tags": []
   },
   "source": [
    "## saving a pytorch model\n",
    "\n",
    "three main methods: \n",
    "- torch.save(): save a pytorch object in pythons pickle format\n",
    "- torch.load(): allows you load a saved pytorch object\n",
    "- torch.nn.Module.load_state_dict():this allows to load a model's saved state dictionary\n"
   ]
  },
  {
   "cell_type": "markdown",
   "id": "280bae36",
   "metadata": {
    "papermill": {
     "duration": 0.034689,
     "end_time": "2024-03-30T06:15:14.176606",
     "exception": false,
     "start_time": "2024-03-30T06:15:14.141917",
     "status": "completed"
    },
    "tags": []
   },
   "source": [
    "### Saving & Loading Models"
   ]
  },
  {
   "cell_type": "code",
   "execution_count": 46,
   "id": "b1b42eed",
   "metadata": {
    "execution": {
     "iopub.execute_input": "2024-03-30T06:15:14.246560Z",
     "iopub.status.busy": "2024-03-30T06:15:14.246133Z",
     "iopub.status.idle": "2024-03-30T06:15:14.253187Z",
     "shell.execute_reply": "2024-03-30T06:15:14.252119Z"
    },
    "papermill": {
     "duration": 0.045284,
     "end_time": "2024-03-30T06:15:14.255905",
     "exception": false,
     "start_time": "2024-03-30T06:15:14.210621",
     "status": "completed"
    },
    "tags": []
   },
   "outputs": [],
   "source": [
    "from pathlib import Path\n",
    "mod_name = \"first_pytorch_model.pth\"\n",
    "mod_path = \"/kaggle/working/\"+\"mod_name\"\n",
    "torch.save(mod.state_dict(),mod_path)\n",
    "\n"
   ]
  },
  {
   "cell_type": "code",
   "execution_count": 47,
   "id": "6a2b91fc",
   "metadata": {
    "execution": {
     "iopub.execute_input": "2024-03-30T06:15:14.326592Z",
     "iopub.status.busy": "2024-03-30T06:15:14.326157Z",
     "iopub.status.idle": "2024-03-30T06:15:14.335135Z",
     "shell.execute_reply": "2024-03-30T06:15:14.333959Z"
    },
    "papermill": {
     "duration": 0.047533,
     "end_time": "2024-03-30T06:15:14.337864",
     "exception": false,
     "start_time": "2024-03-30T06:15:14.290331",
     "status": "completed"
    },
    "tags": []
   },
   "outputs": [
    {
     "data": {
      "text/plain": [
       "<All keys matched successfully>"
      ]
     },
     "execution_count": 47,
     "metadata": {},
     "output_type": "execute_result"
    }
   ],
   "source": [
    "loaded_mod = LinearRegressionModel()\n",
    "loaded_mod.load_state_dict(torch.load(mod_path))"
   ]
  },
  {
   "cell_type": "code",
   "execution_count": 48,
   "id": "486f69ab",
   "metadata": {
    "execution": {
     "iopub.execute_input": "2024-03-30T06:15:14.409866Z",
     "iopub.status.busy": "2024-03-30T06:15:14.409411Z",
     "iopub.status.idle": "2024-03-30T06:15:14.418101Z",
     "shell.execute_reply": "2024-03-30T06:15:14.416913Z"
    },
    "papermill": {
     "duration": 0.047642,
     "end_time": "2024-03-30T06:15:14.420766",
     "exception": false,
     "start_time": "2024-03-30T06:15:14.373124",
     "status": "completed"
    },
    "tags": []
   },
   "outputs": [
    {
     "data": {
      "text/plain": [
       "OrderedDict([('weights', tensor([0.6951])), ('bias', tensor([0.2993]))])"
      ]
     },
     "execution_count": 48,
     "metadata": {},
     "output_type": "execute_result"
    }
   ],
   "source": [
    "loaded_mod.state_dict()"
   ]
  },
  {
   "cell_type": "markdown",
   "id": "39276630",
   "metadata": {
    "papermill": {
     "duration": 0.035219,
     "end_time": "2024-03-30T06:15:14.490907",
     "exception": false,
     "start_time": "2024-03-30T06:15:14.455688",
     "status": "completed"
    },
    "tags": []
   },
   "source": [
    "## Device agnostic set-up"
   ]
  },
  {
   "cell_type": "code",
   "execution_count": 49,
   "id": "2b7c00e7",
   "metadata": {
    "execution": {
     "iopub.execute_input": "2024-03-30T06:15:14.563981Z",
     "iopub.status.busy": "2024-03-30T06:15:14.563484Z",
     "iopub.status.idle": "2024-03-30T06:15:14.570652Z",
     "shell.execute_reply": "2024-03-30T06:15:14.569368Z"
    },
    "papermill": {
     "duration": 0.046722,
     "end_time": "2024-03-30T06:15:14.573305",
     "exception": false,
     "start_time": "2024-03-30T06:15:14.526583",
     "status": "completed"
    },
    "tags": []
   },
   "outputs": [
    {
     "name": "stdout",
     "output_type": "stream",
     "text": [
      "using device cpu\n"
     ]
    }
   ],
   "source": [
    "import torch\n",
    "import numpy\n",
    "import matplotlib.pyplot as plt\n",
    "from torch import nn\n",
    "device = \"cuda\" if torch.cuda.is_available() else \"cpu\"\n",
    "print(f\"using device {device}\")"
   ]
  },
  {
   "cell_type": "code",
   "execution_count": 50,
   "id": "2e926ba4",
   "metadata": {
    "execution": {
     "iopub.execute_input": "2024-03-30T06:15:14.645073Z",
     "iopub.status.busy": "2024-03-30T06:15:14.644614Z",
     "iopub.status.idle": "2024-03-30T06:15:14.651087Z",
     "shell.execute_reply": "2024-03-30T06:15:14.649841Z"
    },
    "papermill": {
     "duration": 0.045086,
     "end_time": "2024-03-30T06:15:14.653528",
     "exception": false,
     "start_time": "2024-03-30T06:15:14.608442",
     "status": "completed"
    },
    "tags": []
   },
   "outputs": [],
   "source": [
    "X_train = X_train.to(device)\n",
    "y_train = y_train.to(device)\n",
    "X_test = X_test.to(device)\n",
    "y_test = y_test.to(device)"
   ]
  },
  {
   "cell_type": "code",
   "execution_count": 51,
   "id": "89093766",
   "metadata": {
    "execution": {
     "iopub.execute_input": "2024-03-30T06:15:14.725637Z",
     "iopub.status.busy": "2024-03-30T06:15:14.725201Z",
     "iopub.status.idle": "2024-03-30T06:15:14.732655Z",
     "shell.execute_reply": "2024-03-30T06:15:14.731275Z"
    },
    "papermill": {
     "duration": 0.04638,
     "end_time": "2024-03-30T06:15:14.735246",
     "exception": false,
     "start_time": "2024-03-30T06:15:14.688866",
     "status": "completed"
    },
    "tags": []
   },
   "outputs": [
    {
     "data": {
      "text/plain": [
       "(device(type='cpu'),\n",
       " device(type='cpu'),\n",
       " device(type='cpu'),\n",
       " device(type='cpu'))"
      ]
     },
     "execution_count": 51,
     "metadata": {},
     "output_type": "execute_result"
    }
   ],
   "source": [
    "X_train.device,X_test.device,y_train.device,y_test.device"
   ]
  },
  {
   "cell_type": "code",
   "execution_count": 52,
   "id": "b887d93a",
   "metadata": {
    "execution": {
     "iopub.execute_input": "2024-03-30T06:15:14.806672Z",
     "iopub.status.busy": "2024-03-30T06:15:14.806182Z",
     "iopub.status.idle": "2024-03-30T06:15:14.820567Z",
     "shell.execute_reply": "2024-03-30T06:15:14.819485Z"
    },
    "papermill": {
     "duration": 0.053253,
     "end_time": "2024-03-30T06:15:14.823106",
     "exception": false,
     "start_time": "2024-03-30T06:15:14.769853",
     "status": "completed"
    },
    "tags": []
   },
   "outputs": [
    {
     "data": {
      "text/plain": [
       "(LinearRegression(\n",
       "   (linear_layer): Linear(in_features=1, out_features=1, bias=True)\n",
       " ),\n",
       " OrderedDict([('linear_layer.weight', tensor([[0.7645]])),\n",
       "              ('linear_layer.bias', tensor([0.8300]))]),\n",
       " device(type='cpu'))"
      ]
     },
     "execution_count": 52,
     "metadata": {},
     "output_type": "execute_result"
    }
   ],
   "source": [
    "#you didnt have to do this tbh could have just moved the cpu model to cuda\n",
    "class LinearRegression(nn.Module):\n",
    "    def __init__(self):\n",
    "        super().__init__()\n",
    "        #using nn.Linear() for creating model params\n",
    "        self.linear_layer = nn.Linear(in_features=1,out_features=1)\n",
    "    def forward(self,x: torch.Tensor) -> torch.Tensor:\n",
    "        return self.linear_layer(x)\n",
    "    \n",
    "    \n",
    "torch.manual_seed(42)\n",
    "mod = LinearRegression()\n",
    "mod = mod.to(device)\n",
    "mod,mod.state_dict(),next(mod.parameters()).device\n",
    "        "
   ]
  },
  {
   "cell_type": "code",
   "execution_count": 53,
   "id": "8fbc9cf0",
   "metadata": {
    "execution": {
     "iopub.execute_input": "2024-03-30T06:15:14.897922Z",
     "iopub.status.busy": "2024-03-30T06:15:14.897101Z",
     "iopub.status.idle": "2024-03-30T06:15:14.902948Z",
     "shell.execute_reply": "2024-03-30T06:15:14.902084Z"
    },
    "papermill": {
     "duration": 0.045454,
     "end_time": "2024-03-30T06:15:14.905283",
     "exception": false,
     "start_time": "2024-03-30T06:15:14.859829",
     "status": "completed"
    },
    "tags": []
   },
   "outputs": [],
   "source": [
    "# setting up loss function\n",
    "loss_fn = nn.L1Loss()\n",
    "# setting up optimiser\n",
    "optimizer = torch.optim.SGD(params=mod.parameters(),lr=0.001,)"
   ]
  },
  {
   "cell_type": "code",
   "execution_count": 54,
   "id": "3cde856f",
   "metadata": {
    "execution": {
     "iopub.execute_input": "2024-03-30T06:15:14.978457Z",
     "iopub.status.busy": "2024-03-30T06:15:14.977327Z",
     "iopub.status.idle": "2024-03-30T06:15:15.624159Z",
     "shell.execute_reply": "2024-03-30T06:15:15.622954Z"
    },
    "papermill": {
     "duration": 0.686814,
     "end_time": "2024-03-30T06:15:15.627081",
     "exception": false,
     "start_time": "2024-03-30T06:15:14.940267",
     "status": "completed"
    },
    "tags": []
   },
   "outputs": [
    {
     "name": "stdout",
     "output_type": "stream",
     "text": [
      "Epoch 0 | Training loss 0.5551779866218567 | Test loss 0.5861000418663025 |params:OrderedDict([('linear_layer.weight', tensor([[0.7641]])), ('linear_layer.bias', tensor([0.8290]))])\n",
      "Epoch 10 | Training loss 0.543657124042511 | Test loss 0.5726292729377747 |params:OrderedDict([('linear_layer.weight', tensor([[0.7602]])), ('linear_layer.bias', tensor([0.8190]))])\n",
      "Epoch 20 | Training loss 0.5321362614631653 | Test loss 0.559158444404602 |params:OrderedDict([('linear_layer.weight', tensor([[0.7563]])), ('linear_layer.bias', tensor([0.8090]))])\n",
      "Epoch 30 | Training loss 0.5206153988838196 | Test loss 0.5456877946853638 |params:OrderedDict([('linear_layer.weight', tensor([[0.7524]])), ('linear_layer.bias', tensor([0.7990]))])\n",
      "Epoch 40 | Training loss 0.5090945363044739 | Test loss 0.5322169065475464 |params:OrderedDict([('linear_layer.weight', tensor([[0.7485]])), ('linear_layer.bias', tensor([0.7890]))])\n",
      "Epoch 50 | Training loss 0.4975736737251282 | Test loss 0.518746018409729 |params:OrderedDict([('linear_layer.weight', tensor([[0.7446]])), ('linear_layer.bias', tensor([0.7790]))])\n",
      "Epoch 60 | Training loss 0.48605290055274963 | Test loss 0.505275309085846 |params:OrderedDict([('linear_layer.weight', tensor([[0.7407]])), ('linear_layer.bias', tensor([0.7690]))])\n",
      "Epoch 70 | Training loss 0.47453203797340393 | Test loss 0.49180442094802856 |params:OrderedDict([('linear_layer.weight', tensor([[0.7368]])), ('linear_layer.bias', tensor([0.7590]))])\n",
      "Epoch 80 | Training loss 0.4630111753940582 | Test loss 0.47833362221717834 |params:OrderedDict([('linear_layer.weight', tensor([[0.7329]])), ('linear_layer.bias', tensor([0.7490]))])\n",
      "Epoch 90 | Training loss 0.4514903128147125 | Test loss 0.4648628234863281 |params:OrderedDict([('linear_layer.weight', tensor([[0.7290]])), ('linear_layer.bias', tensor([0.7390]))])\n",
      "Epoch 100 | Training loss 0.4399694502353668 | Test loss 0.4513920247554779 |params:OrderedDict([('linear_layer.weight', tensor([[0.7251]])), ('linear_layer.bias', tensor([0.7290]))])\n",
      "Epoch 110 | Training loss 0.4284486174583435 | Test loss 0.4379211962223053 |params:OrderedDict([('linear_layer.weight', tensor([[0.7212]])), ('linear_layer.bias', tensor([0.7190]))])\n",
      "Epoch 120 | Training loss 0.4169277548789978 | Test loss 0.4244503974914551 |params:OrderedDict([('linear_layer.weight', tensor([[0.7173]])), ('linear_layer.bias', tensor([0.7090]))])\n",
      "Epoch 130 | Training loss 0.4054069519042969 | Test loss 0.41097956895828247 |params:OrderedDict([('linear_layer.weight', tensor([[0.7134]])), ('linear_layer.bias', tensor([0.6990]))])\n",
      "Epoch 140 | Training loss 0.39388611912727356 | Test loss 0.39750874042510986 |params:OrderedDict([('linear_layer.weight', tensor([[0.7095]])), ('linear_layer.bias', tensor([0.6890]))])\n",
      "Epoch 150 | Training loss 0.38236525654792786 | Test loss 0.38403797149658203 |params:OrderedDict([('linear_layer.weight', tensor([[0.7056]])), ('linear_layer.bias', tensor([0.6790]))])\n",
      "Epoch 160 | Training loss 0.37084442377090454 | Test loss 0.37056708335876465 |params:OrderedDict([('linear_layer.weight', tensor([[0.7017]])), ('linear_layer.bias', tensor([0.6690]))])\n",
      "Epoch 170 | Training loss 0.3593235909938812 | Test loss 0.3570963442325592 |params:OrderedDict([('linear_layer.weight', tensor([[0.6978]])), ('linear_layer.bias', tensor([0.6590]))])\n",
      "Epoch 180 | Training loss 0.3478027284145355 | Test loss 0.3436254858970642 |params:OrderedDict([('linear_layer.weight', tensor([[0.6939]])), ('linear_layer.bias', tensor([0.6490]))])\n",
      "Epoch 190 | Training loss 0.3362818658351898 | Test loss 0.3301547169685364 |params:OrderedDict([('linear_layer.weight', tensor([[0.6900]])), ('linear_layer.bias', tensor([0.6390]))])\n",
      "Epoch 200 | Training loss 0.3247610628604889 | Test loss 0.31668391823768616 |params:OrderedDict([('linear_layer.weight', tensor([[0.6861]])), ('linear_layer.bias', tensor([0.6290]))])\n",
      "Epoch 210 | Training loss 0.3132402002811432 | Test loss 0.30321311950683594 |params:OrderedDict([('linear_layer.weight', tensor([[0.6822]])), ('linear_layer.bias', tensor([0.6190]))])\n",
      "Epoch 220 | Training loss 0.3017193675041199 | Test loss 0.28974226117134094 |params:OrderedDict([('linear_layer.weight', tensor([[0.6784]])), ('linear_layer.bias', tensor([0.6090]))])\n",
      "Epoch 230 | Training loss 0.29019850492477417 | Test loss 0.2762715220451355 |params:OrderedDict([('linear_layer.weight', tensor([[0.6745]])), ('linear_layer.bias', tensor([0.5990]))])\n",
      "Epoch 240 | Training loss 0.27867764234542847 | Test loss 0.2628006637096405 |params:OrderedDict([('linear_layer.weight', tensor([[0.6706]])), ('linear_layer.bias', tensor([0.5890]))])\n",
      "Epoch 250 | Training loss 0.26715680956840515 | Test loss 0.2493298500776291 |params:OrderedDict([('linear_layer.weight', tensor([[0.6667]])), ('linear_layer.bias', tensor([0.5790]))])\n",
      "Epoch 260 | Training loss 0.25563594698905945 | Test loss 0.23585903644561768 |params:OrderedDict([('linear_layer.weight', tensor([[0.6628]])), ('linear_layer.bias', tensor([0.5690]))])\n",
      "Epoch 270 | Training loss 0.24411511421203613 | Test loss 0.22238823771476746 |params:OrderedDict([('linear_layer.weight', tensor([[0.6589]])), ('linear_layer.bias', tensor([0.5590]))])\n",
      "Epoch 280 | Training loss 0.232594296336174 | Test loss 0.20891742408275604 |params:OrderedDict([('linear_layer.weight', tensor([[0.6550]])), ('linear_layer.bias', tensor([0.5490]))])\n",
      "Epoch 290 | Training loss 0.2210734337568283 | Test loss 0.19544661045074463 |params:OrderedDict([('linear_layer.weight', tensor([[0.6511]])), ('linear_layer.bias', tensor([0.5390]))])\n",
      "Epoch 300 | Training loss 0.2095526158809662 | Test loss 0.1819758117198944 |params:OrderedDict([('linear_layer.weight', tensor([[0.6472]])), ('linear_layer.bias', tensor([0.5290]))])\n",
      "Epoch 310 | Training loss 0.19803175330162048 | Test loss 0.168504998087883 |params:OrderedDict([('linear_layer.weight', tensor([[0.6433]])), ('linear_layer.bias', tensor([0.5190]))])\n",
      "Epoch 320 | Training loss 0.18651089072227478 | Test loss 0.1550341546535492 |params:OrderedDict([('linear_layer.weight', tensor([[0.6394]])), ('linear_layer.bias', tensor([0.5090]))])\n",
      "Epoch 330 | Training loss 0.17499005794525146 | Test loss 0.14156337082386017 |params:OrderedDict([('linear_layer.weight', tensor([[0.6355]])), ('linear_layer.bias', tensor([0.4990]))])\n",
      "Epoch 340 | Training loss 0.16346919536590576 | Test loss 0.12809252738952637 |params:OrderedDict([('linear_layer.weight', tensor([[0.6316]])), ('linear_layer.bias', tensor([0.4890]))])\n",
      "Epoch 350 | Training loss 0.15194837749004364 | Test loss 0.11462175846099854 |params:OrderedDict([('linear_layer.weight', tensor([[0.6277]])), ('linear_layer.bias', tensor([0.4790]))])\n",
      "Epoch 360 | Training loss 0.14042752981185913 | Test loss 0.10115091502666473 |params:OrderedDict([('linear_layer.weight', tensor([[0.6238]])), ('linear_layer.bias', tensor([0.4690]))])\n",
      "Epoch 370 | Training loss 0.12890668213367462 | Test loss 0.08768012374639511 |params:OrderedDict([('linear_layer.weight', tensor([[0.6199]])), ('linear_layer.bias', tensor([0.4590]))])\n",
      "Epoch 380 | Training loss 0.11738584190607071 | Test loss 0.0742093175649643 |params:OrderedDict([('linear_layer.weight', tensor([[0.6160]])), ('linear_layer.bias', tensor([0.4490]))])\n",
      "Epoch 390 | Training loss 0.1058650016784668 | Test loss 0.060738492757081985 |params:OrderedDict([('linear_layer.weight', tensor([[0.6121]])), ('linear_layer.bias', tensor([0.4390]))])\n",
      "Epoch 400 | Training loss 0.0943441390991211 | Test loss 0.04726767539978027 |params:OrderedDict([('linear_layer.weight', tensor([[0.6082]])), ('linear_layer.bias', tensor([0.4290]))])\n",
      "Epoch 410 | Training loss 0.08282329887151718 | Test loss 0.033796876668930054 |params:OrderedDict([('linear_layer.weight', tensor([[0.6043]])), ('linear_layer.bias', tensor([0.4190]))])\n",
      "Epoch 420 | Training loss 0.07130245864391327 | Test loss 0.020326072350144386 |params:OrderedDict([('linear_layer.weight', tensor([[0.6004]])), ('linear_layer.bias', tensor([0.4090]))])\n",
      "Epoch 430 | Training loss 0.05978161841630936 | Test loss 0.007426714990288019 |params:OrderedDict([('linear_layer.weight', tensor([[0.5965]])), ('linear_layer.bias', tensor([0.3990]))])\n",
      "Epoch 440 | Training loss 0.04826076701283455 | Test loss 0.007407677359879017 |params:OrderedDict([('linear_layer.weight', tensor([[0.5926]])), ('linear_layer.bias', tensor([0.3890]))])\n",
      "Epoch 450 | Training loss 0.0378650426864624 | Test loss 0.0190771222114563 |params:OrderedDict([('linear_layer.weight', tensor([[0.5891]])), ('linear_layer.bias', tensor([0.3796]))])\n",
      "Epoch 460 | Training loss 0.03187794238328934 | Test loss 0.02808508276939392 |params:OrderedDict([('linear_layer.weight', tensor([[0.5872]])), ('linear_layer.bias', tensor([0.3723]))])\n",
      "Epoch 470 | Training loss 0.028469419106841087 | Test loss 0.034487903118133545 |params:OrderedDict([('linear_layer.weight', tensor([[0.5863]])), ('linear_layer.bias', tensor([0.3667]))])\n",
      "Epoch 480 | Training loss 0.026411056518554688 | Test loss 0.03905702754855156 |params:OrderedDict([('linear_layer.weight', tensor([[0.5862]])), ('linear_layer.bias', tensor([0.3622]))])\n",
      "Epoch 490 | Training loss 0.025065984576940536 | Test loss 0.042284976691007614 |params:OrderedDict([('linear_layer.weight', tensor([[0.5866]])), ('linear_layer.bias', tensor([0.3587]))])\n",
      "Epoch 500 | Training loss 0.02415679767727852 | Test loss 0.044561706483364105 |params:OrderedDict([('linear_layer.weight', tensor([[0.5873]])), ('linear_layer.bias', tensor([0.3558]))])\n",
      "Epoch 510 | Training loss 0.023461055010557175 | Test loss 0.04618941619992256 |params:OrderedDict([('linear_layer.weight', tensor([[0.5882]])), ('linear_layer.bias', tensor([0.3533]))])\n",
      "Epoch 520 | Training loss 0.022931063547730446 | Test loss 0.04717463254928589 |params:OrderedDict([('linear_layer.weight', tensor([[0.5893]])), ('linear_layer.bias', tensor([0.3513]))])\n",
      "Epoch 530 | Training loss 0.022473130375146866 | Test loss 0.047666825354099274 |params:OrderedDict([('linear_layer.weight', tensor([[0.5906]])), ('linear_layer.bias', tensor([0.3497]))])\n",
      "Epoch 540 | Training loss 0.022060489282011986 | Test loss 0.047947727143764496 |params:OrderedDict([('linear_layer.weight', tensor([[0.5920]])), ('linear_layer.bias', tensor([0.3482]))])\n",
      "Epoch 550 | Training loss 0.021657321602106094 | Test loss 0.04808936268091202 |params:OrderedDict([('linear_layer.weight', tensor([[0.5934]])), ('linear_layer.bias', tensor([0.3468]))])\n",
      "Epoch 560 | Training loss 0.021304484456777573 | Test loss 0.04767390340566635 |params:OrderedDict([('linear_layer.weight', tensor([[0.5950]])), ('linear_layer.bias', tensor([0.3458]))])\n",
      "Epoch 570 | Training loss 0.0209516528993845 | Test loss 0.04725844785571098 |params:OrderedDict([('linear_layer.weight', tensor([[0.5966]])), ('linear_layer.bias', tensor([0.3448]))])\n",
      "Epoch 580 | Training loss 0.02059881016612053 | Test loss 0.04684300348162651 |params:OrderedDict([('linear_layer.weight', tensor([[0.5982]])), ('linear_layer.bias', tensor([0.3438]))])\n",
      "Epoch 590 | Training loss 0.020245973020792007 | Test loss 0.046427540481090546 |params:OrderedDict([('linear_layer.weight', tensor([[0.5998]])), ('linear_layer.bias', tensor([0.3428]))])\n",
      "Epoch 600 | Training loss 0.019893139600753784 | Test loss 0.046012092381715775 |params:OrderedDict([('linear_layer.weight', tensor([[0.6014]])), ('linear_layer.bias', tensor([0.3418]))])\n",
      "Epoch 610 | Training loss 0.01954030431807041 | Test loss 0.04559662938117981 |params:OrderedDict([('linear_layer.weight', tensor([[0.6030]])), ('linear_layer.bias', tensor([0.3408]))])\n",
      "Epoch 620 | Training loss 0.01919577643275261 | Test loss 0.04483792185783386 |params:OrderedDict([('linear_layer.weight', tensor([[0.6047]])), ('linear_layer.bias', tensor([0.3400]))])\n",
      "Epoch 630 | Training loss 0.018852895125746727 | Test loss 0.044010549783706665 |params:OrderedDict([('linear_layer.weight', tensor([[0.6064]])), ('linear_layer.bias', tensor([0.3393]))])\n",
      "Epoch 640 | Training loss 0.018508991226553917 | Test loss 0.04318317770957947 |params:OrderedDict([('linear_layer.weight', tensor([[0.6081]])), ('linear_layer.bias', tensor([0.3386]))])\n",
      "Epoch 650 | Training loss 0.01816551387310028 | Test loss 0.04242447763681412 |params:OrderedDict([('linear_layer.weight', tensor([[0.6098]])), ('linear_layer.bias', tensor([0.3379]))])\n",
      "Epoch 660 | Training loss 0.01782246306538582 | Test loss 0.04159710556268692 |params:OrderedDict([('linear_layer.weight', tensor([[0.6115]])), ('linear_layer.bias', tensor([0.3372]))])\n",
      "Epoch 670 | Training loss 0.017478549852967262 | Test loss 0.04076974838972092 |params:OrderedDict([('linear_layer.weight', tensor([[0.6132]])), ('linear_layer.bias', tensor([0.3365]))])\n",
      "Epoch 680 | Training loss 0.01713525876402855 | Test loss 0.040011029690504074 |params:OrderedDict([('linear_layer.weight', tensor([[0.6149]])), ('linear_layer.bias', tensor([0.3357]))])\n",
      "Epoch 690 | Training loss 0.016792025417089462 | Test loss 0.03918365761637688 |params:OrderedDict([('linear_layer.weight', tensor([[0.6166]])), ('linear_layer.bias', tensor([0.3350]))])\n",
      "Epoch 700 | Training loss 0.016448121517896652 | Test loss 0.03835631161928177 |params:OrderedDict([('linear_layer.weight', tensor([[0.6183]])), ('linear_layer.bias', tensor([0.3343]))])\n",
      "Epoch 710 | Training loss 0.01610499992966652 | Test loss 0.03759758919477463 |params:OrderedDict([('linear_layer.weight', tensor([[0.6200]])), ('linear_layer.bias', tensor([0.3336]))])\n",
      "Epoch 720 | Training loss 0.015761589631438255 | Test loss 0.03677021712064743 |params:OrderedDict([('linear_layer.weight', tensor([[0.6218]])), ('linear_layer.bias', tensor([0.3329]))])\n",
      "Epoch 730 | Training loss 0.01541768480092287 | Test loss 0.03594285994768143 |params:OrderedDict([('linear_layer.weight', tensor([[0.6235]])), ('linear_layer.bias', tensor([0.3322]))])\n",
      "Epoch 740 | Training loss 0.015074740163981915 | Test loss 0.035184163600206375 |params:OrderedDict([('linear_layer.weight', tensor([[0.6252]])), ('linear_layer.bias', tensor([0.3314]))])\n",
      "Epoch 750 | Training loss 0.014731155708432198 | Test loss 0.0343567430973053 |params:OrderedDict([('linear_layer.weight', tensor([[0.6269]])), ('linear_layer.bias', tensor([0.3307]))])\n",
      "Epoch 760 | Training loss 0.014387348666787148 | Test loss 0.033598072826862335 |params:OrderedDict([('linear_layer.weight', tensor([[0.6286]])), ('linear_layer.bias', tensor([0.3300]))])\n",
      "Epoch 770 | Training loss 0.014044483192265034 | Test loss 0.032770704478025436 |params:OrderedDict([('linear_layer.weight', tensor([[0.6303]])), ('linear_layer.bias', tensor([0.3293]))])\n",
      "Epoch 780 | Training loss 0.013700786046683788 | Test loss 0.031977683305740356 |params:OrderedDict([('linear_layer.weight', tensor([[0.6320]])), ('linear_layer.bias', tensor([0.3285]))])\n",
      "Epoch 790 | Training loss 0.013357451185584068 | Test loss 0.03115031123161316 |params:OrderedDict([('linear_layer.weight', tensor([[0.6337]])), ('linear_layer.bias', tensor([0.3278]))])\n",
      "Epoch 800 | Training loss 0.013013547286391258 | Test loss 0.030322950333356857 |params:OrderedDict([('linear_layer.weight', tensor([[0.6354]])), ('linear_layer.bias', tensor([0.3271]))])\n",
      "Epoch 810 | Training loss 0.012670524418354034 | Test loss 0.029564226046204567 |params:OrderedDict([('linear_layer.weight', tensor([[0.6371]])), ('linear_layer.bias', tensor([0.3264]))])\n",
      "Epoch 820 | Training loss 0.012327016331255436 | Test loss 0.028736865147948265 |params:OrderedDict([('linear_layer.weight', tensor([[0.6388]])), ('linear_layer.bias', tensor([0.3257]))])\n",
      "Epoch 830 | Training loss 0.01198313757777214 | Test loss 0.02797815203666687 |params:OrderedDict([('linear_layer.weight', tensor([[0.6405]])), ('linear_layer.bias', tensor([0.3249]))])\n",
      "Epoch 840 | Training loss 0.011640267446637154 | Test loss 0.027150804176926613 |params:OrderedDict([('linear_layer.weight', tensor([[0.6423]])), ('linear_layer.bias', tensor([0.3242]))])\n",
      "Epoch 850 | Training loss 0.01129657682031393 | Test loss 0.026323432102799416 |params:OrderedDict([('linear_layer.weight', tensor([[0.6440]])), ('linear_layer.bias', tensor([0.3235]))])\n",
      "Epoch 860 | Training loss 0.010952873155474663 | Test loss 0.025564705953001976 |params:OrderedDict([('linear_layer.weight', tensor([[0.6457]])), ('linear_layer.bias', tensor([0.3228]))])\n",
      "Epoch 870 | Training loss 0.010610010474920273 | Test loss 0.024737346917390823 |params:OrderedDict([('linear_layer.weight', tensor([[0.6474]])), ('linear_layer.bias', tensor([0.3221]))])\n",
      "Epoch 880 | Training loss 0.010266144759953022 | Test loss 0.02390999160706997 |params:OrderedDict([('linear_layer.weight', tensor([[0.6491]])), ('linear_layer.bias', tensor([0.3214]))])\n",
      "Epoch 890 | Training loss 0.009922618046402931 | Test loss 0.023151272907853127 |params:OrderedDict([('linear_layer.weight', tensor([[0.6508]])), ('linear_layer.bias', tensor([0.3206]))])\n",
      "Epoch 900 | Training loss 0.009578981436789036 | Test loss 0.022289592772722244 |params:OrderedDict([('linear_layer.weight', tensor([[0.6525]])), ('linear_layer.bias', tensor([0.3200]))])\n",
      "Epoch 910 | Training loss 0.009236056357622147 | Test loss 0.021530885249376297 |params:OrderedDict([('linear_layer.weight', tensor([[0.6542]])), ('linear_layer.bias', tensor([0.3192]))])\n",
      "Epoch 920 | Training loss 0.008892446756362915 | Test loss 0.0207035131752491 |params:OrderedDict([('linear_layer.weight', tensor([[0.6559]])), ('linear_layer.bias', tensor([0.3185]))])\n",
      "Epoch 930 | Training loss 0.008548661135137081 | Test loss 0.019944816827774048 |params:OrderedDict([('linear_layer.weight', tensor([[0.6576]])), ('linear_layer.bias', tensor([0.3178]))])\n",
      "Epoch 940 | Training loss 0.008205791935324669 | Test loss 0.019117433577775955 |params:OrderedDict([('linear_layer.weight', tensor([[0.6593]])), ('linear_layer.bias', tensor([0.3171]))])\n",
      "Epoch 950 | Training loss 0.007862004451453686 | Test loss 0.018290072679519653 |params:OrderedDict([('linear_layer.weight', tensor([[0.6611]])), ('linear_layer.bias', tensor([0.3164]))])\n",
      "Epoch 960 | Training loss 0.007518401835113764 | Test loss 0.017531346529722214 |params:OrderedDict([('linear_layer.weight', tensor([[0.6628]])), ('linear_layer.bias', tensor([0.3156]))])\n",
      "Epoch 970 | Training loss 0.007175474427640438 | Test loss 0.016703998669981956 |params:OrderedDict([('linear_layer.weight', tensor([[0.6645]])), ('linear_layer.bias', tensor([0.3149]))])\n",
      "Epoch 980 | Training loss 0.006831566337496042 | Test loss 0.01587662100791931 |params:OrderedDict([('linear_layer.weight', tensor([[0.6662]])), ('linear_layer.bias', tensor([0.3142]))])\n",
      "Epoch 990 | Training loss 0.0064881471917033195 | Test loss 0.015117925591766834 |params:OrderedDict([('linear_layer.weight', tensor([[0.6679]])), ('linear_layer.bias', tensor([0.3135]))])\n",
      "Epoch 1000 | Training loss 0.006145041435956955 | Test loss 0.014290553517639637 |params:OrderedDict([('linear_layer.weight', tensor([[0.6696]])), ('linear_layer.bias', tensor([0.3128]))])\n",
      "Epoch 1010 | Training loss 0.005801583640277386 | Test loss 0.013497531414031982 |params:OrderedDict([('linear_layer.weight', tensor([[0.6713]])), ('linear_layer.bias', tensor([0.3120]))])\n",
      "Epoch 1020 | Training loss 0.005457866005599499 | Test loss 0.012670164927840233 |params:OrderedDict([('linear_layer.weight', tensor([[0.6730]])), ('linear_layer.bias', tensor([0.3113]))])\n",
      "Epoch 1030 | Training loss 0.0051141902804374695 | Test loss 0.01191144622862339 |params:OrderedDict([('linear_layer.weight', tensor([[0.6747]])), ('linear_layer.bias', tensor([0.3106]))])\n",
      "Epoch 1040 | Training loss 0.004771321080625057 | Test loss 0.011084062047302723 |params:OrderedDict([('linear_layer.weight', tensor([[0.6764]])), ('linear_layer.bias', tensor([0.3099]))])\n",
      "Epoch 1050 | Training loss 0.004427430219948292 | Test loss 0.010256713256239891 |params:OrderedDict([('linear_layer.weight', tensor([[0.6781]])), ('linear_layer.bias', tensor([0.3092]))])\n",
      "Epoch 1060 | Training loss 0.004083932377398014 | Test loss 0.009498000144958496 |params:OrderedDict([('linear_layer.weight', tensor([[0.6798]])), ('linear_layer.bias', tensor([0.3084]))])\n",
      "Epoch 1070 | Training loss 0.0037408978678286076 | Test loss 0.008670640178024769 |params:OrderedDict([('linear_layer.weight', tensor([[0.6816]])), ('linear_layer.bias', tensor([0.3077]))])\n",
      "Epoch 1080 | Training loss 0.003396999789401889 | Test loss 0.00784327369183302 |params:OrderedDict([('linear_layer.weight', tensor([[0.6833]])), ('linear_layer.bias', tensor([0.3070]))])\n",
      "Epoch 1090 | Training loss 0.003053670283406973 | Test loss 0.007084542419761419 |params:OrderedDict([('linear_layer.weight', tensor([[0.6850]])), ('linear_layer.bias', tensor([0.3063]))])\n",
      "Epoch 1100 | Training loss 0.002710457891225815 | Test loss 0.006257194094359875 |params:OrderedDict([('linear_layer.weight', tensor([[0.6867]])), ('linear_layer.bias', tensor([0.3056]))])\n",
      "Epoch 1110 | Training loss 0.0023665553890168667 | Test loss 0.0054298462346196175 |params:OrderedDict([('linear_layer.weight', tensor([[0.6884]])), ('linear_layer.bias', tensor([0.3049]))])\n",
      "Epoch 1120 | Training loss 0.0020234123803675175 | Test loss 0.00467111449688673 |params:OrderedDict([('linear_layer.weight', tensor([[0.6901]])), ('linear_layer.bias', tensor([0.3041]))])\n",
      "Epoch 1130 | Training loss 0.0016797177959233522 | Test loss 0.0038780986797064543 |params:OrderedDict([('linear_layer.weight', tensor([[0.6918]])), ('linear_layer.bias', tensor([0.3034]))])\n",
      "Epoch 1140 | Training loss 0.0013367675710469484 | Test loss 0.0030507384799420834 |params:OrderedDict([('linear_layer.weight', tensor([[0.6935]])), ('linear_layer.bias', tensor([0.3027]))])\n",
      "Epoch 1150 | Training loss 0.0009928576182574034 | Test loss 0.002223366405814886 |params:OrderedDict([('linear_layer.weight', tensor([[0.6952]])), ('linear_layer.bias', tensor([0.3020]))])\n",
      "Epoch 1160 | Training loss 0.000649460416752845 | Test loss 0.0014646530617028475 |params:OrderedDict([('linear_layer.weight', tensor([[0.6969]])), ('linear_layer.bias', tensor([0.3013]))])\n",
      "Epoch 1170 | Training loss 0.00030632613925263286 | Test loss 0.0006372809293679893 |params:OrderedDict([('linear_layer.weight', tensor([[0.6986]])), ('linear_layer.bias', tensor([0.3006]))])\n",
      "Epoch 1180 | Training loss 0.0007765017217025161 | Test loss 0.0006200253847055137 |params:OrderedDict([('linear_layer.weight', tensor([[0.6995]])), ('linear_layer.bias', tensor([0.2998]))])\n",
      "Epoch 1190 | Training loss 0.0007765017217025161 | Test loss 0.0006200253847055137 |params:OrderedDict([('linear_layer.weight', tensor([[0.6995]])), ('linear_layer.bias', tensor([0.2998]))])\n"
     ]
    }
   ],
   "source": [
    "torch.manual_seed(42)\n",
    "epochs = 1200\n",
    "epoch_count=[]\n",
    "loss_values=[]\n",
    "test_loss_values=[]\n",
    "\n",
    "X_train = X_train.to(device)\n",
    "y_train = y_train.to(device)\n",
    "X_test = X_test.to(device)\n",
    "y_test = y_test.to(device)\n",
    "for epoch in range(epochs):\n",
    "    mod.train()\n",
    "    new_pred = mod(X_train)\n",
    "    loss = loss_fn(new_pred,y_train)\n",
    "    optimizer.zero_grad()\n",
    "    loss.backward()\n",
    "    optimizer.step()\n",
    "    mod.eval()\n",
    "    with torch.inference_mode():\n",
    "        test_pred = mod(X_test)\n",
    "        test_loss = loss_fn(test_pred,y_test)\n",
    "        if epoch % 10 == 0:\n",
    "            epoch_count.append(epoch)\n",
    "            loss_values.append(loss)\n",
    "            test_loss_values.append(test_loss)\n",
    "            print(f\"Epoch {epoch} | Training loss {loss} | Test loss {test_loss} |params:{mod.state_dict()}\")\n",
    "            \n",
    "    "
   ]
  },
  {
   "cell_type": "code",
   "execution_count": 55,
   "id": "cf7bcf81",
   "metadata": {
    "execution": {
     "iopub.execute_input": "2024-03-30T06:15:15.700613Z",
     "iopub.status.busy": "2024-03-30T06:15:15.700184Z",
     "iopub.status.idle": "2024-03-30T06:15:15.705742Z",
     "shell.execute_reply": "2024-03-30T06:15:15.704494Z"
    },
    "papermill": {
     "duration": 0.045423,
     "end_time": "2024-03-30T06:15:15.708403",
     "exception": false,
     "start_time": "2024-03-30T06:15:15.662980",
     "status": "completed"
    },
    "tags": []
   },
   "outputs": [],
   "source": [
    "with torch.inference_mode():\n",
    "    y_preds = mod(X_test)"
   ]
  },
  {
   "cell_type": "code",
   "execution_count": 56,
   "id": "cf066058",
   "metadata": {
    "execution": {
     "iopub.execute_input": "2024-03-30T06:15:15.781059Z",
     "iopub.status.busy": "2024-03-30T06:15:15.780610Z",
     "iopub.status.idle": "2024-03-30T06:15:16.253555Z",
     "shell.execute_reply": "2024-03-30T06:15:16.252218Z"
    },
    "papermill": {
     "duration": 0.512568,
     "end_time": "2024-03-30T06:15:16.256314",
     "exception": false,
     "start_time": "2024-03-30T06:15:15.743746",
     "status": "completed"
    },
    "tags": []
   },
   "outputs": [
    {
     "data": {
      "image/png": "[encoded data removed]",
      "text/plain": [
       "<Figure size 1000x700 with 1 Axes>"
      ]
     },
     "metadata": {},
     "output_type": "display_data"
    }
   ],
   "source": [
    "plo(X_train.to(\"cpu\"),y_train.to(\"cpu\"),X_test.to(\"cpu\"),y_test.to(\"cpu\"),y_preds.to(\"cpu\"))"
   ]
  },
  {
   "cell_type": "code",
   "execution_count": 57,
   "id": "efae930b",
   "metadata": {
    "execution": {
     "iopub.execute_input": "2024-03-30T06:15:16.332806Z",
     "iopub.status.busy": "2024-03-30T06:15:16.332342Z",
     "iopub.status.idle": "2024-03-30T06:15:16.630480Z",
     "shell.execute_reply": "2024-03-30T06:15:16.629229Z"
    },
    "papermill": {
     "duration": 0.340325,
     "end_time": "2024-03-30T06:15:16.633355",
     "exception": false,
     "start_time": "2024-03-30T06:15:16.293030",
     "status": "completed"
    },
    "tags": []
   },
   "outputs": [
    {
     "data": {
      "text/plain": [
       "[<matplotlib.lines.Line2D at 0x7b0f8acade70>]"
      ]
     },
     "execution_count": 57,
     "metadata": {},
     "output_type": "execute_result"
    },
    {
     "data": {
      "image/png": "[encoded data removed]",
      "text/plain": [
       "<Figure size 640x480 with 1 Axes>"
      ]
     },
     "metadata": {},
     "output_type": "display_data"
    }
   ],
   "source": [
    "import numpy as np\n",
    "plt.plot(epoch_count,np.array(torch.tensor(loss_values).cpu().numpy()),label=\"Train\")\n",
    "plt.plot(epoch_count,np.array(torch.tensor(test_loss_values).cpu().numpy()),label=\"Test loss\")"
   ]
  },
  {
   "cell_type": "code",
   "execution_count": 58,
   "id": "dcb560fe",
   "metadata": {
    "execution": {
     "iopub.execute_input": "2024-03-30T06:15:16.709324Z",
     "iopub.status.busy": "2024-03-30T06:15:16.708872Z",
     "iopub.status.idle": "2024-03-30T06:15:16.715775Z",
     "shell.execute_reply": "2024-03-30T06:15:16.714524Z"
    },
    "papermill": {
     "duration": 0.048317,
     "end_time": "2024-03-30T06:15:16.718276",
     "exception": false,
     "start_time": "2024-03-30T06:15:16.669959",
     "status": "completed"
    },
    "tags": []
   },
   "outputs": [],
   "source": [
    "model_path = Path(r\"/kaggle/working/\")\n",
    "model_name = \"first_mod_gpu.pth\"\n",
    "model_save_path = model_path/model_name\n",
    "torch.save(mod.state_dict(),model_save_path)"
   ]
  },
  {
   "cell_type": "code",
   "execution_count": 59,
   "id": "2173c985",
   "metadata": {
    "execution": {
     "iopub.execute_input": "2024-03-30T06:15:16.793191Z",
     "iopub.status.busy": "2024-03-30T06:15:16.792732Z",
     "iopub.status.idle": "2024-03-30T06:15:16.805519Z",
     "shell.execute_reply": "2024-03-30T06:15:16.804303Z"
    },
    "papermill": {
     "duration": 0.053666,
     "end_time": "2024-03-30T06:15:16.808383",
     "exception": false,
     "start_time": "2024-03-30T06:15:16.754717",
     "status": "completed"
    },
    "tags": []
   },
   "outputs": [
    {
     "name": "stdout",
     "output_type": "stream",
     "text": [
      "Parameter containing:\n",
      "tensor([[0.6999]], requires_grad=True)\n"
     ]
    },
    {
     "data": {
      "text/plain": [
       "Parameter containing:\n",
       "tensor([[0.6999]], requires_grad=True)"
      ]
     },
     "execution_count": 59,
     "metadata": {},
     "output_type": "execute_result"
    }
   ],
   "source": [
    "model = LinearRegression()\n",
    "model.load_state_dict(torch.load(r\"/kaggle/working/first_mod_gpu.pth\"))\n",
    "model.state_dict()\n",
    "print(next(model.parameters()))\n",
    "model.to(device)\n",
    "next(model.parameters())"
   ]
  },
  {
   "cell_type": "code",
   "execution_count": 60,
   "id": "90cfe018",
   "metadata": {
    "execution": {
     "iopub.execute_input": "2024-03-30T06:15:16.886339Z",
     "iopub.status.busy": "2024-03-30T06:15:16.885902Z",
     "iopub.status.idle": "2024-03-30T06:15:16.899279Z",
     "shell.execute_reply": "2024-03-30T06:15:16.897745Z"
    },
    "papermill": {
     "duration": 0.05595,
     "end_time": "2024-03-30T06:15:16.902263",
     "exception": false,
     "start_time": "2024-03-30T06:15:16.846313",
     "status": "completed"
    },
    "tags": []
   },
   "outputs": [
    {
     "data": {
      "text/plain": [
       "tensor([[True],\n",
       "        [True],\n",
       "        [True],\n",
       "        [True],\n",
       "        [True],\n",
       "        [True],\n",
       "        [True],\n",
       "        [True],\n",
       "        [True],\n",
       "        [True],\n",
       "        [True],\n",
       "        [True],\n",
       "        [True],\n",
       "        [True],\n",
       "        [True],\n",
       "        [True],\n",
       "        [True],\n",
       "        [True],\n",
       "        [True],\n",
       "        [True],\n",
       "        [True],\n",
       "        [True],\n",
       "        [True],\n",
       "        [True],\n",
       "        [True],\n",
       "        [True],\n",
       "        [True],\n",
       "        [True],\n",
       "        [True],\n",
       "        [True],\n",
       "        [True],\n",
       "        [True],\n",
       "        [True],\n",
       "        [True],\n",
       "        [True],\n",
       "        [True],\n",
       "        [True],\n",
       "        [True],\n",
       "        [True],\n",
       "        [True]])"
      ]
     },
     "execution_count": 60,
     "metadata": {},
     "output_type": "execute_result"
    }
   ],
   "source": [
    "with torch.inference_mode():\n",
    "    a = mod(X_train)\n",
    "    b = model(X_train)\n",
    "    \n",
    "a == b"
   ]
  },
  {
   "cell_type": "markdown",
   "id": "5207d999",
   "metadata": {
    "papermill": {
     "duration": 0.037512,
     "end_time": "2024-03-30T06:15:16.977967",
     "exception": false,
     "start_time": "2024-03-30T06:15:16.940455",
     "status": "completed"
    },
    "tags": []
   },
   "source": [
    "## Classification"
   ]
  },
  {
   "cell_type": "code",
   "execution_count": 61,
   "id": "8e29bde1",
   "metadata": {
    "execution": {
     "iopub.execute_input": "2024-03-30T06:15:17.054190Z",
     "iopub.status.busy": "2024-03-30T06:15:17.053789Z",
     "iopub.status.idle": "2024-03-30T06:15:18.815222Z",
     "shell.execute_reply": "2024-03-30T06:15:18.814146Z"
    },
    "papermill": {
     "duration": 1.802685,
     "end_time": "2024-03-30T06:15:18.817855",
     "exception": false,
     "start_time": "2024-03-30T06:15:17.015170",
     "status": "completed"
    },
    "tags": []
   },
   "outputs": [],
   "source": [
    "import torch\n",
    "import sklearn\n",
    "from sklearn.datasets import make_circles\n",
    "from torch import nn"
   ]
  },
  {
   "cell_type": "code",
   "execution_count": 62,
   "id": "8f844e94",
   "metadata": {
    "execution": {
     "iopub.execute_input": "2024-03-30T06:15:18.894609Z",
     "iopub.status.busy": "2024-03-30T06:15:18.893834Z",
     "iopub.status.idle": "2024-03-30T06:15:18.900056Z",
     "shell.execute_reply": "2024-03-30T06:15:18.899092Z"
    },
    "papermill": {
     "duration": 0.047335,
     "end_time": "2024-03-30T06:15:18.902682",
     "exception": false,
     "start_time": "2024-03-30T06:15:18.855347",
     "status": "completed"
    },
    "tags": []
   },
   "outputs": [],
   "source": [
    "n_samples = 1000\n",
    "X,y = make_circles(n_samples, noise=0.03,random_state=42)"
   ]
  },
  {
   "cell_type": "code",
   "execution_count": 63,
   "id": "8a45c9ec",
   "metadata": {
    "execution": {
     "iopub.execute_input": "2024-03-30T06:15:18.980214Z",
     "iopub.status.busy": "2024-03-30T06:15:18.979163Z",
     "iopub.status.idle": "2024-03-30T06:15:18.989379Z",
     "shell.execute_reply": "2024-03-30T06:15:18.988023Z"
    },
    "papermill": {
     "duration": 0.05149,
     "end_time": "2024-03-30T06:15:18.992165",
     "exception": false,
     "start_time": "2024-03-30T06:15:18.940675",
     "status": "completed"
    },
    "tags": []
   },
   "outputs": [
    {
     "name": "stdout",
     "output_type": "stream",
     "text": [
      "[[ 0.75424625  0.23148074]\n",
      " [-0.75615888  0.15325888]\n",
      " [-0.81539193  0.17328203]\n",
      " [-0.39373073  0.69288277]\n",
      " [ 0.44220765 -0.89672343]]\n"
     ]
    },
    {
     "data": {
      "text/plain": [
       "(None, array([1, 1, 1, 1, 0]), array([0, 1]))"
      ]
     },
     "execution_count": 63,
     "metadata": {},
     "output_type": "execute_result"
    }
   ],
   "source": [
    "import numpy as np\n",
    "print(X[:5]),y[:5],np.unique(y)"
   ]
  },
  {
   "cell_type": "code",
   "execution_count": 64,
   "id": "ad278ae1",
   "metadata": {
    "execution": {
     "iopub.execute_input": "2024-03-30T06:15:19.071170Z",
     "iopub.status.busy": "2024-03-30T06:15:19.069677Z",
     "iopub.status.idle": "2024-03-30T06:15:19.082340Z",
     "shell.execute_reply": "2024-03-30T06:15:19.080435Z"
    },
    "papermill": {
     "duration": 0.055015,
     "end_time": "2024-03-30T06:15:19.085368",
     "exception": false,
     "start_time": "2024-03-30T06:15:19.030353",
     "status": "completed"
    },
    "tags": []
   },
   "outputs": [],
   "source": [
    "import pandas as pd\n",
    "circles = pd.DataFrame({\"X1\":X[:,0],\n",
    "                       \"X2\":X[:,1],\n",
    "                       \"y\":y})"
   ]
  },
  {
   "cell_type": "code",
   "execution_count": 65,
   "id": "69709c69",
   "metadata": {
    "execution": {
     "iopub.execute_input": "2024-03-30T06:15:19.164449Z",
     "iopub.status.busy": "2024-03-30T06:15:19.164000Z",
     "iopub.status.idle": "2024-03-30T06:15:19.189214Z",
     "shell.execute_reply": "2024-03-30T06:15:19.187643Z"
    },
    "papermill": {
     "duration": 0.069384,
     "end_time": "2024-03-30T06:15:19.192061",
     "exception": false,
     "start_time": "2024-03-30T06:15:19.122677",
     "status": "completed"
    },
    "tags": []
   },
   "outputs": [
    {
     "data": {
      "text/html": [
       "<div>\n",
       "<style scoped>\n",
       "    .dataframe tbody tr th:only-of-type {\n",
       "        vertical-align: middle;\n",
       "    }\n",
       "\n",
       "    .dataframe tbody tr th {\n",
       "        vertical-align: top;\n",
       "    }\n",
       "\n",
       "    .dataframe thead th {\n",
       "        text-align: right;\n",
       "    }\n",
       "</style>\n",
       "<table border=\"1\" class=\"dataframe\">\n",
       "  <thead>\n",
       "    <tr style=\"text-align: right;\">\n",
       "      <th></th>\n",
       "      <th>X1</th>\n",
       "      <th>X2</th>\n",
       "      <th>y</th>\n",
       "    </tr>\n",
       "  </thead>\n",
       "  <tbody>\n",
       "    <tr>\n",
       "      <th>0</th>\n",
       "      <td>0.754246</td>\n",
       "      <td>0.231481</td>\n",
       "      <td>1</td>\n",
       "    </tr>\n",
       "    <tr>\n",
       "      <th>1</th>\n",
       "      <td>-0.756159</td>\n",
       "      <td>0.153259</td>\n",
       "      <td>1</td>\n",
       "    </tr>\n",
       "    <tr>\n",
       "      <th>2</th>\n",
       "      <td>-0.815392</td>\n",
       "      <td>0.173282</td>\n",
       "      <td>1</td>\n",
       "    </tr>\n",
       "    <tr>\n",
       "      <th>3</th>\n",
       "      <td>-0.393731</td>\n",
       "      <td>0.692883</td>\n",
       "      <td>1</td>\n",
       "    </tr>\n",
       "    <tr>\n",
       "      <th>4</th>\n",
       "      <td>0.442208</td>\n",
       "      <td>-0.896723</td>\n",
       "      <td>0</td>\n",
       "    </tr>\n",
       "    <tr>\n",
       "      <th>5</th>\n",
       "      <td>-0.479646</td>\n",
       "      <td>0.676435</td>\n",
       "      <td>1</td>\n",
       "    </tr>\n",
       "    <tr>\n",
       "      <th>6</th>\n",
       "      <td>-0.013648</td>\n",
       "      <td>0.803349</td>\n",
       "      <td>1</td>\n",
       "    </tr>\n",
       "    <tr>\n",
       "      <th>7</th>\n",
       "      <td>0.771513</td>\n",
       "      <td>0.147760</td>\n",
       "      <td>1</td>\n",
       "    </tr>\n",
       "  </tbody>\n",
       "</table>\n",
       "</div>"
      ],
      "text/plain": [
       "         X1        X2  y\n",
       "0  0.754246  0.231481  1\n",
       "1 -0.756159  0.153259  1\n",
       "2 -0.815392  0.173282  1\n",
       "3 -0.393731  0.692883  1\n",
       "4  0.442208 -0.896723  0\n",
       "5 -0.479646  0.676435  1\n",
       "6 -0.013648  0.803349  1\n",
       "7  0.771513  0.147760  1"
      ]
     },
     "execution_count": 65,
     "metadata": {},
     "output_type": "execute_result"
    }
   ],
   "source": [
    "circles.head(8)"
   ]
  },
  {
   "cell_type": "code",
   "execution_count": 66,
   "id": "575107fc",
   "metadata": {
    "execution": {
     "iopub.execute_input": "2024-03-30T06:15:19.269851Z",
     "iopub.status.busy": "2024-03-30T06:15:19.269382Z",
     "iopub.status.idle": "2024-03-30T06:15:19.278539Z",
     "shell.execute_reply": "2024-03-30T06:15:19.277391Z"
    },
    "papermill": {
     "duration": 0.051047,
     "end_time": "2024-03-30T06:15:19.281300",
     "exception": false,
     "start_time": "2024-03-30T06:15:19.230253",
     "status": "completed"
    },
    "tags": []
   },
   "outputs": [
    {
     "data": {
      "text/plain": [
       "0    0.754246\n",
       "1   -0.756159\n",
       "2   -0.815392\n",
       "3   -0.393731\n",
       "4    0.442208\n",
       "Name: X1, dtype: float64"
      ]
     },
     "execution_count": 66,
     "metadata": {},
     "output_type": "execute_result"
    }
   ],
   "source": [
    "circles[\"X1\"].head()"
   ]
  },
  {
   "cell_type": "code",
   "execution_count": 67,
   "id": "88a386c5",
   "metadata": {
    "execution": {
     "iopub.execute_input": "2024-03-30T06:15:19.362136Z",
     "iopub.status.busy": "2024-03-30T06:15:19.361642Z",
     "iopub.status.idle": "2024-03-30T06:15:19.646449Z",
     "shell.execute_reply": "2024-03-30T06:15:19.644958Z"
    },
    "papermill": {
     "duration": 0.327848,
     "end_time": "2024-03-30T06:15:19.649153",
     "exception": false,
     "start_time": "2024-03-30T06:15:19.321305",
     "status": "completed"
    },
    "tags": []
   },
   "outputs": [
    {
     "data": {
      "image/png": "[encoded data removed]",
      "text/plain": [
       "<Figure size 640x480 with 1 Axes>"
      ]
     },
     "metadata": {},
     "output_type": "display_data"
    }
   ],
   "source": [
    "import matplotlib.pyplot as plt\n",
    "plt.scatter(x=circles[\"X1\"],\n",
    "           y=circles[\"X2\"],\n",
    "                    c=y,\n",
    "                    cmap = plt.cm.RdYlBu)\n",
    "plt.show()\n"
   ]
  },
  {
   "cell_type": "code",
   "execution_count": 68,
   "id": "6d850637",
   "metadata": {
    "execution": {
     "iopub.execute_input": "2024-03-30T06:15:19.729831Z",
     "iopub.status.busy": "2024-03-30T06:15:19.729334Z",
     "iopub.status.idle": "2024-03-30T06:15:19.735523Z",
     "shell.execute_reply": "2024-03-30T06:15:19.734452Z"
    },
    "papermill": {
     "duration": 0.049282,
     "end_time": "2024-03-30T06:15:19.737994",
     "exception": false,
     "start_time": "2024-03-30T06:15:19.688712",
     "status": "completed"
    },
    "tags": []
   },
   "outputs": [],
   "source": [
    "X = torch.from_numpy(X).type(torch.float)\n",
    "y = torch.from_numpy(y).type(torch.float)"
   ]
  },
  {
   "cell_type": "code",
   "execution_count": 69,
   "id": "4c7dff83",
   "metadata": {
    "execution": {
     "iopub.execute_input": "2024-03-30T06:15:19.818720Z",
     "iopub.status.busy": "2024-03-30T06:15:19.818300Z",
     "iopub.status.idle": "2024-03-30T06:15:19.826251Z",
     "shell.execute_reply": "2024-03-30T06:15:19.824943Z"
    },
    "papermill": {
     "duration": 0.051064,
     "end_time": "2024-03-30T06:15:19.828668",
     "exception": false,
     "start_time": "2024-03-30T06:15:19.777604",
     "status": "completed"
    },
    "tags": []
   },
   "outputs": [
    {
     "data": {
      "text/plain": [
       "(torch.float32, torch.float32)"
      ]
     },
     "execution_count": 69,
     "metadata": {},
     "output_type": "execute_result"
    }
   ],
   "source": [
    "X.dtype,y.dtype"
   ]
  },
  {
   "cell_type": "code",
   "execution_count": 70,
   "id": "d725ab4d",
   "metadata": {
    "execution": {
     "iopub.execute_input": "2024-03-30T06:15:19.912347Z",
     "iopub.status.busy": "2024-03-30T06:15:19.911914Z",
     "iopub.status.idle": "2024-03-30T06:15:20.059302Z",
     "shell.execute_reply": "2024-03-30T06:15:20.057959Z"
    },
    "papermill": {
     "duration": 0.192495,
     "end_time": "2024-03-30T06:15:20.062068",
     "exception": false,
     "start_time": "2024-03-30T06:15:19.869573",
     "status": "completed"
    },
    "tags": []
   },
   "outputs": [],
   "source": [
    "from sklearn.model_selection import train_test_split\n",
    "\n",
    "x_train,x_test,y_train,y_test = train_test_split(X,y,test_size=0.2,random_state=42)"
   ]
  },
  {
   "cell_type": "code",
   "execution_count": 71,
   "id": "3954705f",
   "metadata": {
    "execution": {
     "iopub.execute_input": "2024-03-30T06:15:20.142510Z",
     "iopub.status.busy": "2024-03-30T06:15:20.142070Z",
     "iopub.status.idle": "2024-03-30T06:15:20.152753Z",
     "shell.execute_reply": "2024-03-30T06:15:20.148989Z"
    },
    "papermill": {
     "duration": 0.0545,
     "end_time": "2024-03-30T06:15:20.155882",
     "exception": false,
     "start_time": "2024-03-30T06:15:20.101382",
     "status": "completed"
    },
    "tags": []
   },
   "outputs": [
    {
     "data": {
      "text/plain": [
       "(torch.Size([200, 2]), torch.Size([200]))"
      ]
     },
     "execution_count": 71,
     "metadata": {},
     "output_type": "execute_result"
    }
   ],
   "source": [
    "x_test.shape,y_test.shape"
   ]
  },
  {
   "cell_type": "code",
   "execution_count": 72,
   "id": "582374a1",
   "metadata": {
    "execution": {
     "iopub.execute_input": "2024-03-30T06:15:20.237634Z",
     "iopub.status.busy": "2024-03-30T06:15:20.236956Z",
     "iopub.status.idle": "2024-03-30T06:15:20.244252Z",
     "shell.execute_reply": "2024-03-30T06:15:20.242753Z"
    },
    "papermill": {
     "duration": 0.051089,
     "end_time": "2024-03-30T06:15:20.246797",
     "exception": false,
     "start_time": "2024-03-30T06:15:20.195708",
     "status": "completed"
    },
    "tags": []
   },
   "outputs": [
    {
     "name": "stdout",
     "output_type": "stream",
     "text": [
      "Currently working on the cpu\n"
     ]
    }
   ],
   "source": [
    "device = \"cuda\" if torch.cuda.is_available() else \"cpu\"\n",
    "print(f\"Currently working on the {device}\")"
   ]
  },
  {
   "cell_type": "code",
   "execution_count": 73,
   "id": "6883b1ad",
   "metadata": {
    "execution": {
     "iopub.execute_input": "2024-03-30T06:15:20.330924Z",
     "iopub.status.busy": "2024-03-30T06:15:20.330487Z",
     "iopub.status.idle": "2024-03-30T06:15:20.343232Z",
     "shell.execute_reply": "2024-03-30T06:15:20.341777Z"
    },
    "papermill": {
     "duration": 0.058763,
     "end_time": "2024-03-30T06:15:20.346095",
     "exception": false,
     "start_time": "2024-03-30T06:15:20.287332",
     "status": "completed"
    },
    "tags": []
   },
   "outputs": [
    {
     "data": {
      "text/plain": [
       "CircleModel(\n",
       "  (layer_1): Linear(in_features=2, out_features=8, bias=True)\n",
       "  (layer_2): Linear(in_features=8, out_features=1, bias=True)\n",
       ")"
      ]
     },
     "execution_count": 73,
     "metadata": {},
     "output_type": "execute_result"
    }
   ],
   "source": [
    "class CircleModel(nn.Module):\n",
    "    def __init__(self):\n",
    "        super().__init__()\n",
    "        self.layer_1 = nn.Linear(in_features=2,out_features=8)\n",
    "        self.layer_2 = nn.Linear(in_features=8,out_features=1)\n",
    "    def forward(self,x):\n",
    "        return self.layer_2(self.layer_1(x))\n",
    "model_circ = CircleModel()\n",
    "model_circ"
   ]
  },
  {
   "cell_type": "code",
   "execution_count": 74,
   "id": "22514946",
   "metadata": {
    "execution": {
     "iopub.execute_input": "2024-03-30T06:15:20.430051Z",
     "iopub.status.busy": "2024-03-30T06:15:20.429637Z",
     "iopub.status.idle": "2024-03-30T06:15:20.438056Z",
     "shell.execute_reply": "2024-03-30T06:15:20.436676Z"
    },
    "papermill": {
     "duration": 0.054656,
     "end_time": "2024-03-30T06:15:20.440582",
     "exception": false,
     "start_time": "2024-03-30T06:15:20.385926",
     "status": "completed"
    },
    "tags": []
   },
   "outputs": [
    {
     "data": {
      "text/plain": [
       "device(type='cpu')"
      ]
     },
     "execution_count": 74,
     "metadata": {},
     "output_type": "execute_result"
    }
   ],
   "source": [
    "next(model_circ.parameters()).device"
   ]
  },
  {
   "cell_type": "code",
   "execution_count": null,
   "id": "87e320e2",
   "metadata": {
    "papermill": {
     "duration": 0.041633,
     "end_time": "2024-03-30T06:15:20.524498",
     "exception": false,
     "start_time": "2024-03-30T06:15:20.482865",
     "status": "completed"
    },
    "tags": []
   },
   "outputs": [],
   "source": []
  }
 ],
 "metadata": {
  "kaggle": {
   "accelerator": "none",
   "dataSources": [],
   "dockerImageVersionId": 30626,
   "isGpuEnabled": false,
   "isInternetEnabled": true,
   "language": "python",
   "sourceType": "notebook"
  },
  "kernelspec": {
   "display_name": "Python 3",
   "language": "python",
   "name": "python3"
  },
  "language_info": {
   "codemirror_mode": {
    "name": "ipython",
    "version": 3
   },
   "file_extension": ".py",
   "mimetype": "text/x-python",
   "name": "python",
   "nbconvert_exporter": "python",
   "pygments_lexer": "ipython3",
   "version": "3.10.12"
  },
  "papermill": {
   "default_parameters": {},
   "duration": 24.718563,
   "end_time": "2024-03-30T06:15:21.789361",
   "environment_variables": {},
   "exception": null,
   "input_path": "__notebook__.ipynb",
   "output_path": "__notebook__.ipynb",
   "parameters": {},
   "start_time": "2024-03-30T06:14:57.070798",
   "version": "2.4.0"
  }
 },
 "nbformat": 4,
 "nbformat_minor": 5
}
