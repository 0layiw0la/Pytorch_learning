{
 "cells": [
  {
   "cell_type": "code",
   "execution_count": 1,
   "id": "4d789b13",
   "metadata": {
    "execution": {
     "iopub.execute_input": "2024-03-25T12:18:21.177624Z",
     "iopub.status.busy": "2024-03-25T12:18:21.176752Z",
     "iopub.status.idle": "2024-03-25T12:18:25.318015Z",
     "shell.execute_reply": "2024-03-25T12:18:25.316999Z"
    },
    "papermill": {
     "duration": 4.163635,
     "end_time": "2024-03-25T12:18:25.320188",
     "exception": false,
     "start_time": "2024-03-25T12:18:21.156553",
     "status": "completed"
    },
    "tags": []
   },
   "outputs": [
    {
     "name": "stdout",
     "output_type": "stream",
     "text": [
      "2.0.0\n"
     ]
    }
   ],
   "source": [
    "import torch\n",
    "import pandas as pd\n",
    "import matplotlib.pyplot as plt\n",
    "import numpy as np\n",
    "print(torch.__version__)"
   ]
  },
  {
   "cell_type": "markdown",
   "id": "8c719057",
   "metadata": {
    "papermill": {
     "duration": 0.023949,
     "end_time": "2024-03-25T12:18:25.362444",
     "exception": false,
     "start_time": "2024-03-25T12:18:25.338495",
     "status": "completed"
    },
    "tags": []
   },
   "source": [
    "## Creating a range, reshaping a tensor"
   ]
  },
  {
   "cell_type": "code",
   "execution_count": 2,
   "id": "a2dadb0e",
   "metadata": {
    "execution": {
     "iopub.execute_input": "2024-03-25T12:18:25.412028Z",
     "iopub.status.busy": "2024-03-25T12:18:25.411510Z",
     "iopub.status.idle": "2024-03-25T12:18:25.434409Z",
     "shell.execute_reply": "2024-03-25T12:18:25.433518Z"
    },
    "papermill": {
     "duration": 0.050987,
     "end_time": "2024-03-25T12:18:25.436666",
     "exception": false,
     "start_time": "2024-03-25T12:18:25.385679",
     "status": "completed"
    },
    "tags": []
   },
   "outputs": [],
   "source": [
    "X = torch.arange(0,10,1)\n",
    "#X_reshaped= X.reshape(2,5)\n",
    "#X_reshaped"
   ]
  },
  {
   "cell_type": "markdown",
   "id": "b7c32346",
   "metadata": {
    "papermill": {
     "duration": 0.018378,
     "end_time": "2024-03-25T12:18:25.477190",
     "exception": false,
     "start_time": "2024-03-25T12:18:25.458812",
     "status": "completed"
    },
    "tags": []
   },
   "source": [
    "## Creating a view of a tensor"
   ]
  },
  {
   "cell_type": "code",
   "execution_count": 3,
   "id": "3d8b0a4d",
   "metadata": {
    "execution": {
     "iopub.execute_input": "2024-03-25T12:18:25.516701Z",
     "iopub.status.busy": "2024-03-25T12:18:25.515937Z",
     "iopub.status.idle": "2024-03-25T12:18:25.558969Z",
     "shell.execute_reply": "2024-03-25T12:18:25.557882Z"
    },
    "papermill": {
     "duration": 0.065561,
     "end_time": "2024-03-25T12:18:25.561110",
     "exception": false,
     "start_time": "2024-03-25T12:18:25.495549",
     "status": "completed"
    },
    "tags": []
   },
   "outputs": [
    {
     "data": {
      "text/plain": [
       "tensor([0, 5, 2, 3, 4, 5, 6, 7, 8, 9])"
      ]
     },
     "execution_count": 3,
     "metadata": {},
     "output_type": "execute_result"
    }
   ],
   "source": [
    "x = X\n",
    "z = x.view(1,10)\n",
    "z[0,1] = 5\n",
    "x"
   ]
  },
  {
   "cell_type": "markdown",
   "id": "a15aabd7",
   "metadata": {
    "papermill": {
     "duration": 0.019051,
     "end_time": "2024-03-25T12:18:25.600504",
     "exception": false,
     "start_time": "2024-03-25T12:18:25.581453",
     "status": "completed"
    },
    "tags": []
   },
   "source": [
    "## Stacking tensors"
   ]
  },
  {
   "cell_type": "code",
   "execution_count": 4,
   "id": "f7abcdcb",
   "metadata": {
    "execution": {
     "iopub.execute_input": "2024-03-25T12:18:25.640039Z",
     "iopub.status.busy": "2024-03-25T12:18:25.639647Z",
     "iopub.status.idle": "2024-03-25T12:18:25.662677Z",
     "shell.execute_reply": "2024-03-25T12:18:25.661723Z"
    },
    "papermill": {
     "duration": 0.045275,
     "end_time": "2024-03-25T12:18:25.664853",
     "exception": false,
     "start_time": "2024-03-25T12:18:25.619578",
     "status": "completed"
    },
    "tags": []
   },
   "outputs": [
    {
     "data": {
      "text/plain": [
       "tensor([[0, 5, 2, 3, 4, 5, 6, 7, 8, 9],\n",
       "        [0, 5, 2, 3, 4, 5, 6, 7, 8, 9],\n",
       "        [0, 5, 2, 3, 4, 5, 6, 7, 8, 9]])"
      ]
     },
     "execution_count": 4,
     "metadata": {},
     "output_type": "execute_result"
    }
   ],
   "source": [
    "x_stacked = torch.stack([x,x,x]) #vertical stacking\n",
    "x_stacked"
   ]
  },
  {
   "cell_type": "code",
   "execution_count": 5,
   "id": "3541a63c",
   "metadata": {
    "execution": {
     "iopub.execute_input": "2024-03-25T12:18:25.763499Z",
     "iopub.status.busy": "2024-03-25T12:18:25.763171Z",
     "iopub.status.idle": "2024-03-25T12:18:25.772050Z",
     "shell.execute_reply": "2024-03-25T12:18:25.770900Z"
    },
    "papermill": {
     "duration": 0.090808,
     "end_time": "2024-03-25T12:18:25.774397",
     "exception": false,
     "start_time": "2024-03-25T12:18:25.683589",
     "status": "completed"
    },
    "tags": []
   },
   "outputs": [
    {
     "data": {
      "text/plain": [
       "tensor([[0, 0],\n",
       "        [5, 5],\n",
       "        [2, 2],\n",
       "        [3, 3],\n",
       "        [4, 4],\n",
       "        [5, 5],\n",
       "        [6, 6],\n",
       "        [7, 7],\n",
       "        [8, 8],\n",
       "        [9, 9]])"
      ]
     },
     "execution_count": 5,
     "metadata": {},
     "output_type": "execute_result"
    }
   ],
   "source": [
    "x_stacked2 = torch.stack([x,x],dim=1)\n",
    "x_stacked2"
   ]
  },
  {
   "cell_type": "code",
   "execution_count": 6,
   "id": "f43462dc",
   "metadata": {
    "execution": {
     "iopub.execute_input": "2024-03-25T12:18:25.814704Z",
     "iopub.status.busy": "2024-03-25T12:18:25.813817Z",
     "iopub.status.idle": "2024-03-25T12:18:25.821650Z",
     "shell.execute_reply": "2024-03-25T12:18:25.820763Z"
    },
    "papermill": {
     "duration": 0.029831,
     "end_time": "2024-03-25T12:18:25.823546",
     "exception": false,
     "start_time": "2024-03-25T12:18:25.793715",
     "status": "completed"
    },
    "tags": []
   },
   "outputs": [
    {
     "data": {
      "text/plain": [
       "tensor([[[[0, 0],\n",
       "          [5, 5],\n",
       "          [2, 2],\n",
       "          [3, 3],\n",
       "          [4, 4]],\n",
       "\n",
       "         [[5, 5],\n",
       "          [6, 6],\n",
       "          [7, 7],\n",
       "          [8, 8],\n",
       "          [9, 9]]]])"
      ]
     },
     "execution_count": 6,
     "metadata": {},
     "output_type": "execute_result"
    }
   ],
   "source": [
    "x_stacked2.shape\n",
    "x_stacked2 = x_stacked2.reshape(1,2,5,2)\n",
    "x_stacked2"
   ]
  },
  {
   "cell_type": "markdown",
   "id": "dd6be0a7",
   "metadata": {
    "papermill": {
     "duration": 0.019125,
     "end_time": "2024-03-25T12:18:25.861981",
     "exception": false,
     "start_time": "2024-03-25T12:18:25.842856",
     "status": "completed"
    },
    "tags": []
   },
   "source": [
    "# Squeezing & Unsqueezing"
   ]
  },
  {
   "cell_type": "code",
   "execution_count": 7,
   "id": "753ebe4d",
   "metadata": {
    "execution": {
     "iopub.execute_input": "2024-03-25T12:18:25.902449Z",
     "iopub.status.busy": "2024-03-25T12:18:25.901627Z",
     "iopub.status.idle": "2024-03-25T12:18:25.911493Z",
     "shell.execute_reply": "2024-03-25T12:18:25.910405Z"
    },
    "papermill": {
     "duration": 0.032743,
     "end_time": "2024-03-25T12:18:25.914006",
     "exception": false,
     "start_time": "2024-03-25T12:18:25.881263",
     "status": "completed"
    },
    "tags": []
   },
   "outputs": [
    {
     "name": "stdout",
     "output_type": "stream",
     "text": [
      "previous shape: torch.Size([2, 5, 2])\n",
      "current shape: torch.Size([1, 2, 5, 2])\n"
     ]
    }
   ],
   "source": [
    "y = x_stacked2.squeeze()\n",
    "print(f\"previous shape: {y.shape}\")\n",
    "z = y.unsqueeze(dim=0)\n",
    "print(f\"current shape: {z.shape}\")"
   ]
  },
  {
   "cell_type": "markdown",
   "id": "c333fda4",
   "metadata": {
    "papermill": {
     "duration": 0.019098,
     "end_time": "2024-03-25T12:18:25.957283",
     "exception": false,
     "start_time": "2024-03-25T12:18:25.938185",
     "status": "completed"
    },
    "tags": []
   },
   "source": [
    "## Permuting a tensor"
   ]
  },
  {
   "cell_type": "code",
   "execution_count": 8,
   "id": "d9d1dc01",
   "metadata": {
    "execution": {
     "iopub.execute_input": "2024-03-25T12:18:25.999720Z",
     "iopub.status.busy": "2024-03-25T12:18:25.998746Z",
     "iopub.status.idle": "2024-03-25T12:18:26.014131Z",
     "shell.execute_reply": "2024-03-25T12:18:26.013194Z"
    },
    "papermill": {
     "duration": 0.039301,
     "end_time": "2024-03-25T12:18:26.016564",
     "exception": false,
     "start_time": "2024-03-25T12:18:25.977263",
     "status": "completed"
    },
    "tags": []
   },
   "outputs": [
    {
     "data": {
      "text/plain": [
       "torch.Size([3, 224, 224])"
      ]
     },
     "execution_count": 8,
     "metadata": {},
     "output_type": "execute_result"
    }
   ],
   "source": [
    "#torch.permute rearranges the dimensions of a specified tensor in a specfic order, and it returns a view\n",
    "x = torch.rand(2,3,5)\n",
    "x.size()\n",
    "torch.permute(x,(2,0,1)).size()\n",
    "x = torch.rand(size = (224,224,3))\n",
    "\n",
    "y = x.permute(2,0,1)\n",
    "y.shape"
   ]
  },
  {
   "cell_type": "code",
   "execution_count": 9,
   "id": "5f8df02b",
   "metadata": {
    "execution": {
     "iopub.execute_input": "2024-03-25T12:18:26.061710Z",
     "iopub.status.busy": "2024-03-25T12:18:26.060794Z",
     "iopub.status.idle": "2024-03-25T12:18:26.094042Z",
     "shell.execute_reply": "2024-03-25T12:18:26.093135Z"
    },
    "papermill": {
     "duration": 0.057022,
     "end_time": "2024-03-25T12:18:26.096547",
     "exception": false,
     "start_time": "2024-03-25T12:18:26.039525",
     "status": "completed"
    },
    "tags": []
   },
   "outputs": [
    {
     "data": {
      "text/plain": [
       "tensor([[[5.0000, 5.0000, 5.0000],\n",
       "         [0.1319, 0.3404, 0.1920],\n",
       "         [0.7976, 0.0509, 0.5842],\n",
       "         ...,\n",
       "         [0.1682, 0.5664, 0.7417],\n",
       "         [0.5239, 0.1976, 0.2235],\n",
       "         [0.3464, 0.8754, 0.9303]],\n",
       "\n",
       "        [[5.0000, 5.0000, 5.0000],\n",
       "         [0.2041, 0.2368, 0.2028],\n",
       "         [0.9209, 0.3841, 0.4980],\n",
       "         ...,\n",
       "         [0.3294, 0.6556, 0.8304],\n",
       "         [0.5501, 0.3222, 0.8065],\n",
       "         [0.4945, 0.7263, 0.5255]],\n",
       "\n",
       "        [[5.0000, 5.0000, 5.0000],\n",
       "         [0.4158, 0.6153, 0.7000],\n",
       "         [0.4953, 0.5333, 0.2269],\n",
       "         ...,\n",
       "         [0.7631, 0.6290, 0.6250],\n",
       "         [0.7549, 0.4125, 0.8976],\n",
       "         [0.3514, 0.0691, 0.3468]],\n",
       "\n",
       "        ...,\n",
       "\n",
       "        [[5.0000, 5.0000, 5.0000],\n",
       "         [0.8879, 0.6144, 0.4489],\n",
       "         [0.4970, 0.7900, 0.2431],\n",
       "         ...,\n",
       "         [0.8181, 0.6226, 0.9780],\n",
       "         [0.5971, 0.2007, 0.2437],\n",
       "         [0.8679, 0.9580, 0.9508]],\n",
       "\n",
       "        [[5.0000, 5.0000, 5.0000],\n",
       "         [0.0409, 0.6717, 0.3884],\n",
       "         [0.8089, 0.1265, 0.5346],\n",
       "         ...,\n",
       "         [0.6808, 0.5352, 0.9207],\n",
       "         [0.6245, 0.5305, 0.3705],\n",
       "         [0.9168, 0.1954, 0.4939]],\n",
       "\n",
       "        [[5.0000, 5.0000, 5.0000],\n",
       "         [0.6291, 0.8619, 0.1218],\n",
       "         [0.9390, 0.1052, 0.3279],\n",
       "         ...,\n",
       "         [0.4059, 0.4598, 0.2269],\n",
       "         [0.8026, 0.2753, 0.0627],\n",
       "         [0.4774, 0.6274, 0.7243]]])"
      ]
     },
     "execution_count": 9,
     "metadata": {},
     "output_type": "execute_result"
    }
   ],
   "source": [
    "x[:,:1] = 5\n",
    "x"
   ]
  },
  {
   "cell_type": "markdown",
   "id": "4a3bfdcd",
   "metadata": {
    "papermill": {
     "duration": 0.019049,
     "end_time": "2024-03-25T12:18:26.139241",
     "exception": false,
     "start_time": "2024-03-25T12:18:26.120192",
     "status": "completed"
    },
    "tags": []
   },
   "source": [
    "## Checking if a gpu is available"
   ]
  },
  {
   "cell_type": "code",
   "execution_count": 10,
   "id": "b8905998",
   "metadata": {
    "execution": {
     "iopub.execute_input": "2024-03-25T12:18:26.179756Z",
     "iopub.status.busy": "2024-03-25T12:18:26.179006Z",
     "iopub.status.idle": "2024-03-25T12:18:26.238256Z",
     "shell.execute_reply": "2024-03-25T12:18:26.237325Z"
    },
    "papermill": {
     "duration": 0.081597,
     "end_time": "2024-03-25T12:18:26.240090",
     "exception": false,
     "start_time": "2024-03-25T12:18:26.158493",
     "status": "completed"
    },
    "tags": []
   },
   "outputs": [
    {
     "data": {
      "text/plain": [
       "True"
      ]
     },
     "execution_count": 10,
     "metadata": {},
     "output_type": "execute_result"
    }
   ],
   "source": [
    "torch.cuda.is_available()"
   ]
  },
  {
   "cell_type": "markdown",
   "id": "59bc8e69",
   "metadata": {
    "papermill": {
     "duration": 0.019633,
     "end_time": "2024-03-25T12:18:26.279963",
     "exception": false,
     "start_time": "2024-03-25T12:18:26.260330",
     "status": "completed"
    },
    "tags": []
   },
   "source": [
    "## Random seeds"
   ]
  },
  {
   "cell_type": "code",
   "execution_count": 11,
   "id": "faeb58b3",
   "metadata": {
    "execution": {
     "iopub.execute_input": "2024-03-25T12:18:26.320206Z",
     "iopub.status.busy": "2024-03-25T12:18:26.319810Z",
     "iopub.status.idle": "2024-03-25T12:18:26.333293Z",
     "shell.execute_reply": "2024-03-25T12:18:26.332455Z"
    },
    "papermill": {
     "duration": 0.036276,
     "end_time": "2024-03-25T12:18:26.335694",
     "exception": false,
     "start_time": "2024-03-25T12:18:26.299418",
     "status": "completed"
    },
    "tags": []
   },
   "outputs": [
    {
     "data": {
      "text/plain": [
       "(tensor([[0.9007, 0.7464, 0.4716, 0.8738],\n",
       "         [0.7403, 0.7840, 0.8946, 0.6238]]),\n",
       " tensor([[0.9007, 0.7464, 0.4716, 0.8738],\n",
       "         [0.7403, 0.7840, 0.8946, 0.6238]]))"
      ]
     },
     "execution_count": 11,
     "metadata": {},
     "output_type": "execute_result"
    }
   ],
   "source": [
    "import random\n",
    "torch.manual_seed(seed = 30)\n",
    "x = torch.rand(2,4)\n",
    "torch.manual_seed(seed = 30)\n",
    "y= torch.rand(2,4)\n",
    "x,y"
   ]
  },
  {
   "cell_type": "code",
   "execution_count": 12,
   "id": "4a7973e4",
   "metadata": {
    "execution": {
     "iopub.execute_input": "2024-03-25T12:18:26.382134Z",
     "iopub.status.busy": "2024-03-25T12:18:26.381742Z",
     "iopub.status.idle": "2024-03-25T12:18:26.389313Z",
     "shell.execute_reply": "2024-03-25T12:18:26.388306Z"
    },
    "papermill": {
     "duration": 0.031661,
     "end_time": "2024-03-25T12:18:26.391994",
     "exception": false,
     "start_time": "2024-03-25T12:18:26.360333",
     "status": "completed"
    },
    "tags": []
   },
   "outputs": [
    {
     "data": {
      "text/plain": [
       "(torch.float32, torch.int64)"
      ]
     },
     "execution_count": 12,
     "metadata": {},
     "output_type": "execute_result"
    }
   ],
   "source": [
    "a = torch.rand(7,7,)\n",
    "b = torch.arange(0,7,1) #arange creates int64 rand ccreates flot32\n",
    "a.dtype,b.dtype"
   ]
  },
  {
   "cell_type": "markdown",
   "id": "850efb5a",
   "metadata": {
    "papermill": {
     "duration": 0.019318,
     "end_time": "2024-03-25T12:18:26.432287",
     "exception": false,
     "start_time": "2024-03-25T12:18:26.412969",
     "status": "completed"
    },
    "tags": []
   },
   "source": [
    "## Transposing tensors"
   ]
  },
  {
   "cell_type": "code",
   "execution_count": 13,
   "id": "fa8380d4",
   "metadata": {
    "execution": {
     "iopub.execute_input": "2024-03-25T12:18:26.473816Z",
     "iopub.status.busy": "2024-03-25T12:18:26.473186Z",
     "iopub.status.idle": "2024-03-25T12:18:26.512424Z",
     "shell.execute_reply": "2024-03-25T12:18:26.511575Z"
    },
    "papermill": {
     "duration": 0.062294,
     "end_time": "2024-03-25T12:18:26.514636",
     "exception": false,
     "start_time": "2024-03-25T12:18:26.452342",
     "status": "completed"
    },
    "tags": []
   },
   "outputs": [],
   "source": [
    "# to fix this\n",
    "b = b.type(torch.float32)\n",
    "b = b.reshape(1,7)\n",
    "c = a@b.T"
   ]
  },
  {
   "cell_type": "code",
   "execution_count": 14,
   "id": "ab5f233f",
   "metadata": {
    "execution": {
     "iopub.execute_input": "2024-03-25T12:18:26.557118Z",
     "iopub.status.busy": "2024-03-25T12:18:26.556757Z",
     "iopub.status.idle": "2024-03-25T12:18:26.563538Z",
     "shell.execute_reply": "2024-03-25T12:18:26.562576Z"
    },
    "papermill": {
     "duration": 0.03061,
     "end_time": "2024-03-25T12:18:26.565737",
     "exception": false,
     "start_time": "2024-03-25T12:18:26.535127",
     "status": "completed"
    },
    "tags": []
   },
   "outputs": [
    {
     "data": {
      "text/plain": [
       "torch.Size([7, 1])"
      ]
     },
     "execution_count": 14,
     "metadata": {},
     "output_type": "execute_result"
    }
   ],
   "source": [
    "#to fix the shape error\n",
    "c =a@b.T\n",
    "c.size()"
   ]
  },
  {
   "cell_type": "markdown",
   "id": "3c6dfaa8",
   "metadata": {
    "execution": {
     "iopub.execute_input": "2024-03-19T13:37:07.071480Z",
     "iopub.status.busy": "2024-03-19T13:37:07.071041Z",
     "iopub.status.idle": "2024-03-19T13:37:07.088252Z",
     "shell.execute_reply": "2024-03-19T13:37:07.086690Z",
     "shell.execute_reply.started": "2024-03-19T13:37:07.071448Z"
    },
    "papermill": {
     "duration": 0.020515,
     "end_time": "2024-03-25T12:18:26.608465",
     "exception": false,
     "start_time": "2024-03-25T12:18:26.587950",
     "status": "completed"
    },
    "tags": []
   },
   "source": [
    "import random\n",
    "torch.manual_seed(seed = 0)\n",
    "d = torch.rand(7,7)\n",
    "torch.manual_seed(seed = 0)\n",
    "e = torch.rand(1,7)\n",
    "print(d,e)\n",
    "f = d@e.T\n",
    "print(f)\n",
    "d==e"
   ]
  },
  {
   "cell_type": "code",
   "execution_count": null,
   "id": "e046e2ec",
   "metadata": {
    "papermill": {
     "duration": 0.019986,
     "end_time": "2024-03-25T12:18:26.648163",
     "exception": false,
     "start_time": "2024-03-25T12:18:26.628177",
     "status": "completed"
    },
    "tags": []
   },
   "outputs": [],
   "source": []
  },
  {
   "cell_type": "code",
   "execution_count": 15,
   "id": "7ca3f2dd",
   "metadata": {
    "execution": {
     "iopub.execute_input": "2024-03-25T12:18:26.689941Z",
     "iopub.status.busy": "2024-03-25T12:18:26.689075Z",
     "iopub.status.idle": "2024-03-25T12:18:26.696148Z",
     "shell.execute_reply": "2024-03-25T12:18:26.695346Z"
    },
    "papermill": {
     "duration": 0.030054,
     "end_time": "2024-03-25T12:18:26.698065",
     "exception": false,
     "start_time": "2024-03-25T12:18:26.668011",
     "status": "completed"
    },
    "tags": []
   },
   "outputs": [
    {
     "data": {
      "text/plain": [
       "tensor([[[0.8184, 0.5022, 0.1390],\n",
       "         [0.6871, 0.2544, 0.9488],\n",
       "         [0.5232, 0.9378, 0.1448]]])"
      ]
     },
     "execution_count": 15,
     "metadata": {},
     "output_type": "execute_result"
    }
   ],
   "source": [
    "x = torch.rand(1,3,3)\n",
    "x"
   ]
  },
  {
   "cell_type": "code",
   "execution_count": 16,
   "id": "e3b3acb7",
   "metadata": {
    "execution": {
     "iopub.execute_input": "2024-03-25T12:18:26.739942Z",
     "iopub.status.busy": "2024-03-25T12:18:26.739203Z",
     "iopub.status.idle": "2024-03-25T12:18:26.745944Z",
     "shell.execute_reply": "2024-03-25T12:18:26.745076Z"
    },
    "papermill": {
     "duration": 0.030036,
     "end_time": "2024-03-25T12:18:26.747889",
     "exception": false,
     "start_time": "2024-03-25T12:18:26.717853",
     "status": "completed"
    },
    "tags": []
   },
   "outputs": [
    {
     "data": {
      "text/plain": [
       "tensor([[0.1390, 0.9488, 0.1448]])"
      ]
     },
     "execution_count": 16,
     "metadata": {},
     "output_type": "execute_result"
    }
   ],
   "source": [
    "x[:,:,2]"
   ]
  },
  {
   "cell_type": "markdown",
   "id": "b4b6a5df",
   "metadata": {
    "papermill": {
     "duration": 0.019991,
     "end_time": "2024-03-25T12:18:26.788107",
     "exception": false,
     "start_time": "2024-03-25T12:18:26.768116",
     "status": "completed"
    },
    "tags": []
   },
   "source": [
    "## pytorch and numpy"
   ]
  },
  {
   "cell_type": "code",
   "execution_count": 17,
   "id": "455835cc",
   "metadata": {
    "execution": {
     "iopub.execute_input": "2024-03-25T12:18:26.829759Z",
     "iopub.status.busy": "2024-03-25T12:18:26.829369Z",
     "iopub.status.idle": "2024-03-25T12:18:26.837536Z",
     "shell.execute_reply": "2024-03-25T12:18:26.836665Z"
    },
    "papermill": {
     "duration": 0.031335,
     "end_time": "2024-03-25T12:18:26.839612",
     "exception": false,
     "start_time": "2024-03-25T12:18:26.808277",
     "status": "completed"
    },
    "tags": []
   },
   "outputs": [
    {
     "data": {
      "text/plain": [
       "(array([0, 1, 2, 3, 4, 5, 6, 7, 8, 9]),\n",
       " tensor([0., 1., 2., 3., 4., 5., 6., 7., 8., 9.]))"
      ]
     },
     "execution_count": 17,
     "metadata": {},
     "output_type": "execute_result"
    }
   ],
   "source": [
    "v = np.arange(0,10)\n",
    "c = torch.from_numpy(v).type(torch.float32) #numpy's default is float 64\n",
    "v,c"
   ]
  },
  {
   "cell_type": "code",
   "execution_count": 18,
   "id": "3ff0efab",
   "metadata": {
    "execution": {
     "iopub.execute_input": "2024-03-25T12:18:26.882599Z",
     "iopub.status.busy": "2024-03-25T12:18:26.881939Z",
     "iopub.status.idle": "2024-03-25T12:18:26.890425Z",
     "shell.execute_reply": "2024-03-25T12:18:26.889485Z"
    },
    "papermill": {
     "duration": 0.031972,
     "end_time": "2024-03-25T12:18:26.892345",
     "exception": false,
     "start_time": "2024-03-25T12:18:26.860373",
     "status": "completed"
    },
    "tags": []
   },
   "outputs": [
    {
     "data": {
      "text/plain": [
       "(array([ 1,  2,  3,  4,  5,  6,  7,  8,  9, 10]),\n",
       " tensor([0., 1., 2., 3., 4., 5., 6., 7., 8., 9.]))"
      ]
     },
     "execution_count": 18,
     "metadata": {},
     "output_type": "execute_result"
    }
   ],
   "source": [
    "v += 1\n",
    "v,c"
   ]
  },
  {
   "cell_type": "code",
   "execution_count": 19,
   "id": "f660c448",
   "metadata": {
    "execution": {
     "iopub.execute_input": "2024-03-25T12:18:26.935593Z",
     "iopub.status.busy": "2024-03-25T12:18:26.934756Z",
     "iopub.status.idle": "2024-03-25T12:18:26.942396Z",
     "shell.execute_reply": "2024-03-25T12:18:26.941564Z"
    },
    "papermill": {
     "duration": 0.031592,
     "end_time": "2024-03-25T12:18:26.944278",
     "exception": false,
     "start_time": "2024-03-25T12:18:26.912686",
     "status": "completed"
    },
    "tags": []
   },
   "outputs": [
    {
     "data": {
      "text/plain": [
       "tensor([[0., 0., 0.],\n",
       "        [0., 0., 0.],\n",
       "        [0., 0., 0.]])"
      ]
     },
     "execution_count": 19,
     "metadata": {},
     "output_type": "execute_result"
    }
   ],
   "source": [
    "m = torch.zeros(3,3)\n",
    "m"
   ]
  },
  {
   "cell_type": "code",
   "execution_count": 20,
   "id": "12966b1d",
   "metadata": {
    "execution": {
     "iopub.execute_input": "2024-03-25T12:18:26.988484Z",
     "iopub.status.busy": "2024-03-25T12:18:26.988142Z",
     "iopub.status.idle": "2024-03-25T12:18:26.997379Z",
     "shell.execute_reply": "2024-03-25T12:18:26.996428Z"
    },
    "papermill": {
     "duration": 0.034014,
     "end_time": "2024-03-25T12:18:26.999416",
     "exception": false,
     "start_time": "2024-03-25T12:18:26.965402",
     "status": "completed"
    },
    "tags": []
   },
   "outputs": [
    {
     "data": {
      "text/plain": [
       "(tensor([[1., 1., 1.],\n",
       "         [1., 1., 1.],\n",
       "         [1., 1., 1.]]),\n",
       " array([[1., 1., 1.],\n",
       "        [1., 1., 1.],\n",
       "        [1., 1., 1.]], dtype=float32))"
      ]
     },
     "execution_count": 20,
     "metadata": {},
     "output_type": "execute_result"
    }
   ],
   "source": [
    "k = m.numpy()\n",
    "m += 1\n",
    "m,k"
   ]
  },
  {
   "cell_type": "code",
   "execution_count": 21,
   "id": "a2763a65",
   "metadata": {
    "execution": {
     "iopub.execute_input": "2024-03-25T12:18:27.042555Z",
     "iopub.status.busy": "2024-03-25T12:18:27.042213Z",
     "iopub.status.idle": "2024-03-25T12:18:27.050026Z",
     "shell.execute_reply": "2024-03-25T12:18:27.049090Z"
    },
    "papermill": {
     "duration": 0.031646,
     "end_time": "2024-03-25T12:18:27.051888",
     "exception": false,
     "start_time": "2024-03-25T12:18:27.020242",
     "status": "completed"
    },
    "tags": []
   },
   "outputs": [
    {
     "data": {
      "text/plain": [
       "(array([[4., 4., 4.],\n",
       "        [4., 4., 4.],\n",
       "        [4., 4., 4.]], dtype=float32),\n",
       " tensor([[4., 4., 4.],\n",
       "         [4., 4., 4.],\n",
       "         [4., 4., 4.]]))"
      ]
     },
     "execution_count": 21,
     "metadata": {},
     "output_type": "execute_result"
    }
   ],
   "source": [
    "m+=2\n",
    "m,k\n",
    "k+=1\n",
    "k,m"
   ]
  },
  {
   "cell_type": "code",
   "execution_count": 22,
   "id": "6fb8b2ce",
   "metadata": {
    "execution": {
     "iopub.execute_input": "2024-03-25T12:18:27.095033Z",
     "iopub.status.busy": "2024-03-25T12:18:27.094655Z",
     "iopub.status.idle": "2024-03-25T12:18:27.102916Z",
     "shell.execute_reply": "2024-03-25T12:18:27.102003Z"
    },
    "papermill": {
     "duration": 0.032212,
     "end_time": "2024-03-25T12:18:27.104858",
     "exception": false,
     "start_time": "2024-03-25T12:18:27.072646",
     "status": "completed"
    },
    "tags": []
   },
   "outputs": [
    {
     "data": {
      "text/plain": [
       "tensor([[True, True],\n",
       "        [True, True]])"
      ]
     },
     "execution_count": 22,
     "metadata": {},
     "output_type": "execute_result"
    }
   ],
   "source": [
    "#reproducibility\n",
    "torch.manual_seed(6)\n",
    "x = torch.rand(2,2)\n",
    "torch.manual_seed(6)\n",
    "y = torch.rand(2,2)\n",
    "x == y"
   ]
  },
  {
   "cell_type": "code",
   "execution_count": 23,
   "id": "c0114ba6",
   "metadata": {
    "execution": {
     "iopub.execute_input": "2024-03-25T12:18:27.149662Z",
     "iopub.status.busy": "2024-03-25T12:18:27.148727Z",
     "iopub.status.idle": "2024-03-25T12:18:27.154789Z",
     "shell.execute_reply": "2024-03-25T12:18:27.153950Z"
    },
    "papermill": {
     "duration": 0.030603,
     "end_time": "2024-03-25T12:18:27.156742",
     "exception": false,
     "start_time": "2024-03-25T12:18:27.126139",
     "status": "completed"
    },
    "tags": []
   },
   "outputs": [
    {
     "data": {
      "text/plain": [
       "True"
      ]
     },
     "execution_count": 23,
     "metadata": {},
     "output_type": "execute_result"
    }
   ],
   "source": [
    "torch.cuda.is_available()"
   ]
  },
  {
   "cell_type": "code",
   "execution_count": 24,
   "id": "504fd4ee",
   "metadata": {
    "execution": {
     "iopub.execute_input": "2024-03-25T12:18:27.201479Z",
     "iopub.status.busy": "2024-03-25T12:18:27.201122Z",
     "iopub.status.idle": "2024-03-25T12:18:27.206742Z",
     "shell.execute_reply": "2024-03-25T12:18:27.205898Z"
    },
    "papermill": {
     "duration": 0.030574,
     "end_time": "2024-03-25T12:18:27.208829",
     "exception": false,
     "start_time": "2024-03-25T12:18:27.178255",
     "status": "completed"
    },
    "tags": []
   },
   "outputs": [
    {
     "data": {
      "text/plain": [
       "device(type='cpu')"
      ]
     },
     "execution_count": 24,
     "metadata": {},
     "output_type": "execute_result"
    }
   ],
   "source": [
    "x.device"
   ]
  },
  {
   "cell_type": "markdown",
   "id": "70b117a5",
   "metadata": {
    "papermill": {
     "duration": 0.021444,
     "end_time": "2024-03-25T12:18:27.252039",
     "exception": false,
     "start_time": "2024-03-25T12:18:27.230595",
     "status": "completed"
    },
    "tags": []
   },
   "source": [
    "## First pytorch model, linear regression"
   ]
  },
  {
   "cell_type": "code",
   "execution_count": 25,
   "id": "77c6f383",
   "metadata": {
    "execution": {
     "iopub.execute_input": "2024-03-25T12:18:27.297559Z",
     "iopub.status.busy": "2024-03-25T12:18:27.297207Z",
     "iopub.status.idle": "2024-03-25T12:18:27.301599Z",
     "shell.execute_reply": "2024-03-25T12:18:27.300790Z"
    },
    "papermill": {
     "duration": 0.029364,
     "end_time": "2024-03-25T12:18:27.303579",
     "exception": false,
     "start_time": "2024-03-25T12:18:27.274215",
     "status": "completed"
    },
    "tags": []
   },
   "outputs": [],
   "source": [
    "import torch\n",
    "from torch import nn\n",
    "import matplotlib.pyplot as plt"
   ]
  },
  {
   "cell_type": "code",
   "execution_count": 26,
   "id": "2175ff22",
   "metadata": {
    "execution": {
     "iopub.execute_input": "2024-03-25T12:18:27.349701Z",
     "iopub.status.busy": "2024-03-25T12:18:27.348750Z",
     "iopub.status.idle": "2024-03-25T12:18:27.354905Z",
     "shell.execute_reply": "2024-03-25T12:18:27.354009Z"
    },
    "papermill": {
     "duration": 0.031627,
     "end_time": "2024-03-25T12:18:27.356869",
     "exception": false,
     "start_time": "2024-03-25T12:18:27.325242",
     "status": "completed"
    },
    "tags": []
   },
   "outputs": [
    {
     "data": {
      "text/plain": [
       "'2.0.0'"
      ]
     },
     "execution_count": 26,
     "metadata": {},
     "output_type": "execute_result"
    }
   ],
   "source": [
    "torch.__version__"
   ]
  },
  {
   "cell_type": "code",
   "execution_count": 27,
   "id": "af50cc7e",
   "metadata": {
    "execution": {
     "iopub.execute_input": "2024-03-25T12:18:27.402011Z",
     "iopub.status.busy": "2024-03-25T12:18:27.401632Z",
     "iopub.status.idle": "2024-03-25T12:18:27.411508Z",
     "shell.execute_reply": "2024-03-25T12:18:27.410593Z"
    },
    "papermill": {
     "duration": 0.034682,
     "end_time": "2024-03-25T12:18:27.413423",
     "exception": false,
     "start_time": "2024-03-25T12:18:27.378741",
     "status": "completed"
    },
    "tags": []
   },
   "outputs": [
    {
     "data": {
      "text/plain": [
       "(tensor([[0.0000],\n",
       "         [0.0200],\n",
       "         [0.0400],\n",
       "         [0.0600],\n",
       "         [0.0800],\n",
       "         [0.1000],\n",
       "         [0.1200],\n",
       "         [0.1400],\n",
       "         [0.1600],\n",
       "         [0.1800]]),\n",
       " tensor([[0.3000],\n",
       "         [0.3140],\n",
       "         [0.3280],\n",
       "         [0.3420],\n",
       "         [0.3560],\n",
       "         [0.3700],\n",
       "         [0.3840],\n",
       "         [0.3980],\n",
       "         [0.4120],\n",
       "         [0.4260]]),\n",
       " 50,\n",
       " 50)"
      ]
     },
     "execution_count": 27,
     "metadata": {},
     "output_type": "execute_result"
    }
   ],
   "source": [
    "#creating known parameters\n",
    "weight = 0.7 #(slope)\n",
    "bias = 0.3 #(error_term)\n",
    "\n",
    "#creating some data\n",
    "start = 0\n",
    "end = 1\n",
    "step = 0.02\n",
    "X = torch.arange(start,end,step).unsqueeze(dim=1)\n",
    "y = weight*X+bias\n",
    "X[:10],y[:10],len(X),len(y)"
   ]
  },
  {
   "cell_type": "code",
   "execution_count": 28,
   "id": "8c1dceed",
   "metadata": {
    "execution": {
     "iopub.execute_input": "2024-03-25T12:18:27.458559Z",
     "iopub.status.busy": "2024-03-25T12:18:27.457727Z",
     "iopub.status.idle": "2024-03-25T12:18:27.463741Z",
     "shell.execute_reply": "2024-03-25T12:18:27.462883Z"
    },
    "papermill": {
     "duration": 0.030532,
     "end_time": "2024-03-25T12:18:27.465651",
     "exception": false,
     "start_time": "2024-03-25T12:18:27.435119",
     "status": "completed"
    },
    "tags": []
   },
   "outputs": [
    {
     "data": {
      "text/plain": [
       "torch.Size([50, 1])"
      ]
     },
     "execution_count": 28,
     "metadata": {},
     "output_type": "execute_result"
    }
   ],
   "source": [
    "y.shape"
   ]
  },
  {
   "cell_type": "code",
   "execution_count": 29,
   "id": "2f7ad0b0",
   "metadata": {
    "execution": {
     "iopub.execute_input": "2024-03-25T12:18:27.511131Z",
     "iopub.status.busy": "2024-03-25T12:18:27.510375Z",
     "iopub.status.idle": "2024-03-25T12:18:27.517617Z",
     "shell.execute_reply": "2024-03-25T12:18:27.516648Z"
    },
    "papermill": {
     "duration": 0.032048,
     "end_time": "2024-03-25T12:18:27.519583",
     "exception": false,
     "start_time": "2024-03-25T12:18:27.487535",
     "status": "completed"
    },
    "tags": []
   },
   "outputs": [
    {
     "data": {
      "text/plain": [
       "(torch.Size([40, 1]), torch.Size([10, 1]))"
      ]
     },
     "execution_count": 29,
     "metadata": {},
     "output_type": "execute_result"
    }
   ],
   "source": [
    "# splitting into training and test sets\n",
    "train_split = int(0.8*len(X))\n",
    "X_train,y_train = X[:train_split],y[:train_split]\n",
    "X_test,y_test = X[train_split:],y[train_split:]\n",
    "X_train.shape,y_test.shape"
   ]
  },
  {
   "cell_type": "code",
   "execution_count": 30,
   "id": "5b70058a",
   "metadata": {
    "execution": {
     "iopub.execute_input": "2024-03-25T12:18:27.565814Z",
     "iopub.status.busy": "2024-03-25T12:18:27.564969Z",
     "iopub.status.idle": "2024-03-25T12:18:27.571364Z",
     "shell.execute_reply": "2024-03-25T12:18:27.570491Z"
    },
    "papermill": {
     "duration": 0.031644,
     "end_time": "2024-03-25T12:18:27.573368",
     "exception": false,
     "start_time": "2024-03-25T12:18:27.541724",
     "status": "completed"
    },
    "tags": []
   },
   "outputs": [],
   "source": [
    "def plo(traind,\n",
    "        trainl,\n",
    "        testd,\n",
    "        testl,\n",
    "        pred=None):\n",
    "    plt.figure(figsize=(10,7))\n",
    "    plt.scatter(traind,trainl,c=\"r\",s=4,label=\"train\")\n",
    "    plt.scatter(testd,testl,c=\"c\",s=3,label=\"test\")\n",
    "    if pred is not None:\n",
    "        plt.scatter(testd,pred,c=\"b\",s=2,label=\"predictions\")\n",
    "    plt.legend(prop={\"size\":14});\n",
    "    "
   ]
  },
  {
   "cell_type": "code",
   "execution_count": 31,
   "id": "07cbc213",
   "metadata": {
    "execution": {
     "iopub.execute_input": "2024-03-25T12:18:27.621996Z",
     "iopub.status.busy": "2024-03-25T12:18:27.621101Z",
     "iopub.status.idle": "2024-03-25T12:18:28.018079Z",
     "shell.execute_reply": "2024-03-25T12:18:28.017221Z"
    },
    "papermill": {
     "duration": 0.422721,
     "end_time": "2024-03-25T12:18:28.020113",
     "exception": false,
     "start_time": "2024-03-25T12:18:27.597392",
     "status": "completed"
    },
    "tags": []
   },
   "outputs": [
    {
     "data": {
      "image/png": "[encoded data removed]",
      "text/plain": [
       "<Figure size 1000x700 with 1 Axes>"
      ]
     },
     "metadata": {},
     "output_type": "display_data"
    }
   ],
   "source": [
    "plo(X_train,y_train,X_test,y_test)"
   ]
  },
  {
   "cell_type": "markdown",
   "id": "7f87c6d7",
   "metadata": {
    "papermill": {
     "duration": 0.021589,
     "end_time": "2024-03-25T12:18:28.064133",
     "exception": false,
     "start_time": "2024-03-25T12:18:28.042544",
     "status": "completed"
    },
    "tags": []
   },
   "source": [
    "### Creating the model"
   ]
  },
  {
   "cell_type": "code",
   "execution_count": 32,
   "id": "99de589c",
   "metadata": {
    "execution": {
     "iopub.execute_input": "2024-03-25T12:18:28.109381Z",
     "iopub.status.busy": "2024-03-25T12:18:28.109026Z",
     "iopub.status.idle": "2024-03-25T12:18:28.115735Z",
     "shell.execute_reply": "2024-03-25T12:18:28.114884Z"
    },
    "papermill": {
     "duration": 0.031541,
     "end_time": "2024-03-25T12:18:28.117650",
     "exception": false,
     "start_time": "2024-03-25T12:18:28.086109",
     "status": "completed"
    },
    "tags": []
   },
   "outputs": [],
   "source": [
    "class LinearRegressionModel(nn.Module): # <- almost everything in PyTorch is a nn.Module (think of this as neural network lego blocks)\n",
    "    def __init__(self):\n",
    "        super().__init__() \n",
    "        self.weights = nn.Parameter(torch.randn(1, # <- start with random weights (this will get adjusted as the model learns)\n",
    "                                                dtype=torch.float), # <- PyTorch loves float32 by default\n",
    "                                   requires_grad=True) # <- can we update this value with gradient descent?)\n",
    "\n",
    "        self.bias = nn.Parameter(torch.randn(1, # <- start with random bias (this will get adjusted as the model learns)\n",
    "                                            dtype=torch.float), # <- PyTorch loves float32 by default\n",
    "                                requires_grad=True) # <- can we update this value with gradient descent?))\n",
    "\n",
    "    # Forward defines the computation in the model\n",
    "    def forward(self, x: torch.Tensor) -> torch.Tensor: # <- \"x\" is the input data (e.g. training/testing features)\n",
    "        return self.weights * x + self.bias # <- this is the linear regression formula (y = m*x + b)"
   ]
  },
  {
   "cell_type": "code",
   "execution_count": 33,
   "id": "e1d543b1",
   "metadata": {
    "execution": {
     "iopub.execute_input": "2024-03-25T12:18:28.163069Z",
     "iopub.status.busy": "2024-03-25T12:18:28.162487Z",
     "iopub.status.idle": "2024-03-25T12:18:28.171769Z",
     "shell.execute_reply": "2024-03-25T12:18:28.170886Z"
    },
    "papermill": {
     "duration": 0.034158,
     "end_time": "2024-03-25T12:18:28.173662",
     "exception": false,
     "start_time": "2024-03-25T12:18:28.139504",
     "status": "completed"
    },
    "tags": []
   },
   "outputs": [
    {
     "data": {
      "text/plain": [
       "[Parameter containing:\n",
       " tensor([0.3367], requires_grad=True),\n",
       " Parameter containing:\n",
       " tensor([0.1288], requires_grad=True)]"
      ]
     },
     "execution_count": 33,
     "metadata": {},
     "output_type": "execute_result"
    }
   ],
   "source": [
    "torch.manual_seed(42)\n",
    "mod = LinearRegressionModel()\n",
    "list(mod.parameters())"
   ]
  },
  {
   "cell_type": "code",
   "execution_count": 34,
   "id": "0427df51",
   "metadata": {
    "execution": {
     "iopub.execute_input": "2024-03-25T12:18:28.219209Z",
     "iopub.status.busy": "2024-03-25T12:18:28.218775Z",
     "iopub.status.idle": "2024-03-25T12:18:28.227270Z",
     "shell.execute_reply": "2024-03-25T12:18:28.226417Z"
    },
    "papermill": {
     "duration": 0.033417,
     "end_time": "2024-03-25T12:18:28.229118",
     "exception": false,
     "start_time": "2024-03-25T12:18:28.195701",
     "status": "completed"
    },
    "tags": []
   },
   "outputs": [
    {
     "data": {
      "text/plain": [
       "OrderedDict([('weights', tensor([0.3367])), ('bias', tensor([0.1288]))])"
      ]
     },
     "execution_count": 34,
     "metadata": {},
     "output_type": "execute_result"
    }
   ],
   "source": [
    " mod.state_dict()"
   ]
  },
  {
   "cell_type": "markdown",
   "id": "d64fabf0",
   "metadata": {
    "papermill": {
     "duration": 0.023363,
     "end_time": "2024-03-25T12:18:28.274462",
     "exception": false,
     "start_time": "2024-03-25T12:18:28.251099",
     "status": "completed"
    },
    "tags": []
   },
   "source": [
    "## using torch.inference_mode() to make predictiions"
   ]
  },
  {
   "cell_type": "code",
   "execution_count": 35,
   "id": "c928dd91",
   "metadata": {
    "execution": {
     "iopub.execute_input": "2024-03-25T12:18:28.320124Z",
     "iopub.status.busy": "2024-03-25T12:18:28.319738Z",
     "iopub.status.idle": "2024-03-25T12:18:28.330659Z",
     "shell.execute_reply": "2024-03-25T12:18:28.329783Z"
    },
    "papermill": {
     "duration": 0.035905,
     "end_time": "2024-03-25T12:18:28.332576",
     "exception": false,
     "start_time": "2024-03-25T12:18:28.296671",
     "status": "completed"
    },
    "tags": []
   },
   "outputs": [
    {
     "data": {
      "text/plain": [
       "tensor(0.5358)"
      ]
     },
     "execution_count": 35,
     "metadata": {},
     "output_type": "execute_result"
    }
   ],
   "source": [
    "with torch.inference_mode(): #tells the model to not keep track of the gradient\n",
    "    y_preds = mod(X_test)\n",
    "((abs(y_preds - y_test) / y_test)).mean()"
   ]
  },
  {
   "cell_type": "code",
   "execution_count": 36,
   "id": "abb591da",
   "metadata": {
    "execution": {
     "iopub.execute_input": "2024-03-25T12:18:28.379203Z",
     "iopub.status.busy": "2024-03-25T12:18:28.378814Z",
     "iopub.status.idle": "2024-03-25T12:18:28.768580Z",
     "shell.execute_reply": "2024-03-25T12:18:28.767645Z"
    },
    "papermill": {
     "duration": 0.415622,
     "end_time": "2024-03-25T12:18:28.770681",
     "exception": false,
     "start_time": "2024-03-25T12:18:28.355059",
     "status": "completed"
    },
    "tags": []
   },
   "outputs": [
    {
     "data": {
      "image/png": "[encoded data removed]",
      "text/plain": [
       "<Figure size 1000x700 with 1 Axes>"
      ]
     },
     "metadata": {},
     "output_type": "display_data"
    }
   ],
   "source": [
    "plo(X_train,y_train,X_test,y_test,y_preds)"
   ]
  },
  {
   "cell_type": "markdown",
   "id": "d016cfe0",
   "metadata": {
    "papermill": {
     "duration": 0.02272,
     "end_time": "2024-03-25T12:18:28.816428",
     "exception": false,
     "start_time": "2024-03-25T12:18:28.793708",
     "status": "completed"
    },
    "tags": []
   },
   "source": [
    "## training\n",
    "we can measure error using loss functions, cost functions, criterions\n",
    "**optimisers**: take into account previous params and then fixes them to better match"
   ]
  },
  {
   "cell_type": "code",
   "execution_count": 37,
   "id": "b643ca03",
   "metadata": {
    "execution": {
     "iopub.execute_input": "2024-03-25T12:18:28.863259Z",
     "iopub.status.busy": "2024-03-25T12:18:28.862916Z",
     "iopub.status.idle": "2024-03-25T12:18:28.869864Z",
     "shell.execute_reply": "2024-03-25T12:18:28.869030Z"
    },
    "papermill": {
     "duration": 0.032853,
     "end_time": "2024-03-25T12:18:28.871824",
     "exception": false,
     "start_time": "2024-03-25T12:18:28.838971",
     "status": "completed"
    },
    "tags": []
   },
   "outputs": [
    {
     "data": {
      "text/plain": [
       "OrderedDict([('weights', tensor([0.3367])), ('bias', tensor([0.1288]))])"
      ]
     },
     "execution_count": 37,
     "metadata": {},
     "output_type": "execute_result"
    }
   ],
   "source": [
    "mod.state_dict()"
   ]
  },
  {
   "cell_type": "code",
   "execution_count": 38,
   "id": "2baf1098",
   "metadata": {
    "execution": {
     "iopub.execute_input": "2024-03-25T12:18:28.918459Z",
     "iopub.status.busy": "2024-03-25T12:18:28.918124Z",
     "iopub.status.idle": "2024-03-25T12:18:28.922681Z",
     "shell.execute_reply": "2024-03-25T12:18:28.921790Z"
    },
    "papermill": {
     "duration": 0.030372,
     "end_time": "2024-03-25T12:18:28.924587",
     "exception": false,
     "start_time": "2024-03-25T12:18:28.894215",
     "status": "completed"
    },
    "tags": []
   },
   "outputs": [],
   "source": [
    "# setting up loss function\n",
    "loss_fn = nn.L1Loss()\n",
    "# setting up optimiser\n",
    "optimizer = torch.optim.SGD(params=mod.parameters(),lr=0.01,)"
   ]
  },
  {
   "cell_type": "code",
   "execution_count": 39,
   "id": "137738bb",
   "metadata": {
    "execution": {
     "iopub.execute_input": "2024-03-25T12:18:28.972051Z",
     "iopub.status.busy": "2024-03-25T12:18:28.971234Z",
     "iopub.status.idle": "2024-03-25T12:18:28.977299Z",
     "shell.execute_reply": "2024-03-25T12:18:28.976360Z"
    },
    "papermill": {
     "duration": 0.032104,
     "end_time": "2024-03-25T12:18:28.979253",
     "exception": false,
     "start_time": "2024-03-25T12:18:28.947149",
     "status": "completed"
    },
    "tags": []
   },
   "outputs": [
    {
     "data": {
      "text/plain": [
       "SGD (\n",
       "Parameter Group 0\n",
       "    dampening: 0\n",
       "    differentiable: False\n",
       "    foreach: None\n",
       "    lr: 0.01\n",
       "    maximize: False\n",
       "    momentum: 0\n",
       "    nesterov: False\n",
       "    weight_decay: 0\n",
       ")"
      ]
     },
     "execution_count": 39,
     "metadata": {},
     "output_type": "execute_result"
    }
   ],
   "source": [
    "optimizer"
   ]
  },
  {
   "cell_type": "markdown",
   "id": "3a9b6cf3",
   "metadata": {
    "papermill": {
     "duration": 0.02284,
     "end_time": "2024-03-25T12:18:29.025242",
     "exception": false,
     "start_time": "2024-03-25T12:18:29.002402",
     "status": "completed"
    },
    "tags": []
   },
   "source": [
    "### Train Test Loop"
   ]
  },
  {
   "cell_type": "code",
   "execution_count": 40,
   "id": "292f164b",
   "metadata": {
    "execution": {
     "iopub.execute_input": "2024-03-25T12:18:29.071999Z",
     "iopub.status.busy": "2024-03-25T12:18:29.071620Z",
     "iopub.status.idle": "2024-03-25T12:18:29.218195Z",
     "shell.execute_reply": "2024-03-25T12:18:29.217261Z"
    },
    "papermill": {
     "duration": 0.175753,
     "end_time": "2024-03-25T12:18:29.223557",
     "exception": false,
     "start_time": "2024-03-25T12:18:29.047804",
     "status": "completed"
    },
    "tags": []
   },
   "outputs": [
    {
     "name": "stdout",
     "output_type": "stream",
     "text": [
      "Loss :0.31288138031959534\n",
      "epoch 0 | loss 0.31288138031959534| test loss 0.48106518387794495 |params:OrderedDict([('weights', tensor([0.3406])), ('bias', tensor([0.1388]))])\n",
      "Loss :0.3013603389263153\n",
      "Loss :0.28983935713768005\n",
      "Loss :0.2783183455467224\n",
      "Loss :0.26679736375808716\n",
      "Loss :0.2552763521671295\n",
      "Loss :0.24375534057617188\n",
      "Loss :0.23223432898521423\n",
      "Loss :0.22071333229541779\n",
      "Loss :0.20919232070446014\n",
      "Loss :0.1976713240146637\n",
      "epoch 10 | loss 0.1976713240146637| test loss 0.3463551998138428 |params:OrderedDict([('weights', tensor([0.3796])), ('bias', tensor([0.2388]))])\n",
      "Loss :0.18615034222602844\n",
      "Loss :0.1746293306350708\n",
      "Loss :0.16310831904411316\n",
      "Loss :0.1515873372554779\n",
      "Loss :0.14006635546684265\n",
      "Loss :0.1285453587770462\n",
      "Loss :0.11702437698841095\n",
      "Loss :0.1060912236571312\n",
      "Loss :0.09681284427642822\n",
      "Loss :0.08908725529909134\n",
      "epoch 20 | loss 0.08908725529909134| test loss 0.21729660034179688 |params:OrderedDict([('weights', tensor([0.4184])), ('bias', tensor([0.3333]))])\n",
      "Loss :0.08227583020925522\n",
      "Loss :0.07638873159885406\n",
      "Loss :0.07160007208585739\n",
      "Loss :0.06747635453939438\n",
      "Loss :0.06395438313484192\n",
      "Loss :0.06097004935145378\n",
      "Loss :0.05845819041132927\n",
      "Loss :0.05635259300470352\n",
      "Loss :0.0545857772231102\n",
      "Loss :0.053148526698350906\n",
      "epoch 30 | loss 0.053148526698350906| test loss 0.14464017748832703 |params:OrderedDict([('weights', tensor([0.4512])), ('bias', tensor([0.3768]))])\n",
      "Loss :0.05181945487856865\n",
      "Loss :0.05069301277399063\n",
      "Loss :0.0498228520154953\n",
      "Loss :0.04895269125699997\n",
      "Loss :0.04819351062178612\n",
      "Loss :0.047531817108392715\n",
      "Loss :0.04692792519927025\n",
      "Loss :0.04642331600189209\n",
      "Loss :0.04591871052980423\n",
      "Loss :0.04543796554207802\n",
      "epoch 40 | loss 0.04543796554207802| test loss 0.11360953003168106 |params:OrderedDict([('weights', tensor([0.4748])), ('bias', tensor([0.3868]))])\n",
      "Loss :0.04503796249628067\n",
      "Loss :0.04463795945048332\n",
      "Loss :0.04423796385526657\n",
      "Loss :0.04383796453475952\n",
      "Loss :0.04343796148896217\n",
      "Loss :0.043074630200862885\n",
      "Loss :0.04272563382983208\n",
      "Loss :0.04237663000822067\n",
      "Loss :0.04202762991189957\n",
      "Loss :0.04167863354086876\n",
      "epoch 50 | loss 0.04167863354086876| test loss 0.09919948130846024 |params:OrderedDict([('weights', tensor([0.4938])), ('bias', tensor([0.3843]))])\n",
      "Loss :0.04132963344454765\n",
      "Loss :0.04098063334822655\n",
      "Loss :0.04063162952661514\n",
      "Loss :0.040282636880874634\n",
      "Loss :0.039933640509843826\n",
      "Loss :0.03958464413881302\n",
      "Loss :0.03923564404249191\n",
      "Loss :0.03888664394617081\n",
      "Loss :0.0385376438498497\n",
      "Loss :0.03818932920694351\n",
      "epoch 60 | loss 0.03818932920694351| test loss 0.08886633068323135 |params:OrderedDict([('weights', tensor([0.5116])), ('bias', tensor([0.3788]))])\n",
      "Loss :0.03785243630409241\n",
      "Loss :0.0375034399330616\n",
      "Loss :0.037164121866226196\n",
      "Loss :0.03681822493672371\n",
      "Loss :0.03647511452436447\n",
      "Loss :0.03613303601741791\n",
      "Loss :0.03578609973192215\n",
      "Loss :0.03544783592224121\n",
      "Loss :0.035098835825920105\n",
      "Loss :0.03476089984178543\n",
      "epoch 70 | loss 0.03476089984178543| test loss 0.0805937647819519 |params:OrderedDict([('weights', tensor([0.5288])), ('bias', tensor([0.3718]))])\n",
      "Loss :0.03441363573074341\n",
      "Loss :0.03407188132405281\n",
      "Loss :0.03372843936085701\n",
      "Loss :0.03338287025690079\n",
      "Loss :0.033043231815099716\n",
      "Loss :0.03269423171877861\n",
      "Loss :0.032357655465602875\n",
      "Loss :0.03200903534889221\n",
      "Loss :0.03166864812374115\n",
      "Loss :0.03132382780313492\n",
      "epoch 80 | loss 0.03132382780313492| test loss 0.07232122868299484 |params:OrderedDict([('weights', tensor([0.5459])), ('bias', tensor([0.3648]))])\n",
      "Loss :0.030979642644524574\n",
      "Loss :0.030638623982667923\n",
      "Loss :0.0302906334400177\n",
      "Loss :0.029953425750136375\n",
      "Loss :0.02960442565381527\n",
      "Loss :0.029265418648719788\n",
      "Loss :0.028919223695993423\n",
      "Loss :0.028576409444212914\n",
      "Loss :0.028234025463461876\n",
      "Loss :0.02788739837706089\n",
      "epoch 90 | loss 0.02788739837706089| test loss 0.06473556160926819 |params:OrderedDict([('weights', tensor([0.5629])), ('bias', tensor([0.3573]))])\n",
      "Loss :0.02754882536828518\n",
      "Loss :0.027199819684028625\n",
      "Loss :0.026862185448408127\n",
      "Loss :0.02651461586356163\n",
      "Loss :0.026173178106546402\n",
      "Loss :0.025829419493675232\n",
      "Loss :0.02548416517674923\n",
      "Loss :0.025144213810563087\n",
      "Loss :0.02479521557688713\n",
      "Loss :0.024458957836031914\n",
      "epoch 100 | loss 0.024458957836031914| test loss 0.05646304413676262 |params:OrderedDict([('weights', tensor([0.5800])), ('bias', tensor([0.3503]))])\n",
      "Loss :0.024110013619065285\n",
      "Loss :0.02376994863152504\n",
      "Loss :0.02342480979859829\n",
      "Loss :0.023080935701727867\n",
      "Loss :0.022739607840776443\n",
      "Loss :0.022391926497220993\n",
      "Loss :0.022054409608244896\n",
      "Loss :0.02170540764927864\n",
      "Loss :0.021366719156503677\n",
      "Loss :0.021020207554101944\n",
      "epoch 110 | loss 0.021020207554101944| test loss 0.04819049686193466 |params:OrderedDict([('weights', tensor([0.5972])), ('bias', tensor([0.3433]))])\n",
      "Loss :0.020677709951996803\n",
      "Loss :0.02033500373363495\n",
      "Loss :0.01998869702219963\n",
      "Loss :0.019649803638458252\n",
      "Loss :0.019300809130072594\n",
      "Loss :0.018963487818837166\n",
      "Loss :0.01861560344696045\n",
      "Loss :0.018274478614330292\n",
      "Loss :0.017930403351783752\n",
      "Loss :0.01758546568453312\n",
      "epoch 120 | loss 0.01758546568453312| test loss 0.04060482233762741 |params:OrderedDict([('weights', tensor([0.6141])), ('bias', tensor([0.3358]))])\n",
      "Loss :0.017245199531316757\n",
      "Loss :0.016896454617381096\n",
      "Loss :0.01656000316143036\n",
      "Loss :0.016210997477173805\n",
      "Loss :0.01587124727666378\n",
      "Loss :0.015525798313319683\n",
      "Loss :0.015182236209511757\n",
      "Loss :0.014840595424175262\n",
      "Loss :0.01449323259294033\n",
      "Loss :0.014155393466353416\n",
      "epoch 130 | loss 0.014155393466353416| test loss 0.03233227878808975 |params:OrderedDict([('weights', tensor([0.6313])), ('bias', tensor([0.3288]))])\n",
      "Loss :0.013806397095322609\n",
      "Loss :0.013468016870319843\n",
      "Loss :0.013121193274855614\n",
      "Loss :0.01277900766581297\n",
      "Loss :0.012435992248356342\n",
      "Loss :0.01208999752998352\n",
      "Loss :0.011750795878469944\n",
      "Loss :0.011401787400245667\n",
      "Loss :0.011064787395298481\n",
      "Loss :0.010716589167714119\n",
      "epoch 140 | loss 0.010716589167714119| test loss 0.024059748277068138 |params:OrderedDict([('weights', tensor([0.6485])), ('bias', tensor([0.3218]))])\n",
      "Loss :0.010375778190791607\n",
      "Loss :0.010031387209892273\n",
      "Loss :0.009686763398349285\n",
      "Loss :0.009346187114715576\n",
      "Loss :0.008997755125164986\n",
      "Loss :0.008660981431603432\n",
      "Loss :0.008311985060572624\n",
      "Loss :0.007972544990479946\n",
      "Loss :0.007626785431057215\n",
      "Loss :0.0072835334576666355\n",
      "epoch 150 | loss 0.0072835334576666355| test loss 0.016474086791276932 |params:OrderedDict([('weights', tensor([0.6654])), ('bias', tensor([0.3143]))])\n",
      "Loss :0.006941580679267645\n",
      "Loss :0.006594526115804911\n",
      "Loss :0.006256377790123224\n",
      "Loss :0.005907376762479544\n",
      "Loss :0.005569315515458584\n",
      "Loss :0.005222178064286709\n",
      "Loss :0.004880306776612997\n",
      "Loss :0.004536976106464863\n",
      "Loss :0.00419129803776741\n",
      "Loss :0.0038517764769494534\n",
      "epoch 160 | loss 0.0038517764769494534| test loss 0.008201557211577892 |params:OrderedDict([('weights', tensor([0.6826])), ('bias', tensor([0.3073]))])\n",
      "Loss :0.0035027749836444855\n",
      "Loss :0.0031660839449614286\n",
      "Loss :0.002817571861669421\n",
      "Loss :0.0024770735763013363\n",
      "Loss :0.0021323717664927244\n",
      "Loss :0.0017880648374557495\n",
      "Loss :0.0014518328243866563\n",
      "Loss :0.0011887758737429976\n",
      "Loss :0.0025885067880153656\n",
      "Loss :0.008932482451200485\n",
      "epoch 170 | loss 0.008932482451200485| test loss 0.005023092031478882 |params:OrderedDict([('weights', tensor([0.6951])), ('bias', tensor([0.2993]))])\n",
      "Loss :0.0025885067880153656\n",
      "Loss :0.008932482451200485\n",
      "Loss :0.0025885067880153656\n",
      "Loss :0.008932482451200485\n",
      "Loss :0.0025885067880153656\n",
      "Loss :0.008932482451200485\n",
      "Loss :0.0025885067880153656\n",
      "Loss :0.008932482451200485\n",
      "Loss :0.0025885067880153656\n",
      "Loss :0.008932482451200485\n",
      "epoch 180 | loss 0.008932482451200485| test loss 0.005023092031478882 |params:OrderedDict([('weights', tensor([0.6951])), ('bias', tensor([0.2993]))])\n",
      "Loss :0.0025885067880153656\n",
      "Loss :0.008932482451200485\n",
      "Loss :0.0025885067880153656\n",
      "Loss :0.008932482451200485\n",
      "Loss :0.0025885067880153656\n",
      "Loss :0.008932482451200485\n",
      "Loss :0.0025885067880153656\n",
      "Loss :0.008932482451200485\n",
      "Loss :0.0025885067880153656\n",
      "Loss :0.008932482451200485\n",
      "epoch 190 | loss 0.008932482451200485| test loss 0.005023092031478882 |params:OrderedDict([('weights', tensor([0.6951])), ('bias', tensor([0.2993]))])\n",
      "Loss :0.0025885067880153656\n",
      "Loss :0.008932482451200485\n",
      "Loss :0.0025885067880153656\n",
      "Loss :0.008932482451200485\n",
      "Loss :0.0025885067880153656\n",
      "Loss :0.008932482451200485\n",
      "Loss :0.0025885067880153656\n",
      "Loss :0.008932482451200485\n",
      "Loss :0.0025885067880153656\n",
      "Loss :0.008932482451200485\n",
      "epoch 200 | loss 0.008932482451200485| test loss 0.005023092031478882 |params:OrderedDict([('weights', tensor([0.6951])), ('bias', tensor([0.2993]))])\n",
      "Loss :0.0025885067880153656\n",
      "Loss :0.008932482451200485\n",
      "Loss :0.0025885067880153656\n",
      "Loss :0.008932482451200485\n",
      "Loss :0.0025885067880153656\n",
      "Loss :0.008932482451200485\n",
      "Loss :0.0025885067880153656\n",
      "Loss :0.008932482451200485\n",
      "Loss :0.0025885067880153656\n",
      "Loss :0.008932482451200485\n",
      "epoch 210 | loss 0.008932482451200485| test loss 0.005023092031478882 |params:OrderedDict([('weights', tensor([0.6951])), ('bias', tensor([0.2993]))])\n",
      "Loss :0.0025885067880153656\n",
      "Loss :0.008932482451200485\n",
      "Loss :0.0025885067880153656\n",
      "Loss :0.008932482451200485\n",
      "Loss :0.0025885067880153656\n",
      "Loss :0.008932482451200485\n",
      "Loss :0.0025885067880153656\n",
      "Loss :0.008932482451200485\n",
      "Loss :0.0025885067880153656\n",
      "Loss :0.008932482451200485\n",
      "epoch 220 | loss 0.008932482451200485| test loss 0.005023092031478882 |params:OrderedDict([('weights', tensor([0.6951])), ('bias', tensor([0.2993]))])\n",
      "Loss :0.0025885067880153656\n",
      "Loss :0.008932482451200485\n",
      "Loss :0.0025885067880153656\n",
      "Loss :0.008932482451200485\n",
      "Loss :0.0025885067880153656\n",
      "Loss :0.008932482451200485\n",
      "Loss :0.0025885067880153656\n",
      "Loss :0.008932482451200485\n",
      "Loss :0.0025885067880153656\n",
      "Loss :0.008932482451200485\n",
      "epoch 230 | loss 0.008932482451200485| test loss 0.005023092031478882 |params:OrderedDict([('weights', tensor([0.6951])), ('bias', tensor([0.2993]))])\n",
      "Loss :0.0025885067880153656\n",
      "Loss :0.008932482451200485\n",
      "Loss :0.0025885067880153656\n",
      "Loss :0.008932482451200485\n",
      "Loss :0.0025885067880153656\n",
      "Loss :0.008932482451200485\n",
      "Loss :0.0025885067880153656\n",
      "Loss :0.008932482451200485\n",
      "Loss :0.0025885067880153656\n",
      "Loss :0.008932482451200485\n",
      "epoch 240 | loss 0.008932482451200485| test loss 0.005023092031478882 |params:OrderedDict([('weights', tensor([0.6951])), ('bias', tensor([0.2993]))])\n",
      "Loss :0.0025885067880153656\n",
      "Loss :0.008932482451200485\n",
      "Loss :0.0025885067880153656\n",
      "Loss :0.008932482451200485\n",
      "Loss :0.0025885067880153656\n",
      "Loss :0.008932482451200485\n",
      "Loss :0.0025885067880153656\n",
      "Loss :0.008932482451200485\n",
      "Loss :0.0025885067880153656\n",
      "Loss :0.008932482451200485\n",
      "epoch 250 | loss 0.008932482451200485| test loss 0.005023092031478882 |params:OrderedDict([('weights', tensor([0.6951])), ('bias', tensor([0.2993]))])\n",
      "Loss :0.0025885067880153656\n",
      "Loss :0.008932482451200485\n",
      "Loss :0.0025885067880153656\n",
      "Loss :0.008932482451200485\n",
      "Loss :0.0025885067880153656\n",
      "Loss :0.008932482451200485\n",
      "Loss :0.0025885067880153656\n",
      "Loss :0.008932482451200485\n",
      "Loss :0.0025885067880153656\n",
      "Loss :0.008932482451200485\n",
      "epoch 260 | loss 0.008932482451200485| test loss 0.005023092031478882 |params:OrderedDict([('weights', tensor([0.6951])), ('bias', tensor([0.2993]))])\n",
      "Loss :0.0025885067880153656\n",
      "Loss :0.008932482451200485\n",
      "Loss :0.0025885067880153656\n",
      "Loss :0.008932482451200485\n",
      "Loss :0.0025885067880153656\n",
      "Loss :0.008932482451200485\n",
      "Loss :0.0025885067880153656\n",
      "Loss :0.008932482451200485\n",
      "Loss :0.0025885067880153656\n",
      "Loss :0.008932482451200485\n",
      "epoch 270 | loss 0.008932482451200485| test loss 0.005023092031478882 |params:OrderedDict([('weights', tensor([0.6951])), ('bias', tensor([0.2993]))])\n",
      "Loss :0.0025885067880153656\n",
      "Loss :0.008932482451200485\n",
      "Loss :0.0025885067880153656\n",
      "Loss :0.008932482451200485\n",
      "Loss :0.0025885067880153656\n",
      "Loss :0.008932482451200485\n",
      "Loss :0.0025885067880153656\n",
      "Loss :0.008932482451200485\n",
      "Loss :0.0025885067880153656\n",
      "Loss :0.008932482451200485\n",
      "epoch 280 | loss 0.008932482451200485| test loss 0.005023092031478882 |params:OrderedDict([('weights', tensor([0.6951])), ('bias', tensor([0.2993]))])\n",
      "Loss :0.0025885067880153656\n",
      "Loss :0.008932482451200485\n",
      "Loss :0.0025885067880153656\n",
      "Loss :0.008932482451200485\n",
      "Loss :0.0025885067880153656\n",
      "Loss :0.008932482451200485\n",
      "Loss :0.0025885067880153656\n",
      "Loss :0.008932482451200485\n",
      "Loss :0.0025885067880153656\n",
      "Loss :0.008932482451200485\n",
      "epoch 290 | loss 0.008932482451200485| test loss 0.005023092031478882 |params:OrderedDict([('weights', tensor([0.6951])), ('bias', tensor([0.2993]))])\n",
      "Loss :0.0025885067880153656\n",
      "Loss :0.008932482451200485\n",
      "Loss :0.0025885067880153656\n",
      "Loss :0.008932482451200485\n",
      "Loss :0.0025885067880153656\n",
      "Loss :0.008932482451200485\n",
      "Loss :0.0025885067880153656\n",
      "Loss :0.008932482451200485\n",
      "Loss :0.0025885067880153656\n",
      "Loss :0.008932482451200485\n",
      "epoch 300 | loss 0.008932482451200485| test loss 0.005023092031478882 |params:OrderedDict([('weights', tensor([0.6951])), ('bias', tensor([0.2993]))])\n"
     ]
    }
   ],
   "source": [
    "torch.manual_seed(42)\n",
    "#Building a training loop\n",
    "\n",
    "epochs = 301\n",
    "#tracking progress\n",
    "epoch_count = []\n",
    "loss_values=[]\n",
    "test_loss_values=[]\n",
    "\n",
    "# an epoch is a loop through the data\n",
    "# step 0 loop through data\n",
    "for epoch in range(epochs):\n",
    "    #set model to training mode\n",
    "    mod.train()\n",
    "    #forward pass\n",
    "    y_pred = mod(X_train)\n",
    "    #calculate loss\n",
    "    loss = loss_fn(y_pred,y_train)\n",
    "    print(f\"Loss :{loss}\")\n",
    "    #optimizer zero grad\n",
    "    optimizer.zero_grad()\n",
    "    #back propagation\n",
    "    loss.backward()\n",
    "    #perform gradient descent\n",
    "    optimizer.step()\n",
    "    # testing\n",
    "    mod.eval()\n",
    "    with torch.inference_mode():\n",
    "        test_pred = mod(X_test)\n",
    "        test_loss = loss_fn(test_pred,y_test)\n",
    "        if epoch % 10 == 0:\n",
    "            epoch_count.append(epoch)\n",
    "            loss_values.append(loss)\n",
    "            test_loss_values.append(test_loss)\n",
    "            print(f\"epoch {epoch} | loss {loss}| test loss {test_loss} |params:{mod.state_dict()}\")\n",
    "        \n",
    "    "
   ]
  },
  {
   "cell_type": "code",
   "execution_count": 41,
   "id": "a6ad0172",
   "metadata": {
    "execution": {
     "iopub.execute_input": "2024-03-25T12:18:29.272038Z",
     "iopub.status.busy": "2024-03-25T12:18:29.271661Z",
     "iopub.status.idle": "2024-03-25T12:18:29.275690Z",
     "shell.execute_reply": "2024-03-25T12:18:29.274754Z"
    },
    "papermill": {
     "duration": 0.030464,
     "end_time": "2024-03-25T12:18:29.277698",
     "exception": false,
     "start_time": "2024-03-25T12:18:29.247234",
     "status": "completed"
    },
    "tags": []
   },
   "outputs": [],
   "source": [
    "#plot loss curves\n"
   ]
  },
  {
   "cell_type": "code",
   "execution_count": 42,
   "id": "dc598046",
   "metadata": {
    "execution": {
     "iopub.execute_input": "2024-03-25T12:18:29.326407Z",
     "iopub.status.busy": "2024-03-25T12:18:29.325689Z",
     "iopub.status.idle": "2024-03-25T12:18:29.709860Z",
     "shell.execute_reply": "2024-03-25T12:18:29.708883Z"
    },
    "papermill": {
     "duration": 0.410784,
     "end_time": "2024-03-25T12:18:29.711956",
     "exception": false,
     "start_time": "2024-03-25T12:18:29.301172",
     "status": "completed"
    },
    "tags": []
   },
   "outputs": [
    {
     "data": {
      "image/png": "[encoded data removed]",
      "text/plain": [
       "<Figure size 1000x700 with 1 Axes>"
      ]
     },
     "metadata": {},
     "output_type": "display_data"
    }
   ],
   "source": [
    "plo(X_train,y_train,X_test,y_test,y_preds)"
   ]
  },
  {
   "cell_type": "code",
   "execution_count": 43,
   "id": "494c47a2",
   "metadata": {
    "execution": {
     "iopub.execute_input": "2024-03-25T12:18:29.761038Z",
     "iopub.status.busy": "2024-03-25T12:18:29.760698Z",
     "iopub.status.idle": "2024-03-25T12:18:29.765122Z",
     "shell.execute_reply": "2024-03-25T12:18:29.764355Z"
    },
    "papermill": {
     "duration": 0.031357,
     "end_time": "2024-03-25T12:18:29.766949",
     "exception": false,
     "start_time": "2024-03-25T12:18:29.735592",
     "status": "completed"
    },
    "tags": []
   },
   "outputs": [],
   "source": [
    "with torch.inference_mode():\n",
    "    y_preds_new = mod(X_test)"
   ]
  },
  {
   "cell_type": "code",
   "execution_count": 44,
   "id": "2a905a57",
   "metadata": {
    "execution": {
     "iopub.execute_input": "2024-03-25T12:18:29.815824Z",
     "iopub.status.busy": "2024-03-25T12:18:29.815477Z",
     "iopub.status.idle": "2024-03-25T12:18:30.134398Z",
     "shell.execute_reply": "2024-03-25T12:18:30.133545Z"
    },
    "papermill": {
     "duration": 0.346011,
     "end_time": "2024-03-25T12:18:30.136566",
     "exception": false,
     "start_time": "2024-03-25T12:18:29.790555",
     "status": "completed"
    },
    "tags": []
   },
   "outputs": [
    {
     "data": {
      "image/png": "[encoded data removed]",
      "text/plain": [
       "<Figure size 1000x700 with 1 Axes>"
      ]
     },
     "metadata": {},
     "output_type": "display_data"
    }
   ],
   "source": [
    "plo(X_train,y_train,X_test,y_test,y_preds_new)"
   ]
  },
  {
   "cell_type": "code",
   "execution_count": 45,
   "id": "7f009e0c",
   "metadata": {
    "execution": {
     "iopub.execute_input": "2024-03-25T12:18:30.187592Z",
     "iopub.status.busy": "2024-03-25T12:18:30.186709Z",
     "iopub.status.idle": "2024-03-25T12:18:30.442999Z",
     "shell.execute_reply": "2024-03-25T12:18:30.442022Z"
    },
    "papermill": {
     "duration": 0.284104,
     "end_time": "2024-03-25T12:18:30.445179",
     "exception": false,
     "start_time": "2024-03-25T12:18:30.161075",
     "status": "completed"
    },
    "tags": []
   },
   "outputs": [
    {
     "data": {
      "text/plain": [
       "[<matplotlib.lines.Line2D at 0x7c9dd0992a70>]"
      ]
     },
     "execution_count": 45,
     "metadata": {},
     "output_type": "execute_result"
    },
    {
     "data": {
      "image/png": "[encoded data removed]",
      "text/plain": [
       "<Figure size 640x480 with 1 Axes>"
      ]
     },
     "metadata": {},
     "output_type": "display_data"
    }
   ],
   "source": [
    "import numpy as np\n",
    "plt.plot(epoch_count,np.array(torch.tensor(loss_values).cpu().numpy()),label=\"Train\")\n",
    "plt.plot(epoch_count,test_loss_values,label=\"Test loss\")"
   ]
  },
  {
   "cell_type": "markdown",
   "id": "d3d9d0a3",
   "metadata": {
    "papermill": {
     "duration": 0.023941,
     "end_time": "2024-03-25T12:18:30.493725",
     "exception": false,
     "start_time": "2024-03-25T12:18:30.469784",
     "status": "completed"
    },
    "tags": []
   },
   "source": [
    "## saving a pytorch model\n",
    "\n",
    "three main methods: \n",
    "- torch.save(): save a pytorch object in pythons pickle format\n",
    "- torch.load(): allows you load a saved pytorch object\n",
    "- torch.nn.Module.load_state_dict():this allows to load a model's saved state dictionary\n"
   ]
  },
  {
   "cell_type": "markdown",
   "id": "6d37deba",
   "metadata": {
    "papermill": {
     "duration": 0.024163,
     "end_time": "2024-03-25T12:18:30.542034",
     "exception": false,
     "start_time": "2024-03-25T12:18:30.517871",
     "status": "completed"
    },
    "tags": []
   },
   "source": [
    "### Saving & Loading Models"
   ]
  },
  {
   "cell_type": "code",
   "execution_count": 46,
   "id": "5075754e",
   "metadata": {
    "execution": {
     "iopub.execute_input": "2024-03-25T12:18:30.594286Z",
     "iopub.status.busy": "2024-03-25T12:18:30.593830Z",
     "iopub.status.idle": "2024-03-25T12:18:30.600932Z",
     "shell.execute_reply": "2024-03-25T12:18:30.600033Z"
    },
    "papermill": {
     "duration": 0.035966,
     "end_time": "2024-03-25T12:18:30.602917",
     "exception": false,
     "start_time": "2024-03-25T12:18:30.566951",
     "status": "completed"
    },
    "tags": []
   },
   "outputs": [],
   "source": [
    "from pathlib import Path\n",
    "mod_name = \"first_pytorch_model.pth\"\n",
    "mod_path = \"/kaggle/working/\"+\"mod_name\"\n",
    "torch.save(mod.state_dict(),mod_path)\n",
    "\n"
   ]
  },
  {
   "cell_type": "code",
   "execution_count": 47,
   "id": "28d6813b",
   "metadata": {
    "execution": {
     "iopub.execute_input": "2024-03-25T12:18:30.657090Z",
     "iopub.status.busy": "2024-03-25T12:18:30.656217Z",
     "iopub.status.idle": "2024-03-25T12:18:30.663749Z",
     "shell.execute_reply": "2024-03-25T12:18:30.662908Z"
    },
    "papermill": {
     "duration": 0.038142,
     "end_time": "2024-03-25T12:18:30.665634",
     "exception": false,
     "start_time": "2024-03-25T12:18:30.627492",
     "status": "completed"
    },
    "tags": []
   },
   "outputs": [
    {
     "data": {
      "text/plain": [
       "<All keys matched successfully>"
      ]
     },
     "execution_count": 47,
     "metadata": {},
     "output_type": "execute_result"
    }
   ],
   "source": [
    "loaded_mod = LinearRegressionModel()\n",
    "loaded_mod.load_state_dict(torch.load(mod_path))"
   ]
  },
  {
   "cell_type": "code",
   "execution_count": 48,
   "id": "df98127f",
   "metadata": {
    "execution": {
     "iopub.execute_input": "2024-03-25T12:18:30.716133Z",
     "iopub.status.busy": "2024-03-25T12:18:30.715745Z",
     "iopub.status.idle": "2024-03-25T12:18:30.722900Z",
     "shell.execute_reply": "2024-03-25T12:18:30.722026Z"
    },
    "papermill": {
     "duration": 0.03484,
     "end_time": "2024-03-25T12:18:30.724870",
     "exception": false,
     "start_time": "2024-03-25T12:18:30.690030",
     "status": "completed"
    },
    "tags": []
   },
   "outputs": [
    {
     "data": {
      "text/plain": [
       "OrderedDict([('weights', tensor([0.6951])), ('bias', tensor([0.2993]))])"
      ]
     },
     "execution_count": 48,
     "metadata": {},
     "output_type": "execute_result"
    }
   ],
   "source": [
    "loaded_mod.state_dict()"
   ]
  },
  {
   "cell_type": "markdown",
   "id": "06d8c5c8",
   "metadata": {
    "papermill": {
     "duration": 0.025101,
     "end_time": "2024-03-25T12:18:30.774599",
     "exception": false,
     "start_time": "2024-03-25T12:18:30.749498",
     "status": "completed"
    },
    "tags": []
   },
   "source": [
    "## Device agnostic set-up"
   ]
  },
  {
   "cell_type": "code",
   "execution_count": 49,
   "id": "10cac68a",
   "metadata": {
    "execution": {
     "iopub.execute_input": "2024-03-25T12:18:30.825994Z",
     "iopub.status.busy": "2024-03-25T12:18:30.825344Z",
     "iopub.status.idle": "2024-03-25T12:18:30.831158Z",
     "shell.execute_reply": "2024-03-25T12:18:30.829967Z"
    },
    "papermill": {
     "duration": 0.033817,
     "end_time": "2024-03-25T12:18:30.833136",
     "exception": false,
     "start_time": "2024-03-25T12:18:30.799319",
     "status": "completed"
    },
    "tags": []
   },
   "outputs": [
    {
     "name": "stdout",
     "output_type": "stream",
     "text": [
      "using device cuda\n"
     ]
    }
   ],
   "source": [
    "import torch\n",
    "import numpy\n",
    "import matplotlib.pyplot as plt\n",
    "from torch import nn\n",
    "device = \"cuda\" if torch.cuda.is_available() else \"cpu\"\n",
    "print(f\"using device {device}\")"
   ]
  },
  {
   "cell_type": "code",
   "execution_count": 50,
   "id": "c69f8df1",
   "metadata": {
    "execution": {
     "iopub.execute_input": "2024-03-25T12:18:30.885428Z",
     "iopub.status.busy": "2024-03-25T12:18:30.884584Z",
     "iopub.status.idle": "2024-03-25T12:18:31.042670Z",
     "shell.execute_reply": "2024-03-25T12:18:31.041695Z"
    },
    "papermill": {
     "duration": 0.186962,
     "end_time": "2024-03-25T12:18:31.045049",
     "exception": false,
     "start_time": "2024-03-25T12:18:30.858087",
     "status": "completed"
    },
    "tags": []
   },
   "outputs": [],
   "source": [
    "X_train = X_train.to(device)\n",
    "y_train = y_train.to(device)\n",
    "X_test = X_test.to(device)\n",
    "y_test = y_test.to(device)"
   ]
  },
  {
   "cell_type": "code",
   "execution_count": 51,
   "id": "1fe73240",
   "metadata": {
    "execution": {
     "iopub.execute_input": "2024-03-25T12:18:31.097077Z",
     "iopub.status.busy": "2024-03-25T12:18:31.095966Z",
     "iopub.status.idle": "2024-03-25T12:18:31.102481Z",
     "shell.execute_reply": "2024-03-25T12:18:31.101602Z"
    },
    "papermill": {
     "duration": 0.034427,
     "end_time": "2024-03-25T12:18:31.104457",
     "exception": false,
     "start_time": "2024-03-25T12:18:31.070030",
     "status": "completed"
    },
    "tags": []
   },
   "outputs": [
    {
     "data": {
      "text/plain": [
       "(device(type='cuda', index=0),\n",
       " device(type='cuda', index=0),\n",
       " device(type='cuda', index=0),\n",
       " device(type='cuda', index=0))"
      ]
     },
     "execution_count": 51,
     "metadata": {},
     "output_type": "execute_result"
    }
   ],
   "source": [
    "X_train.device,X_test.device,y_train.device,y_test.device"
   ]
  },
  {
   "cell_type": "code",
   "execution_count": 52,
   "id": "03d0960a",
   "metadata": {
    "execution": {
     "iopub.execute_input": "2024-03-25T12:18:31.156687Z",
     "iopub.status.busy": "2024-03-25T12:18:31.155806Z",
     "iopub.status.idle": "2024-03-25T12:18:31.408742Z",
     "shell.execute_reply": "2024-03-25T12:18:31.407514Z"
    },
    "papermill": {
     "duration": 0.281551,
     "end_time": "2024-03-25T12:18:31.411209",
     "exception": false,
     "start_time": "2024-03-25T12:18:31.129658",
     "status": "completed"
    },
    "tags": []
   },
   "outputs": [
    {
     "data": {
      "text/plain": [
       "(LinearRegression(\n",
       "   (linear_layer): Linear(in_features=1, out_features=1, bias=True)\n",
       " ),\n",
       " OrderedDict([('linear_layer.weight', tensor([[0.7645]], device='cuda:0')),\n",
       "              ('linear_layer.bias', tensor([0.8300], device='cuda:0'))]),\n",
       " device(type='cuda', index=0))"
      ]
     },
     "execution_count": 52,
     "metadata": {},
     "output_type": "execute_result"
    }
   ],
   "source": [
    "#you didnt have to do this tbh could have just moved the cpu model to cuda\n",
    "class LinearRegression(nn.Module):\n",
    "    def __init__(self):\n",
    "        super().__init__()\n",
    "        #using nn.Linear() for creating model params\n",
    "        self.linear_layer = nn.Linear(in_features=1,out_features=1)\n",
    "    def forward(self,x: torch.Tensor) -> torch.Tensor:\n",
    "        return self.linear_layer(x)\n",
    "    \n",
    "    \n",
    "torch.manual_seed(42)\n",
    "mod = LinearRegression()\n",
    "mod = mod.to(device)\n",
    "mod,mod.state_dict(),next(mod.parameters()).device\n",
    "        "
   ]
  },
  {
   "cell_type": "code",
   "execution_count": 53,
   "id": "b2a13843",
   "metadata": {
    "execution": {
     "iopub.execute_input": "2024-03-25T12:18:31.470322Z",
     "iopub.status.busy": "2024-03-25T12:18:31.469302Z",
     "iopub.status.idle": "2024-03-25T12:18:31.474354Z",
     "shell.execute_reply": "2024-03-25T12:18:31.473574Z"
    },
    "papermill": {
     "duration": 0.034315,
     "end_time": "2024-03-25T12:18:31.476257",
     "exception": false,
     "start_time": "2024-03-25T12:18:31.441942",
     "status": "completed"
    },
    "tags": []
   },
   "outputs": [],
   "source": [
    "# setting up loss function\n",
    "loss_fn = nn.L1Loss()\n",
    "# setting up optimiser\n",
    "optimizer = torch.optim.SGD(params=mod.parameters(),lr=0.001,)"
   ]
  },
  {
   "cell_type": "code",
   "execution_count": 54,
   "id": "6018f8f4",
   "metadata": {
    "execution": {
     "iopub.execute_input": "2024-03-25T12:18:31.528172Z",
     "iopub.status.busy": "2024-03-25T12:18:31.527468Z",
     "iopub.status.idle": "2024-03-25T12:18:32.725585Z",
     "shell.execute_reply": "2024-03-25T12:18:32.724630Z"
    },
    "papermill": {
     "duration": 1.226462,
     "end_time": "2024-03-25T12:18:32.727761",
     "exception": false,
     "start_time": "2024-03-25T12:18:31.501299",
     "status": "completed"
    },
    "tags": []
   },
   "outputs": [
    {
     "name": "stdout",
     "output_type": "stream",
     "text": [
      "Epoch 0 | Training loss 0.5551779866218567 | Test loss 0.5861001014709473 |params:OrderedDict([('linear_layer.weight', tensor([[0.7641]], device='cuda:0')), ('linear_layer.bias', tensor([0.8290], device='cuda:0'))])\n",
      "Epoch 10 | Training loss 0.5436570644378662 | Test loss 0.5726293921470642 |params:OrderedDict([('linear_layer.weight', tensor([[0.7602]], device='cuda:0')), ('linear_layer.bias', tensor([0.8190], device='cuda:0'))])\n",
      "Epoch 20 | Training loss 0.5321362614631653 | Test loss 0.5591585040092468 |params:OrderedDict([('linear_layer.weight', tensor([[0.7563]], device='cuda:0')), ('linear_layer.bias', tensor([0.8090], device='cuda:0'))])\n",
      "Epoch 30 | Training loss 0.5206153988838196 | Test loss 0.5456876754760742 |params:OrderedDict([('linear_layer.weight', tensor([[0.7524]], device='cuda:0')), ('linear_layer.bias', tensor([0.7990], device='cuda:0'))])\n",
      "Epoch 40 | Training loss 0.5090945363044739 | Test loss 0.5322169661521912 |params:OrderedDict([('linear_layer.weight', tensor([[0.7485]], device='cuda:0')), ('linear_layer.bias', tensor([0.7890], device='cuda:0'))])\n",
      "Epoch 50 | Training loss 0.49757376313209534 | Test loss 0.5187460780143738 |params:OrderedDict([('linear_layer.weight', tensor([[0.7446]], device='cuda:0')), ('linear_layer.bias', tensor([0.7790], device='cuda:0'))])\n",
      "Epoch 60 | Training loss 0.48605284094810486 | Test loss 0.5052752494812012 |params:OrderedDict([('linear_layer.weight', tensor([[0.7407]], device='cuda:0')), ('linear_layer.bias', tensor([0.7690], device='cuda:0'))])\n",
      "Epoch 70 | Training loss 0.47453203797340393 | Test loss 0.49180442094802856 |params:OrderedDict([('linear_layer.weight', tensor([[0.7368]], device='cuda:0')), ('linear_layer.bias', tensor([0.7590], device='cuda:0'))])\n",
      "Epoch 80 | Training loss 0.4630111753940582 | Test loss 0.4783336818218231 |params:OrderedDict([('linear_layer.weight', tensor([[0.7329]], device='cuda:0')), ('linear_layer.bias', tensor([0.7490], device='cuda:0'))])\n",
      "Epoch 90 | Training loss 0.4514903724193573 | Test loss 0.4648628234863281 |params:OrderedDict([('linear_layer.weight', tensor([[0.7290]], device='cuda:0')), ('linear_layer.bias', tensor([0.7390], device='cuda:0'))])\n",
      "Epoch 100 | Training loss 0.4399694502353668 | Test loss 0.4513919949531555 |params:OrderedDict([('linear_layer.weight', tensor([[0.7251]], device='cuda:0')), ('linear_layer.bias', tensor([0.7290], device='cuda:0'))])\n",
      "Epoch 110 | Training loss 0.4284486472606659 | Test loss 0.4379211962223053 |params:OrderedDict([('linear_layer.weight', tensor([[0.7212]], device='cuda:0')), ('linear_layer.bias', tensor([0.7190], device='cuda:0'))])\n",
      "Epoch 120 | Training loss 0.4169278144836426 | Test loss 0.4244503974914551 |params:OrderedDict([('linear_layer.weight', tensor([[0.7173]], device='cuda:0')), ('linear_layer.bias', tensor([0.7090], device='cuda:0'))])\n",
      "Epoch 130 | Training loss 0.4054069519042969 | Test loss 0.41097956895828247 |params:OrderedDict([('linear_layer.weight', tensor([[0.7134]], device='cuda:0')), ('linear_layer.bias', tensor([0.6990], device='cuda:0'))])\n",
      "Epoch 140 | Training loss 0.39388611912727356 | Test loss 0.39750877022743225 |params:OrderedDict([('linear_layer.weight', tensor([[0.7095]], device='cuda:0')), ('linear_layer.bias', tensor([0.6890], device='cuda:0'))])\n",
      "Epoch 150 | Training loss 0.38236525654792786 | Test loss 0.38403797149658203 |params:OrderedDict([('linear_layer.weight', tensor([[0.7056]], device='cuda:0')), ('linear_layer.bias', tensor([0.6790], device='cuda:0'))])\n",
      "Epoch 160 | Training loss 0.37084442377090454 | Test loss 0.3705671727657318 |params:OrderedDict([('linear_layer.weight', tensor([[0.7017]], device='cuda:0')), ('linear_layer.bias', tensor([0.6690], device='cuda:0'))])\n",
      "Epoch 170 | Training loss 0.3593235909938812 | Test loss 0.3570963442325592 |params:OrderedDict([('linear_layer.weight', tensor([[0.6978]], device='cuda:0')), ('linear_layer.bias', tensor([0.6590], device='cuda:0'))])\n",
      "Epoch 180 | Training loss 0.3478027284145355 | Test loss 0.343625545501709 |params:OrderedDict([('linear_layer.weight', tensor([[0.6939]], device='cuda:0')), ('linear_layer.bias', tensor([0.6490], device='cuda:0'))])\n",
      "Epoch 190 | Training loss 0.3362818658351898 | Test loss 0.33015474677085876 |params:OrderedDict([('linear_layer.weight', tensor([[0.6900]], device='cuda:0')), ('linear_layer.bias', tensor([0.6390], device='cuda:0'))])\n",
      "Epoch 200 | Training loss 0.3247610330581665 | Test loss 0.31668388843536377 |params:OrderedDict([('linear_layer.weight', tensor([[0.6861]], device='cuda:0')), ('linear_layer.bias', tensor([0.6290], device='cuda:0'))])\n",
      "Epoch 210 | Training loss 0.3132402002811432 | Test loss 0.30321311950683594 |params:OrderedDict([('linear_layer.weight', tensor([[0.6822]], device='cuda:0')), ('linear_layer.bias', tensor([0.6190], device='cuda:0'))])\n",
      "Epoch 220 | Training loss 0.3017193675041199 | Test loss 0.28974229097366333 |params:OrderedDict([('linear_layer.weight', tensor([[0.6784]], device='cuda:0')), ('linear_layer.bias', tensor([0.6090], device='cuda:0'))])\n",
      "Epoch 230 | Training loss 0.29019853472709656 | Test loss 0.27627143263816833 |params:OrderedDict([('linear_layer.weight', tensor([[0.6745]], device='cuda:0')), ('linear_layer.bias', tensor([0.5990], device='cuda:0'))])\n",
      "Epoch 240 | Training loss 0.27867767214775085 | Test loss 0.2628006637096405 |params:OrderedDict([('linear_layer.weight', tensor([[0.6706]], device='cuda:0')), ('linear_layer.bias', tensor([0.5890], device='cuda:0'))])\n",
      "Epoch 250 | Training loss 0.26715680956840515 | Test loss 0.2493298500776291 |params:OrderedDict([('linear_layer.weight', tensor([[0.6667]], device='cuda:0')), ('linear_layer.bias', tensor([0.5790], device='cuda:0'))])\n",
      "Epoch 260 | Training loss 0.25563597679138184 | Test loss 0.23585906624794006 |params:OrderedDict([('linear_layer.weight', tensor([[0.6628]], device='cuda:0')), ('linear_layer.bias', tensor([0.5690], device='cuda:0'))])\n",
      "Epoch 270 | Training loss 0.24411511421203613 | Test loss 0.22238822281360626 |params:OrderedDict([('linear_layer.weight', tensor([[0.6589]], device='cuda:0')), ('linear_layer.bias', tensor([0.5590], device='cuda:0'))])\n",
      "Epoch 280 | Training loss 0.232594296336174 | Test loss 0.20891742408275604 |params:OrderedDict([('linear_layer.weight', tensor([[0.6550]], device='cuda:0')), ('linear_layer.bias', tensor([0.5490], device='cuda:0'))])\n",
      "Epoch 290 | Training loss 0.2210734337568283 | Test loss 0.19544661045074463 |params:OrderedDict([('linear_layer.weight', tensor([[0.6511]], device='cuda:0')), ('linear_layer.bias', tensor([0.5390], device='cuda:0'))])\n",
      "Epoch 300 | Training loss 0.209552600979805 | Test loss 0.18197579681873322 |params:OrderedDict([('linear_layer.weight', tensor([[0.6472]], device='cuda:0')), ('linear_layer.bias', tensor([0.5290], device='cuda:0'))])\n",
      "Epoch 310 | Training loss 0.19803175330162048 | Test loss 0.168504998087883 |params:OrderedDict([('linear_layer.weight', tensor([[0.6433]], device='cuda:0')), ('linear_layer.bias', tensor([0.5190], device='cuda:0'))])\n",
      "Epoch 320 | Training loss 0.18651090562343597 | Test loss 0.1550341695547104 |params:OrderedDict([('linear_layer.weight', tensor([[0.6394]], device='cuda:0')), ('linear_layer.bias', tensor([0.5090], device='cuda:0'))])\n",
      "Epoch 330 | Training loss 0.17499005794525146 | Test loss 0.14156334102153778 |params:OrderedDict([('linear_layer.weight', tensor([[0.6355]], device='cuda:0')), ('linear_layer.bias', tensor([0.4990], device='cuda:0'))])\n",
      "Epoch 340 | Training loss 0.16346922516822815 | Test loss 0.12809255719184875 |params:OrderedDict([('linear_layer.weight', tensor([[0.6316]], device='cuda:0')), ('linear_layer.bias', tensor([0.4890], device='cuda:0'))])\n",
      "Epoch 350 | Training loss 0.15194837749004364 | Test loss 0.11462175101041794 |params:OrderedDict([('linear_layer.weight', tensor([[0.6277]], device='cuda:0')), ('linear_layer.bias', tensor([0.4790], device='cuda:0'))])\n",
      "Epoch 360 | Training loss 0.14042751491069794 | Test loss 0.10115094482898712 |params:OrderedDict([('linear_layer.weight', tensor([[0.6238]], device='cuda:0')), ('linear_layer.bias', tensor([0.4690], device='cuda:0'))])\n",
      "Epoch 370 | Training loss 0.12890666723251343 | Test loss 0.08768010139465332 |params:OrderedDict([('linear_layer.weight', tensor([[0.6199]], device='cuda:0')), ('linear_layer.bias', tensor([0.4590], device='cuda:0'))])\n",
      "Epoch 380 | Training loss 0.11738584190607071 | Test loss 0.07420932501554489 |params:OrderedDict([('linear_layer.weight', tensor([[0.6160]], device='cuda:0')), ('linear_layer.bias', tensor([0.4490], device='cuda:0'))])\n",
      "Epoch 390 | Training loss 0.105864979326725 | Test loss 0.06073850393295288 |params:OrderedDict([('linear_layer.weight', tensor([[0.6121]], device='cuda:0')), ('linear_layer.bias', tensor([0.4390], device='cuda:0'))])\n",
      "Epoch 400 | Training loss 0.09434414654970169 | Test loss 0.04726768285036087 |params:OrderedDict([('linear_layer.weight', tensor([[0.6082]], device='cuda:0')), ('linear_layer.bias', tensor([0.4290], device='cuda:0'))])\n",
      "Epoch 410 | Training loss 0.08282329887151718 | Test loss 0.03379688784480095 |params:OrderedDict([('linear_layer.weight', tensor([[0.6043]], device='cuda:0')), ('linear_layer.bias', tensor([0.4190], device='cuda:0'))])\n",
      "Epoch 420 | Training loss 0.07130245864391327 | Test loss 0.02032606676220894 |params:OrderedDict([('linear_layer.weight', tensor([[0.6004]], device='cuda:0')), ('linear_layer.bias', tensor([0.4090], device='cuda:0'))])\n",
      "Epoch 430 | Training loss 0.05978161096572876 | Test loss 0.007426714990288019 |params:OrderedDict([('linear_layer.weight', tensor([[0.5965]], device='cuda:0')), ('linear_layer.bias', tensor([0.3990], device='cuda:0'))])\n",
      "Epoch 440 | Training loss 0.04826076328754425 | Test loss 0.007407677359879017 |params:OrderedDict([('linear_layer.weight', tensor([[0.5926]], device='cuda:0')), ('linear_layer.bias', tensor([0.3890], device='cuda:0'))])\n",
      "Epoch 450 | Training loss 0.0378650426864624 | Test loss 0.0190771222114563 |params:OrderedDict([('linear_layer.weight', tensor([[0.5891]], device='cuda:0')), ('linear_layer.bias', tensor([0.3796], device='cuda:0'))])\n",
      "Epoch 460 | Training loss 0.03187794238328934 | Test loss 0.028085077181458473 |params:OrderedDict([('linear_layer.weight', tensor([[0.5872]], device='cuda:0')), ('linear_layer.bias', tensor([0.3723], device='cuda:0'))])\n",
      "Epoch 470 | Training loss 0.028469419106841087 | Test loss 0.03448789194226265 |params:OrderedDict([('linear_layer.weight', tensor([[0.5863]], device='cuda:0')), ('linear_layer.bias', tensor([0.3667], device='cuda:0'))])\n",
      "Epoch 480 | Training loss 0.026411060243844986 | Test loss 0.03905702382326126 |params:OrderedDict([('linear_layer.weight', tensor([[0.5862]], device='cuda:0')), ('linear_layer.bias', tensor([0.3622], device='cuda:0'))])\n",
      "Epoch 490 | Training loss 0.02506597898900509 | Test loss 0.042284972965717316 |params:OrderedDict([('linear_layer.weight', tensor([[0.5866]], device='cuda:0')), ('linear_layer.bias', tensor([0.3587], device='cuda:0'))])\n",
      "Epoch 500 | Training loss 0.024156799539923668 | Test loss 0.044561710208654404 |params:OrderedDict([('linear_layer.weight', tensor([[0.5873]], device='cuda:0')), ('linear_layer.bias', tensor([0.3558], device='cuda:0'))])\n",
      "Epoch 510 | Training loss 0.023461051285266876 | Test loss 0.04618941619992256 |params:OrderedDict([('linear_layer.weight', tensor([[0.5882]], device='cuda:0')), ('linear_layer.bias', tensor([0.3533], device='cuda:0'))])\n",
      "Epoch 520 | Training loss 0.022931061685085297 | Test loss 0.04717463254928589 |params:OrderedDict([('linear_layer.weight', tensor([[0.5893]], device='cuda:0')), ('linear_layer.bias', tensor([0.3513], device='cuda:0'))])\n",
      "Epoch 530 | Training loss 0.022473132237792015 | Test loss 0.04766683652997017 |params:OrderedDict([('linear_layer.weight', tensor([[0.5906]], device='cuda:0')), ('linear_layer.bias', tensor([0.3497], device='cuda:0'))])\n",
      "Epoch 540 | Training loss 0.022060485556721687 | Test loss 0.04794773459434509 |params:OrderedDict([('linear_layer.weight', tensor([[0.5920]], device='cuda:0')), ('linear_layer.bias', tensor([0.3482], device='cuda:0'))])\n",
      "Epoch 550 | Training loss 0.021657321602106094 | Test loss 0.04808937385678291 |params:OrderedDict([('linear_layer.weight', tensor([[0.5934]], device='cuda:0')), ('linear_layer.bias', tensor([0.3468], device='cuda:0'))])\n",
      "Epoch 560 | Training loss 0.021304486319422722 | Test loss 0.04767391085624695 |params:OrderedDict([('linear_layer.weight', tensor([[0.5950]], device='cuda:0')), ('linear_layer.bias', tensor([0.3458], device='cuda:0'))])\n",
      "Epoch 570 | Training loss 0.0209516491740942 | Test loss 0.04725845530629158 |params:OrderedDict([('linear_layer.weight', tensor([[0.5966]], device='cuda:0')), ('linear_layer.bias', tensor([0.3448], device='cuda:0'))])\n",
      "Epoch 580 | Training loss 0.02059881016612053 | Test loss 0.04684300348162651 |params:OrderedDict([('linear_layer.weight', tensor([[0.5982]], device='cuda:0')), ('linear_layer.bias', tensor([0.3438], device='cuda:0'))])\n",
      "Epoch 590 | Training loss 0.020245974883437157 | Test loss 0.04642755538225174 |params:OrderedDict([('linear_layer.weight', tensor([[0.5998]], device='cuda:0')), ('linear_layer.bias', tensor([0.3428], device='cuda:0'))])\n",
      "Epoch 600 | Training loss 0.019893135875463486 | Test loss 0.046012092381715775 |params:OrderedDict([('linear_layer.weight', tensor([[0.6014]], device='cuda:0')), ('linear_layer.bias', tensor([0.3418], device='cuda:0'))])\n",
      "Epoch 610 | Training loss 0.01954030431807041 | Test loss 0.04559662938117981 |params:OrderedDict([('linear_layer.weight', tensor([[0.6030]], device='cuda:0')), ('linear_layer.bias', tensor([0.3408], device='cuda:0'))])\n",
      "Epoch 620 | Training loss 0.01919577270746231 | Test loss 0.04483791068196297 |params:OrderedDict([('linear_layer.weight', tensor([[0.6047]], device='cuda:0')), ('linear_layer.bias', tensor([0.3400], device='cuda:0'))])\n",
      "Epoch 630 | Training loss 0.018852895125746727 | Test loss 0.04401055723428726 |params:OrderedDict([('linear_layer.weight', tensor([[0.6064]], device='cuda:0')), ('linear_layer.bias', tensor([0.3393], device='cuda:0'))])\n",
      "Epoch 640 | Training loss 0.018508989363908768 | Test loss 0.043183185160160065 |params:OrderedDict([('linear_layer.weight', tensor([[0.6081]], device='cuda:0')), ('linear_layer.bias', tensor([0.3386], device='cuda:0'))])\n",
      "Epoch 650 | Training loss 0.01816551759839058 | Test loss 0.04242447763681412 |params:OrderedDict([('linear_layer.weight', tensor([[0.6098]], device='cuda:0')), ('linear_layer.bias', tensor([0.3379], device='cuda:0'))])\n",
      "Epoch 660 | Training loss 0.01782245934009552 | Test loss 0.04159710556268692 |params:OrderedDict([('linear_layer.weight', tensor([[0.6115]], device='cuda:0')), ('linear_layer.bias', tensor([0.3372], device='cuda:0'))])\n",
      "Epoch 670 | Training loss 0.017478561028838158 | Test loss 0.04076974466443062 |params:OrderedDict([('linear_layer.weight', tensor([[0.6132]], device='cuda:0')), ('linear_layer.bias', tensor([0.3365], device='cuda:0'))])\n",
      "Epoch 680 | Training loss 0.0171352606266737 | Test loss 0.040011029690504074 |params:OrderedDict([('linear_layer.weight', tensor([[0.6149]], device='cuda:0')), ('linear_layer.bias', tensor([0.3357], device='cuda:0'))])\n",
      "Epoch 690 | Training loss 0.016792021691799164 | Test loss 0.03918367251753807 |params:OrderedDict([('linear_layer.weight', tensor([[0.6166]], device='cuda:0')), ('linear_layer.bias', tensor([0.3350], device='cuda:0'))])\n",
      "Epoch 700 | Training loss 0.016448119655251503 | Test loss 0.03835631161928177 |params:OrderedDict([('linear_layer.weight', tensor([[0.6183]], device='cuda:0')), ('linear_layer.bias', tensor([0.3343], device='cuda:0'))])\n",
      "Epoch 710 | Training loss 0.01610499992966652 | Test loss 0.037597592920064926 |params:OrderedDict([('linear_layer.weight', tensor([[0.6200]], device='cuda:0')), ('linear_layer.bias', tensor([0.3336], device='cuda:0'))])\n",
      "Epoch 720 | Training loss 0.015761589631438255 | Test loss 0.03677021339535713 |params:OrderedDict([('linear_layer.weight', tensor([[0.6218]], device='cuda:0')), ('linear_layer.bias', tensor([0.3329], device='cuda:0'))])\n",
      "Epoch 730 | Training loss 0.015417682006955147 | Test loss 0.03594285994768143 |params:OrderedDict([('linear_layer.weight', tensor([[0.6235]], device='cuda:0')), ('linear_layer.bias', tensor([0.3322], device='cuda:0'))])\n",
      "Epoch 740 | Training loss 0.015074742026627064 | Test loss 0.035184141248464584 |params:OrderedDict([('linear_layer.weight', tensor([[0.6252]], device='cuda:0')), ('linear_layer.bias', tensor([0.3314], device='cuda:0'))])\n",
      "Epoch 750 | Training loss 0.014731153845787048 | Test loss 0.03435678035020828 |params:OrderedDict([('linear_layer.weight', tensor([[0.6269]], device='cuda:0')), ('linear_layer.bias', tensor([0.3307], device='cuda:0'))])\n",
      "Epoch 760 | Training loss 0.014387349598109722 | Test loss 0.033598072826862335 |params:OrderedDict([('linear_layer.weight', tensor([[0.6286]], device='cuda:0')), ('linear_layer.bias', tensor([0.3300], device='cuda:0'))])\n",
      "Epoch 770 | Training loss 0.01404448039829731 | Test loss 0.032770704478025436 |params:OrderedDict([('linear_layer.weight', tensor([[0.6303]], device='cuda:0')), ('linear_layer.bias', tensor([0.3293], device='cuda:0'))])\n",
      "Epoch 780 | Training loss 0.013700718060135841 | Test loss 0.03194333240389824 |params:OrderedDict([('linear_layer.weight', tensor([[0.6320]], device='cuda:0')), ('linear_layer.bias', tensor([0.3286], device='cuda:0'))])\n",
      "Epoch 790 | Training loss 0.013357087038457394 | Test loss 0.03118462674319744 |params:OrderedDict([('linear_layer.weight', tensor([[0.6337]], device='cuda:0')), ('linear_layer.bias', tensor([0.3278], device='cuda:0'))])\n",
      "Epoch 800 | Training loss 0.013014188967645168 | Test loss 0.030357254669070244 |params:OrderedDict([('linear_layer.weight', tensor([[0.6354]], device='cuda:0')), ('linear_layer.bias', tensor([0.3271], device='cuda:0'))])\n",
      "Epoch 810 | Training loss 0.01267028134316206 | Test loss 0.029529893770813942 |params:OrderedDict([('linear_layer.weight', tensor([[0.6371]], device='cuda:0')), ('linear_layer.bias', tensor([0.3264], device='cuda:0'))])\n",
      "Epoch 820 | Training loss 0.012326832860708237 | Test loss 0.028771180659532547 |params:OrderedDict([('linear_layer.weight', tensor([[0.6388]], device='cuda:0')), ('linear_layer.bias', tensor([0.3257], device='cuda:0'))])\n",
      "Epoch 830 | Training loss 0.011983749456703663 | Test loss 0.027943814173340797 |params:OrderedDict([('linear_layer.weight', tensor([[0.6406]], device='cuda:0')), ('linear_layer.bias', tensor([0.3250], device='cuda:0'))])\n",
      "Epoch 840 | Training loss 0.01163984090089798 | Test loss 0.0271164420992136 |params:OrderedDict([('linear_layer.weight', tensor([[0.6423]], device='cuda:0')), ('linear_layer.bias', tensor([0.3243], device='cuda:0'))])\n",
      "Epoch 850 | Training loss 0.011296573095023632 | Test loss 0.026357728987932205 |params:OrderedDict([('linear_layer.weight', tensor([[0.6440]], device='cuda:0')), ('linear_layer.bias', tensor([0.3235], device='cuda:0'))])\n",
      "Epoch 860 | Training loss 0.010953313671052456 | Test loss 0.02553037367761135 |params:OrderedDict([('linear_layer.weight', tensor([[0.6457]], device='cuda:0')), ('linear_layer.bias', tensor([0.3228], device='cuda:0'))])\n",
      "Epoch 870 | Training loss 0.010609406046569347 | Test loss 0.024703001603484154 |params:OrderedDict([('linear_layer.weight', tensor([[0.6474]], device='cuda:0')), ('linear_layer.bias', tensor([0.3221], device='cuda:0'))])\n",
      "Epoch 880 | Training loss 0.010266316123306751 | Test loss 0.023944294080138206 |params:OrderedDict([('linear_layer.weight', tensor([[0.6491]], device='cuda:0')), ('linear_layer.bias', tensor([0.3214], device='cuda:0'))])\n",
      "Epoch 890 | Training loss 0.009922877885401249 | Test loss 0.02311692200601101 |params:OrderedDict([('linear_layer.weight', tensor([[0.6508]], device='cuda:0')), ('linear_layer.bias', tensor([0.3207], device='cuda:0'))])\n",
      "Epoch 900 | Training loss 0.009578976780176163 | Test loss 0.022289562970399857 |params:OrderedDict([('linear_layer.weight', tensor([[0.6525]], device='cuda:0')), ('linear_layer.bias', tensor([0.3200], device='cuda:0'))])\n",
      "Epoch 910 | Training loss 0.00923605915158987 | Test loss 0.02153084985911846 |params:OrderedDict([('linear_layer.weight', tensor([[0.6542]], device='cuda:0')), ('linear_layer.bias', tensor([0.3192], device='cuda:0'))])\n",
      "Epoch 920 | Training loss 0.008892440237104893 | Test loss 0.02070348896086216 |params:OrderedDict([('linear_layer.weight', tensor([[0.6559]], device='cuda:0')), ('linear_layer.bias', tensor([0.3185], device='cuda:0'))])\n",
      "Epoch 930 | Training loss 0.00854866299778223 | Test loss 0.019944775849580765 |params:OrderedDict([('linear_layer.weight', tensor([[0.6576]], device='cuda:0')), ('linear_layer.bias', tensor([0.3178], device='cuda:0'))])\n",
      "Epoch 940 | Training loss 0.008205799385905266 | Test loss 0.019117409363389015 |params:OrderedDict([('linear_layer.weight', tensor([[0.6593]], device='cuda:0')), ('linear_layer.bias', tensor([0.3171], device='cuda:0'))])\n",
      "Epoch 950 | Training loss 0.007862008176743984 | Test loss 0.01829003170132637 |params:OrderedDict([('linear_layer.weight', tensor([[0.6611]], device='cuda:0')), ('linear_layer.bias', tensor([0.3164], device='cuda:0'))])\n",
      "Epoch 960 | Training loss 0.007518403232097626 | Test loss 0.01753133535385132 |params:OrderedDict([('linear_layer.weight', tensor([[0.6628]], device='cuda:0')), ('linear_layer.bias', tensor([0.3156], device='cuda:0'))])\n",
      "Epoch 970 | Training loss 0.007175475358963013 | Test loss 0.016703957691788673 |params:OrderedDict([('linear_layer.weight', tensor([[0.6645]], device='cuda:0')), ('linear_layer.bias', tensor([0.3149], device='cuda:0'))])\n",
      "Epoch 980 | Training loss 0.006831570994108915 | Test loss 0.01587659679353237 |params:OrderedDict([('linear_layer.weight', tensor([[0.6662]], device='cuda:0')), ('linear_layer.bias', tensor([0.3142], device='cuda:0'))])\n",
      "Epoch 990 | Training loss 0.006488149054348469 | Test loss 0.015117890201508999 |params:OrderedDict([('linear_layer.weight', tensor([[0.6679]], device='cuda:0')), ('linear_layer.bias', tensor([0.3135], device='cuda:0'))])\n",
      "Epoch 1000 | Training loss 0.006145037245005369 | Test loss 0.01429052371531725 |params:OrderedDict([('linear_layer.weight', tensor([[0.6696]], device='cuda:0')), ('linear_layer.bias', tensor([0.3128], device='cuda:0'))])\n",
      "Epoch 1010 | Training loss 0.005801583174616098 | Test loss 0.013497496023774147 |params:OrderedDict([('linear_layer.weight', tensor([[0.6713]], device='cuda:0')), ('linear_layer.bias', tensor([0.3120], device='cuda:0'))])\n",
      "Epoch 1020 | Training loss 0.005457866471260786 | Test loss 0.012670129537582397 |params:OrderedDict([('linear_layer.weight', tensor([[0.6730]], device='cuda:0')), ('linear_layer.bias', tensor([0.3113], device='cuda:0'))])\n",
      "Epoch 1030 | Training loss 0.005114191677421331 | Test loss 0.011911416426301003 |params:OrderedDict([('linear_layer.weight', tensor([[0.6747]], device='cuda:0')), ('linear_layer.bias', tensor([0.3106], device='cuda:0'))])\n",
      "Epoch 1040 | Training loss 0.00477132573723793 | Test loss 0.011084044352173805 |params:OrderedDict([('linear_layer.weight', tensor([[0.6764]], device='cuda:0')), ('linear_layer.bias', tensor([0.3099], device='cuda:0'))])\n",
      "Epoch 1050 | Training loss 0.004427433013916016 | Test loss 0.010256684385240078 |params:OrderedDict([('linear_layer.weight', tensor([[0.6781]], device='cuda:0')), ('linear_layer.bias', tensor([0.3092], device='cuda:0'))])\n",
      "Epoch 1060 | Training loss 0.004083935171365738 | Test loss 0.00949797686189413 |params:OrderedDict([('linear_layer.weight', tensor([[0.6798]], device='cuda:0')), ('linear_layer.bias', tensor([0.3084], device='cuda:0'))])\n",
      "Epoch 1070 | Training loss 0.0037408999633044004 | Test loss 0.008670604787766933 |params:OrderedDict([('linear_layer.weight', tensor([[0.6816]], device='cuda:0')), ('linear_layer.bias', tensor([0.3077], device='cuda:0'))])\n",
      "Epoch 1080 | Training loss 0.003396998392418027 | Test loss 0.007843243889510632 |params:OrderedDict([('linear_layer.weight', tensor([[0.6833]], device='cuda:0')), ('linear_layer.bias', tensor([0.3070], device='cuda:0'))])\n",
      "Epoch 1090 | Training loss 0.0030536726117134094 | Test loss 0.007084524724632502 |params:OrderedDict([('linear_layer.weight', tensor([[0.6850]], device='cuda:0')), ('linear_layer.bias', tensor([0.3063], device='cuda:0'))])\n",
      "Epoch 1100 | Training loss 0.0027104676701128483 | Test loss 0.006257164757698774 |params:OrderedDict([('linear_layer.weight', tensor([[0.6867]], device='cuda:0')), ('linear_layer.bias', tensor([0.3056], device='cuda:0'))])\n",
      "Epoch 1110 | Training loss 0.0023665637709200382 | Test loss 0.005429810378700495 |params:OrderedDict([('linear_layer.weight', tensor([[0.6884]], device='cuda:0')), ('linear_layer.bias', tensor([0.3049], device='cuda:0'))])\n",
      "Epoch 1120 | Training loss 0.002023416105657816 | Test loss 0.00467108516022563 |params:OrderedDict([('linear_layer.weight', tensor([[0.6901]], device='cuda:0')), ('linear_layer.bias', tensor([0.3041], device='cuda:0'))])\n",
      "Epoch 1130 | Training loss 0.001679719309322536 | Test loss 0.0038780630566179752 |params:OrderedDict([('linear_layer.weight', tensor([[0.6918]], device='cuda:0')), ('linear_layer.bias', tensor([0.3034], device='cuda:0'))])\n",
      "Epoch 1140 | Training loss 0.00133676384575665 | Test loss 0.0030507028568536043 |params:OrderedDict([('linear_layer.weight', tensor([[0.6935]], device='cuda:0')), ('linear_layer.bias', tensor([0.3027], device='cuda:0'))])\n",
      "Epoch 1150 | Training loss 0.0009928614599630237 | Test loss 0.002223330782726407 |params:OrderedDict([('linear_layer.weight', tensor([[0.6952]], device='cuda:0')), ('linear_layer.bias', tensor([0.3020], device='cuda:0'))])\n",
      "Epoch 1160 | Training loss 0.0006494596600532532 | Test loss 0.0014646173221990466 |params:OrderedDict([('linear_layer.weight', tensor([[0.6969]], device='cuda:0')), ('linear_layer.bias', tensor([0.3013], device='cuda:0'))])\n",
      "Epoch 1170 | Training loss 0.00030632465495727956 | Test loss 0.0006372571224346757 |params:OrderedDict([('linear_layer.weight', tensor([[0.6986]], device='cuda:0')), ('linear_layer.bias', tensor([0.3006], device='cuda:0'))])\n",
      "Epoch 1180 | Training loss 0.0007765308255329728 | Test loss 0.000619995582383126 |params:OrderedDict([('linear_layer.weight', tensor([[0.6995]], device='cuda:0')), ('linear_layer.bias', tensor([0.2998], device='cuda:0'))])\n",
      "Epoch 1190 | Training loss 0.0007765308255329728 | Test loss 0.000619995582383126 |params:OrderedDict([('linear_layer.weight', tensor([[0.6995]], device='cuda:0')), ('linear_layer.bias', tensor([0.2998], device='cuda:0'))])\n"
     ]
    }
   ],
   "source": [
    "torch.manual_seed(42)\n",
    "epochs = 1200\n",
    "epoch_count=[]\n",
    "loss_values=[]\n",
    "test_loss_values=[]\n",
    "\n",
    "X_train = X_train.to(device)\n",
    "y_train = y_train.to(device)\n",
    "X_test = X_test.to(device)\n",
    "y_test = y_test.to(device)\n",
    "for epoch in range(epochs):\n",
    "    mod.train()\n",
    "    new_pred = mod(X_train)\n",
    "    loss = loss_fn(new_pred,y_train)\n",
    "    optimizer.zero_grad()\n",
    "    loss.backward()\n",
    "    optimizer.step()\n",
    "    mod.eval()\n",
    "    with torch.inference_mode():\n",
    "        test_pred = mod(X_test)\n",
    "        test_loss = loss_fn(test_pred,y_test)\n",
    "        if epoch % 10 == 0:\n",
    "            epoch_count.append(epoch)\n",
    "            loss_values.append(loss)\n",
    "            test_loss_values.append(test_loss)\n",
    "            print(f\"Epoch {epoch} | Training loss {loss} | Test loss {test_loss} |params:{mod.state_dict()}\")\n",
    "            \n",
    "    "
   ]
  },
  {
   "cell_type": "code",
   "execution_count": 55,
   "id": "4d4291fa",
   "metadata": {
    "execution": {
     "iopub.execute_input": "2024-03-25T12:18:32.782506Z",
     "iopub.status.busy": "2024-03-25T12:18:32.781839Z",
     "iopub.status.idle": "2024-03-25T12:18:32.786303Z",
     "shell.execute_reply": "2024-03-25T12:18:32.785435Z"
    },
    "papermill": {
     "duration": 0.033427,
     "end_time": "2024-03-25T12:18:32.788154",
     "exception": false,
     "start_time": "2024-03-25T12:18:32.754727",
     "status": "completed"
    },
    "tags": []
   },
   "outputs": [],
   "source": [
    "with torch.inference_mode():\n",
    "    y_preds = mod(X_test)"
   ]
  },
  {
   "cell_type": "code",
   "execution_count": 56,
   "id": "80563607",
   "metadata": {
    "execution": {
     "iopub.execute_input": "2024-03-25T12:18:32.841206Z",
     "iopub.status.busy": "2024-03-25T12:18:32.840650Z",
     "iopub.status.idle": "2024-03-25T12:18:33.214144Z",
     "shell.execute_reply": "2024-03-25T12:18:33.213197Z"
    },
    "papermill": {
     "duration": 0.402472,
     "end_time": "2024-03-25T12:18:33.216146",
     "exception": false,
     "start_time": "2024-03-25T12:18:32.813674",
     "status": "completed"
    },
    "tags": []
   },
   "outputs": [
    {
     "data": {
      "image/png": "[encoded data removed]",
      "text/plain": [
       "<Figure size 1000x700 with 1 Axes>"
      ]
     },
     "metadata": {},
     "output_type": "display_data"
    }
   ],
   "source": [
    "plo(X_train.to(\"cpu\"),y_train.to(\"cpu\"),X_test.to(\"cpu\"),y_test.to(\"cpu\"),y_preds.to(\"cpu\"))"
   ]
  },
  {
   "cell_type": "code",
   "execution_count": 57,
   "id": "472e712b",
   "metadata": {
    "execution": {
     "iopub.execute_input": "2024-03-25T12:18:33.269826Z",
     "iopub.status.busy": "2024-03-25T12:18:33.269504Z",
     "iopub.status.idle": "2024-03-25T12:18:33.533515Z",
     "shell.execute_reply": "2024-03-25T12:18:33.532554Z"
    },
    "papermill": {
     "duration": 0.293267,
     "end_time": "2024-03-25T12:18:33.535629",
     "exception": false,
     "start_time": "2024-03-25T12:18:33.242362",
     "status": "completed"
    },
    "tags": []
   },
   "outputs": [
    {
     "data": {
      "text/plain": [
       "[<matplotlib.lines.Line2D at 0x7c9dd08c1ff0>]"
      ]
     },
     "execution_count": 57,
     "metadata": {},
     "output_type": "execute_result"
    },
    {
     "data": {
      "image/png": "[encoded data removed]",
      "text/plain": [
       "<Figure size 640x480 with 1 Axes>"
      ]
     },
     "metadata": {},
     "output_type": "display_data"
    }
   ],
   "source": [
    "import numpy as np\n",
    "plt.plot(epoch_count,np.array(torch.tensor(loss_values).cpu().numpy()),label=\"Train\")\n",
    "plt.plot(epoch_count,np.array(torch.tensor(test_loss_values).cpu().numpy()),label=\"Test loss\")"
   ]
  },
  {
   "cell_type": "code",
   "execution_count": 58,
   "id": "577d3b0b",
   "metadata": {
    "execution": {
     "iopub.execute_input": "2024-03-25T12:18:33.591633Z",
     "iopub.status.busy": "2024-03-25T12:18:33.590825Z",
     "iopub.status.idle": "2024-03-25T12:18:33.598302Z",
     "shell.execute_reply": "2024-03-25T12:18:33.597543Z"
    },
    "papermill": {
     "duration": 0.037395,
     "end_time": "2024-03-25T12:18:33.600290",
     "exception": false,
     "start_time": "2024-03-25T12:18:33.562895",
     "status": "completed"
    },
    "tags": []
   },
   "outputs": [],
   "source": [
    "model_path = Path(r\"/kaggle/working/\")\n",
    "model_name = \"first_mod_gpu.pth\"\n",
    "model_save_path = model_path/model_name\n",
    "torch.save(mod.state_dict(),model_save_path)"
   ]
  },
  {
   "cell_type": "code",
   "execution_count": 59,
   "id": "25bd24c3",
   "metadata": {
    "execution": {
     "iopub.execute_input": "2024-03-25T12:18:33.656969Z",
     "iopub.status.busy": "2024-03-25T12:18:33.656165Z",
     "iopub.status.idle": "2024-03-25T12:18:33.667009Z",
     "shell.execute_reply": "2024-03-25T12:18:33.666120Z"
    },
    "papermill": {
     "duration": 0.040799,
     "end_time": "2024-03-25T12:18:33.668962",
     "exception": false,
     "start_time": "2024-03-25T12:18:33.628163",
     "status": "completed"
    },
    "tags": []
   },
   "outputs": [
    {
     "name": "stdout",
     "output_type": "stream",
     "text": [
      "Parameter containing:\n",
      "tensor([[0.6999]], requires_grad=True)\n"
     ]
    },
    {
     "data": {
      "text/plain": [
       "Parameter containing:\n",
       "tensor([[0.6999]], device='cuda:0', requires_grad=True)"
      ]
     },
     "execution_count": 59,
     "metadata": {},
     "output_type": "execute_result"
    }
   ],
   "source": [
    "model = LinearRegression()\n",
    "model.load_state_dict(torch.load(r\"/kaggle/working/first_mod_gpu.pth\"))\n",
    "model.state_dict()\n",
    "print(next(model.parameters()))\n",
    "model.to(device)\n",
    "next(model.parameters())"
   ]
  },
  {
   "cell_type": "code",
   "execution_count": 60,
   "id": "3358303f",
   "metadata": {
    "execution": {
     "iopub.execute_input": "2024-03-25T12:18:33.725195Z",
     "iopub.status.busy": "2024-03-25T12:18:33.724420Z",
     "iopub.status.idle": "2024-03-25T12:18:33.733441Z",
     "shell.execute_reply": "2024-03-25T12:18:33.732616Z"
    },
    "papermill": {
     "duration": 0.039368,
     "end_time": "2024-03-25T12:18:33.735356",
     "exception": false,
     "start_time": "2024-03-25T12:18:33.695988",
     "status": "completed"
    },
    "tags": []
   },
   "outputs": [
    {
     "data": {
      "text/plain": [
       "tensor([[True],\n",
       "        [True],\n",
       "        [True],\n",
       "        [True],\n",
       "        [True],\n",
       "        [True],\n",
       "        [True],\n",
       "        [True],\n",
       "        [True],\n",
       "        [True],\n",
       "        [True],\n",
       "        [True],\n",
       "        [True],\n",
       "        [True],\n",
       "        [True],\n",
       "        [True],\n",
       "        [True],\n",
       "        [True],\n",
       "        [True],\n",
       "        [True],\n",
       "        [True],\n",
       "        [True],\n",
       "        [True],\n",
       "        [True],\n",
       "        [True],\n",
       "        [True],\n",
       "        [True],\n",
       "        [True],\n",
       "        [True],\n",
       "        [True],\n",
       "        [True],\n",
       "        [True],\n",
       "        [True],\n",
       "        [True],\n",
       "        [True],\n",
       "        [True],\n",
       "        [True],\n",
       "        [True],\n",
       "        [True],\n",
       "        [True]], device='cuda:0')"
      ]
     },
     "execution_count": 60,
     "metadata": {},
     "output_type": "execute_result"
    }
   ],
   "source": [
    "with torch.inference_mode():\n",
    "    a = mod(X_train)\n",
    "    b = model(X_train)\n",
    "    \n",
    "a == b"
   ]
  },
  {
   "cell_type": "markdown",
   "id": "83c7fcc0",
   "metadata": {
    "papermill": {
     "duration": 0.027207,
     "end_time": "2024-03-25T12:18:33.789719",
     "exception": false,
     "start_time": "2024-03-25T12:18:33.762512",
     "status": "completed"
    },
    "tags": []
   },
   "source": [
    "## Classification"
   ]
  }
 ],
 "metadata": {
  "kaggle": {
   "accelerator": "gpu",
   "dataSources": [],
   "dockerImageVersionId": 30626,
   "isGpuEnabled": true,
   "isInternetEnabled": true,
   "language": "python",
   "sourceType": "notebook"
  },
  "kernelspec": {
   "display_name": "Python 3",
   "language": "python",
   "name": "python3"
  },
  "language_info": {
   "codemirror_mode": {
    "name": "ipython",
    "version": 3
   },
   "file_extension": ".py",
   "mimetype": "text/x-python",
   "name": "python",
   "nbconvert_exporter": "python",
   "pygments_lexer": "ipython3",
   "version": "3.10.12"
  },
  "papermill": {
   "default_parameters": {},
   "duration": 17.475163,
   "end_time": "2024-03-25T12:18:35.138015",
   "environment_variables": {},
   "exception": null,
   "input_path": "__notebook__.ipynb",
   "output_path": "__notebook__.ipynb",
   "parameters": {},
   "start_time": "2024-03-25T12:18:17.662852",
   "version": "2.4.0"
  }
 },
 "nbformat": 4,
 "nbformat_minor": 5
}
