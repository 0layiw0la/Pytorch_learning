{
  "nbformat": 4,
  "nbformat_minor": 0,
  "metadata": {
    "colab": {
      "provenance": [],
      "authorship_tag": "ABX9TyNMJ4Y2ZNSKelmJy3oe6I1R",
      "include_colab_link": true
    },
    "kernelspec": {
      "name": "python3",
      "display_name": "Python 3"
    },
    "language_info": {
      "name": "python"
    }
  },
  "cells": [
    {
      "cell_type": "markdown",
      "metadata": {
        "id": "view-in-github",
        "colab_type": "text"
      },
      "source": [
        "<a href=\"https://colab.research.google.com/github/0layiw0la/Pytorch_learning/blob/main/FreeCodeCamp/Pytorch_fundamental_00.ipynb\" target=\"_parent\"><img src=\"https://colab.research.google.com/assets/colab-badge.svg\" alt=\"Open In Colab\"/></a>"
      ]
    },
    {
      "cell_type": "code",
      "execution_count": 1,
      "metadata": {
        "id": "QtnQNgXeEUFN",
        "colab": {
          "base_uri": "https://localhost:8080/"
        },
        "outputId": "2efb60e2-d81f-4f1c-8bb8-bee4e65b0d9c"
      },
      "outputs": [
        {
          "output_type": "stream",
          "name": "stdout",
          "text": [
            "2.6.0+cu124\n"
          ]
        }
      ],
      "source": [
        "import torch\n",
        "import pandas as pd\n",
        "import numpy as np\n",
        "import matplotlib.pyplot as plt\n",
        "print(torch.__version__)"
      ]
    },
    {
      "cell_type": "markdown",
      "source": [
        "# Introduction to Tensors\n",
        "\n",
        "## Creating tensors"
      ],
      "metadata": {
        "id": "2ZIkLdm5T0MS"
      }
    },
    {
      "cell_type": "code",
      "source": [
        "scalar = torch.tensor(7) # you know what a scalar is zero dim vector\n",
        "scalar"
      ],
      "metadata": {
        "colab": {
          "base_uri": "https://localhost:8080/"
        },
        "id": "rl3xnFE_TzWV",
        "outputId": "cda4e67f-0cb5-4534-d395-d2e11a971e62"
      },
      "execution_count": 2,
      "outputs": [
        {
          "output_type": "execute_result",
          "data": {
            "text/plain": [
              "tensor(7)"
            ]
          },
          "metadata": {},
          "execution_count": 2
        }
      ]
    },
    {
      "cell_type": "code",
      "source": [
        "# To check dimensions of a tensor we use tensor.ndim\n",
        "scalar.ndim"
      ],
      "metadata": {
        "colab": {
          "base_uri": "https://localhost:8080/"
        },
        "id": "XvSwHF0zUSqz",
        "outputId": "e60abe14-4d50-4a15-c1ed-96baeee2fbb2"
      },
      "execution_count": 3,
      "outputs": [
        {
          "output_type": "execute_result",
          "data": {
            "text/plain": [
              "0"
            ]
          },
          "metadata": {},
          "execution_count": 3
        }
      ]
    },
    {
      "cell_type": "code",
      "source": [
        "# Next looking at the shape of tensors (ofc only matters with 1+ dim tensors)\n",
        "\n",
        "vector = torch.tensor([1,4,5])\n",
        "vector.shape"
      ],
      "metadata": {
        "colab": {
          "base_uri": "https://localhost:8080/"
        },
        "id": "db0Gn18TVTUo",
        "outputId": "98c7c31e-ce18-4eff-f88a-f8d26fd327a1"
      },
      "execution_count": 5,
      "outputs": [
        {
          "output_type": "execute_result",
          "data": {
            "text/plain": [
              "torch.Size([3])"
            ]
          },
          "metadata": {},
          "execution_count": 5
        }
      ]
    },
    {
      "cell_type": "code",
      "source": [
        "tens = torch.tensor([[\n",
        "                        [[],[],[]],\n",
        "                        [[],[],[]],\n",
        "                        [[],[],[]]],\n",
        "                      [\n",
        "                          [[],[],[]],\n",
        "                          [[],[],[]],\n",
        "                          [[],[],[]]],\n",
        "                      [\n",
        "                          [[],[],[]],\n",
        "                          [[],[],[]],\n",
        "                          [[],[],[]]]\n",
        "                     ])\n",
        "\n",
        "tens.shape"
      ],
      "metadata": {
        "colab": {
          "base_uri": "https://localhost:8080/"
        },
        "id": "3sudnm53WpPD",
        "outputId": "12062159-832c-47dd-83b4-8a634e04a2c8"
      },
      "execution_count": 6,
      "outputs": [
        {
          "output_type": "execute_result",
          "data": {
            "text/plain": [
              "torch.Size([3, 3, 3, 0])"
            ]
          },
          "metadata": {},
          "execution_count": 6
        }
      ]
    },
    {
      "cell_type": "markdown",
      "source": [
        "## Random tensors\n",
        "We've established tensors represent some form of data.\n",
        "\n",
        "And machine learning models such as neural networks manipulate and seek patterns within tensors.\n",
        "\n",
        "But when building machine learning models with PyTorch, it's rare you'll create tensors by hand (like what we've been doing).\n",
        "\n",
        "Instead, a machine learning model often starts out with large random tensors of numbers and adjusts these random numbers as it works through data to better represent it.\n",
        "\n",
        "In essence:\n",
        "\n",
        "``` Start with random numbers -> look at data -> update random numbers -> look at data -> update random numbers...```"
      ],
      "metadata": {
        "id": "gSYogpe_X3nw"
      }
    },
    {
      "cell_type": "code",
      "source": [
        "# creating a random tensor of size (3,3,3,1)\n",
        "rand_tens = torch.rand(size=(3,3,3,1))\n",
        "rand_tens, rand_tens.dtype,rand_tens.shape"
      ],
      "metadata": {
        "colab": {
          "base_uri": "https://localhost:8080/"
        },
        "id": "DoiZLWmSXzKB",
        "outputId": "71fb92d4-1741-4266-9929-76b59408754c"
      },
      "execution_count": 7,
      "outputs": [
        {
          "output_type": "execute_result",
          "data": {
            "text/plain": [
              "(tensor([[[[0.0202],\n",
              "           [0.8746],\n",
              "           [0.6162]],\n",
              " \n",
              "          [[0.9041],\n",
              "           [0.4087],\n",
              "           [0.9293]],\n",
              " \n",
              "          [[0.9199],\n",
              "           [0.9313],\n",
              "           [0.9862]]],\n",
              " \n",
              " \n",
              "         [[[0.2982],\n",
              "           [0.7879],\n",
              "           [0.3456]],\n",
              " \n",
              "          [[0.1954],\n",
              "           [0.5275],\n",
              "           [0.6176]],\n",
              " \n",
              "          [[0.6487],\n",
              "           [0.6976],\n",
              "           [0.9141]]],\n",
              " \n",
              " \n",
              "         [[[0.1037],\n",
              "           [0.0756],\n",
              "           [0.5845]],\n",
              " \n",
              "          [[0.8403],\n",
              "           [0.1845],\n",
              "           [0.7094]],\n",
              " \n",
              "          [[0.3896],\n",
              "           [0.3015],\n",
              "           [0.0062]]]]),\n",
              " torch.float32,\n",
              " torch.Size([3, 3, 3, 1]))"
            ]
          },
          "metadata": {},
          "execution_count": 7
        }
      ]
    },
    {
      "cell_type": "markdown",
      "source": [
        "### Zeros and ones\n",
        "\n",
        "TO fill a tensor with zeros or ones we can just use torch.zeros() or torch.ones()"
      ],
      "metadata": {
        "id": "qVT2awEsYx0b"
      }
    },
    {
      "cell_type": "code",
      "source": [
        "zeros = torch.zeros(size=(3,4))\n",
        "ones = torch.ones(size=(3,4))\n",
        "zeros, ones"
      ],
      "metadata": {
        "colab": {
          "base_uri": "https://localhost:8080/"
        },
        "id": "V-MwDQGUY99B",
        "outputId": "eb5558e8-875e-4651-d44d-2b5c4cd50fc0"
      },
      "execution_count": 8,
      "outputs": [
        {
          "output_type": "execute_result",
          "data": {
            "text/plain": [
              "(tensor([[0., 0., 0., 0.],\n",
              "         [0., 0., 0., 0.],\n",
              "         [0., 0., 0., 0.]]),\n",
              " tensor([[1., 1., 1., 1.],\n",
              "         [1., 1., 1., 1.],\n",
              "         [1., 1., 1., 1.]]))"
            ]
          },
          "metadata": {},
          "execution_count": 8
        }
      ]
    },
    {
      "cell_type": "markdown",
      "source": [
        "### Creating a range and tensors like\n",
        "\n",
        "Sometimes you might want a range of numbers, such as 1 to 10 or 0 to 100.\n",
        "\n",
        "You can use torch.arange(start, end, step) to do so.\n",
        "\n",
        "\n",
        "Sometimes you might want one tensor of a certain type with the same shape as another tensor.\n",
        "\n",
        "For example, a tensor of all zeros with the same shape as a previous tensor.\n",
        "\n",
        "To do so you can use torch.zeros_like(input) or torch.ones_like(input) which return a tensor filled with zeros or ones in the same shape as the input respectively."
      ],
      "metadata": {
        "id": "Kuxikhf3ZHkd"
      }
    },
    {
      "cell_type": "code",
      "source": [
        "# range\n",
        "one_to_ten = torch.arange(start=1,end=11,step=1)\n",
        "one_to_ten\n",
        "# notice it stops before end"
      ],
      "metadata": {
        "colab": {
          "base_uri": "https://localhost:8080/"
        },
        "id": "G9GrOzk2ZGtP",
        "outputId": "5467a659-01db-4dcf-f11f-ee79ef299e78"
      },
      "execution_count": 9,
      "outputs": [
        {
          "output_type": "execute_result",
          "data": {
            "text/plain": [
              "tensor([ 1,  2,  3,  4,  5,  6,  7,  8,  9, 10])"
            ]
          },
          "metadata": {},
          "execution_count": 9
        }
      ]
    },
    {
      "cell_type": "code",
      "source": [
        "#tensors like\n",
        "ten_zeros = torch.zeros_like(input=one_to_ten)\n",
        "ten_ones = torch.ones_like(input=one_to_ten)\n",
        "ten_ones,ten_zeros"
      ],
      "metadata": {
        "colab": {
          "base_uri": "https://localhost:8080/"
        },
        "id": "GI1xtAo6Zafp",
        "outputId": "9b04f616-be15-41f5-f697-050ad54c3bdd"
      },
      "execution_count": 11,
      "outputs": [
        {
          "output_type": "execute_result",
          "data": {
            "text/plain": [
              "(tensor([1, 1, 1, 1, 1, 1, 1, 1, 1, 1]),\n",
              " tensor([0, 0, 0, 0, 0, 0, 0, 0, 0, 0]))"
            ]
          },
          "metadata": {},
          "execution_count": 11
        }
      ]
    },
    {
      "cell_type": "markdown",
      "source": [
        "# Tensor Datatypes"
      ],
      "metadata": {
        "id": "DmxY7AztZkUB"
      }
    },
    {
      "cell_type": "code",
      "source": [],
      "metadata": {
        "id": "LxGwTTd2Zmk5"
      },
      "execution_count": null,
      "outputs": []
    }
  ]
}