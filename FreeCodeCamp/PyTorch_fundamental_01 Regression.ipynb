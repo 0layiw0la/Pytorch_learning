{
 "cells": [
  {
   "cell_type": "code",
   "execution_count": 14,
   "id": "550cd9a7",
   "metadata": {},
   "outputs": [
    {
     "name": "stdout",
     "output_type": "stream",
     "text": [
      "1.12.1\n"
     ]
    }
   ],
   "source": [
    "import torch\n",
    "from torch import nn\n",
    "import pandas as pd\n",
    "import numpy as np\n",
    "import matplotlib.pyplot as plt\n",
    "print(torch.__version__)"
   ]
  },
  {
   "cell_type": "code",
   "execution_count": 2,
   "id": "49bf2bab",
   "metadata": {},
   "outputs": [
    {
     "data": {
      "text/plain": [
       "False"
      ]
     },
     "execution_count": 2,
     "metadata": {},
     "output_type": "execute_result"
    }
   ],
   "source": [
    "torch.cuda.is_available()"
   ]
  },
  {
   "cell_type": "code",
   "execution_count": 3,
   "id": "0a372324",
   "metadata": {},
   "outputs": [
    {
     "data": {
      "text/plain": [
       "(tensor([[0.0000],\n",
       "         [0.0200],\n",
       "         [0.0400],\n",
       "         [0.0600],\n",
       "         [0.0800],\n",
       "         [0.1000],\n",
       "         [0.1200],\n",
       "         [0.1400],\n",
       "         [0.1600],\n",
       "         [0.1800]]),\n",
       " tensor([[0.3000],\n",
       "         [0.3140],\n",
       "         [0.3280],\n",
       "         [0.3420],\n",
       "         [0.3560],\n",
       "         [0.3700],\n",
       "         [0.3840],\n",
       "         [0.3980],\n",
       "         [0.4120],\n",
       "         [0.4260]]))"
      ]
     },
     "execution_count": 3,
     "metadata": {},
     "output_type": "execute_result"
    }
   ],
   "source": [
    "# Create *known* parameters\n",
    "weight = 0.7\n",
    "bias = 0.3\n",
    "\n",
    "# Create data\n",
    "start = 0\n",
    "end = 1\n",
    "step = 0.02\n",
    "\n",
    "X = torch.arange(start, end, step).unsqueeze(dim=1)\n",
    "y = weight * X + bias\n",
    "X[:10], y[:10]\n"
   ]
  },
  {
   "cell_type": "code",
   "execution_count": 8,
   "id": "fbb3e393",
   "metadata": {},
   "outputs": [
    {
     "data": {
      "text/plain": [
       "(torch.Size([40, 1]), torch.Size([10, 1]))"
      ]
     },
     "execution_count": 8,
     "metadata": {},
     "output_type": "execute_result"
    }
   ],
   "source": [
    "from sklearn.model_selection import train_test_split as tts\n",
    "\n",
    "X_train,X_test,Y_train,Y_test = tts(X,y,test_size=0.2)\n",
    "X_train.shape,Y_test.shape"
   ]
  },
  {
   "cell_type": "code",
   "execution_count": 121,
   "id": "d9c58158",
   "metadata": {},
   "outputs": [],
   "source": [
    "def plot_preds(test_in=X_test,test_out=Y_test,preds=None):\n",
    "\n",
    "        plt.scatter(test_in,test_out,c='g',label='Test')\n",
    "        plt.scatter(test_in,preds,c='y',label='Preds')\n",
    "        plt.legend()\n",
    "        plt.show()"
   ]
  },
  {
   "cell_type": "markdown",
   "id": "f75291fb",
   "metadata": {},
   "source": [
    "# Building a model"
   ]
  },
  {
   "cell_type": "code",
   "execution_count": 15,
   "id": "f8eab0ac",
   "metadata": {},
   "outputs": [],
   "source": [
    "# Create a Linear Regression model class\n",
    "class LinearRegressionModel(torch.nn.Module): # <- almost everything in PyTorch is a nn.Module (think of this as neural network lego blocks)\n",
    "    def __init__(self):\n",
    "        super().__init__()\n",
    "        self.weights = nn.Parameter(torch.randn(1,dtype=torch.float,requires_grad=True))\n",
    "        self.bias = nn.Parameter(torch.randn(1,dtype=torch.float,requires_grad=True))\n",
    "\n",
    "    # Forward defines the computation in the model\n",
    "    def forward(self, x: torch.Tensor) -> torch.Tensor: \n",
    "        return self.weights * x + self.bias \n"
   ]
  },
  {
   "cell_type": "markdown",
   "id": "b7e1e527",
   "metadata": {},
   "source": [
    "## PyTorch model building essentials\n",
    "\n",
    "PyTorch has four (give or take) essential modules you can use to create almost any kind of neural network you can imagine.They are:\n",
    "\n",
    "- torch.nn\n",
    "- torch.optim\n",
    "- torch.utils.data.Dataset\n",
    "- torch.utils.data.DataLoader"
   ]
  },
  {
   "cell_type": "code",
   "execution_count": 49,
   "id": "da7ce896",
   "metadata": {},
   "outputs": [
    {
     "data": {
      "text/plain": [
       "[Parameter containing:\n",
       " tensor([1.5410], requires_grad=True),\n",
       " Parameter containing:\n",
       " tensor([-0.2934], requires_grad=True)]"
      ]
     },
     "execution_count": 49,
     "metadata": {},
     "output_type": "execute_result"
    }
   ],
   "source": [
    "torch.manual_seed(0)\n",
    "\n",
    "model0 = LinearRegressionModel()\n",
    "list(model0.parameters())"
   ]
  },
  {
   "cell_type": "code",
   "execution_count": 50,
   "id": "f8a7648d",
   "metadata": {},
   "outputs": [
    {
     "data": {
      "text/plain": [
       "OrderedDict([('weights', tensor([1.5410])), ('bias', tensor([-0.2934]))])"
      ]
     },
     "execution_count": 50,
     "metadata": {},
     "output_type": "execute_result"
    }
   ],
   "source": [
    "model0.state_dict()"
   ]
  },
  {
   "cell_type": "markdown",
   "id": "d51b89b3",
   "metadata": {},
   "source": [
    "## Making predictions using torch.inference_mode()\n",
    "\n"
   ]
  },
  {
   "cell_type": "code",
   "execution_count": 51,
   "id": "6000cb5d",
   "metadata": {},
   "outputs": [
    {
     "name": "stdout",
     "output_type": "stream",
     "text": [
      "tensor([[ 1.1551],\n",
      "        [ 0.8469],\n",
      "        [ 1.0318],\n",
      "        [ 0.5079],\n",
      "        [-0.1393],\n",
      "        [-0.2010],\n",
      "        [ 0.4771],\n",
      "        [ 0.4154],\n",
      "        [ 0.7853],\n",
      "        [ 1.0010]])\n"
     ]
    }
   ],
   "source": [
    "# Make predictions with model\n",
    "with torch.inference_mode():\n",
    "    Y_preds = model0(X_test)\n",
    "\n",
    "print(Y_preds)"
   ]
  },
  {
   "cell_type": "code",
   "execution_count": 52,
   "id": "f8ed795c",
   "metadata": {},
   "outputs": [
    {
     "data": {
      "image/png": "[encoded data removed]",
      "text/plain": [
       "<Figure size 640x480 with 1 Axes>"
      ]
     },
     "metadata": {},
     "output_type": "display_data"
    }
   ],
   "source": [
    "plot_preds(preds=Y_preds)"
   ]
  },
  {
   "cell_type": "markdown",
   "id": "0a63af63",
   "metadata": {},
   "source": [
    "# Training & Testing Loops\n",
    "\n",
    "## Creating a loss function and optimizer in PyTorch\n",
    "\n",
    "For our model to update its parameters on its own, we'll need to add a few more things to our recipe. And that's a **loss function** as well as an **optimizer**"
   ]
  },
  {
   "cell_type": "code",
   "execution_count": 53,
   "id": "c1049c02",
   "metadata": {},
   "outputs": [],
   "source": [
    "# Create the loss function\n",
    "loss_fn = nn.L1Loss() # MAE loss is same as L1Loss\n",
    "\n",
    "# Create the optimizer\n",
    "optimizer = torch.optim.SGD(params=model0.parameters(),lr=0.01)\n"
   ]
  },
  {
   "cell_type": "markdown",
   "id": "43a3e317",
   "metadata": {},
   "source": [
    "## Creating an optimization loop in PyTorch\n",
    "\n",
    "It's now time to create a training loop (and testing loop). The training loop involves the model going through the training data and learning the relationships between the features and labels . The testing loop involves going through the testing data and evaluating how good the patterns are that the model learned on the training data (the model never sees the testing data during training)."
   ]
  },
  {
   "cell_type": "code",
   "execution_count": 58,
   "id": "73f3fe97",
   "metadata": {
    "scrolled": true
   },
   "outputs": [
    {
     "name": "stdout",
     "output_type": "stream",
     "text": [
      "Epoch: 0 | MAE Train Loss: 0.003983755595982075 | MAE Test Loss: 0.0033635019790381193 \n",
      "Epoch: 10 | MAE Train Loss: 0.010661350563168526 | MAE Test Loss: 0.001404050039127469 \n",
      "Epoch: 20 | MAE Train Loss: 0.010661350563168526 | MAE Test Loss: 0.001404050039127469 \n",
      "Epoch: 30 | MAE Train Loss: 0.010661350563168526 | MAE Test Loss: 0.001404050039127469 \n",
      "Epoch: 40 | MAE Train Loss: 0.010661350563168526 | MAE Test Loss: 0.001404050039127469 \n",
      "Epoch: 50 | MAE Train Loss: 0.010661350563168526 | MAE Test Loss: 0.001404050039127469 \n",
      "Epoch: 60 | MAE Train Loss: 0.010661350563168526 | MAE Test Loss: 0.001404050039127469 \n",
      "Epoch: 70 | MAE Train Loss: 0.010661350563168526 | MAE Test Loss: 0.001404050039127469 \n",
      "Epoch: 80 | MAE Train Loss: 0.010661350563168526 | MAE Test Loss: 0.001404050039127469 \n",
      "Epoch: 90 | MAE Train Loss: 0.010661350563168526 | MAE Test Loss: 0.001404050039127469 \n",
      "Epoch: 100 | MAE Train Loss: 0.010661350563168526 | MAE Test Loss: 0.001404050039127469 \n",
      "Epoch: 110 | MAE Train Loss: 0.010661350563168526 | MAE Test Loss: 0.001404050039127469 \n",
      "Epoch: 120 | MAE Train Loss: 0.010661350563168526 | MAE Test Loss: 0.001404050039127469 \n",
      "Epoch: 130 | MAE Train Loss: 0.010661350563168526 | MAE Test Loss: 0.001404050039127469 \n",
      "Epoch: 140 | MAE Train Loss: 0.010661350563168526 | MAE Test Loss: 0.001404050039127469 \n",
      "Epoch: 150 | MAE Train Loss: 0.010661350563168526 | MAE Test Loss: 0.001404050039127469 \n",
      "Epoch: 160 | MAE Train Loss: 0.010661350563168526 | MAE Test Loss: 0.001404050039127469 \n",
      "Epoch: 170 | MAE Train Loss: 0.010661350563168526 | MAE Test Loss: 0.001404050039127469 \n",
      "Epoch: 180 | MAE Train Loss: 0.010661350563168526 | MAE Test Loss: 0.001404050039127469 \n",
      "Epoch: 190 | MAE Train Loss: 0.010661350563168526 | MAE Test Loss: 0.001404050039127469 \n",
      "Epoch: 200 | MAE Train Loss: 0.010661350563168526 | MAE Test Loss: 0.001404050039127469 \n",
      "Epoch: 210 | MAE Train Loss: 0.010661350563168526 | MAE Test Loss: 0.001404050039127469 \n",
      "Epoch: 220 | MAE Train Loss: 0.010661350563168526 | MAE Test Loss: 0.001404050039127469 \n",
      "Epoch: 230 | MAE Train Loss: 0.010661350563168526 | MAE Test Loss: 0.001404050039127469 \n",
      "Epoch: 240 | MAE Train Loss: 0.010661350563168526 | MAE Test Loss: 0.001404050039127469 \n",
      "Epoch: 250 | MAE Train Loss: 0.010661350563168526 | MAE Test Loss: 0.001404050039127469 \n",
      "Epoch: 260 | MAE Train Loss: 0.010661350563168526 | MAE Test Loss: 0.001404050039127469 \n",
      "Epoch: 270 | MAE Train Loss: 0.010661350563168526 | MAE Test Loss: 0.001404050039127469 \n",
      "Epoch: 280 | MAE Train Loss: 0.010661350563168526 | MAE Test Loss: 0.001404050039127469 \n",
      "Epoch: 290 | MAE Train Loss: 0.010661350563168526 | MAE Test Loss: 0.001404050039127469 \n",
      "Epoch: 300 | MAE Train Loss: 0.010661350563168526 | MAE Test Loss: 0.001404050039127469 \n",
      "Epoch: 310 | MAE Train Loss: 0.010661350563168526 | MAE Test Loss: 0.001404050039127469 \n",
      "Epoch: 320 | MAE Train Loss: 0.010661350563168526 | MAE Test Loss: 0.001404050039127469 \n",
      "Epoch: 330 | MAE Train Loss: 0.010661350563168526 | MAE Test Loss: 0.001404050039127469 \n",
      "Epoch: 340 | MAE Train Loss: 0.010661350563168526 | MAE Test Loss: 0.001404050039127469 \n",
      "Epoch: 350 | MAE Train Loss: 0.010661350563168526 | MAE Test Loss: 0.001404050039127469 \n",
      "Epoch: 360 | MAE Train Loss: 0.010661350563168526 | MAE Test Loss: 0.001404050039127469 \n",
      "Epoch: 370 | MAE Train Loss: 0.010661350563168526 | MAE Test Loss: 0.001404050039127469 \n",
      "Epoch: 380 | MAE Train Loss: 0.010661350563168526 | MAE Test Loss: 0.001404050039127469 \n",
      "Epoch: 390 | MAE Train Loss: 0.010661350563168526 | MAE Test Loss: 0.001404050039127469 \n",
      "Epoch: 400 | MAE Train Loss: 0.010661350563168526 | MAE Test Loss: 0.001404050039127469 \n",
      "Epoch: 410 | MAE Train Loss: 0.010661350563168526 | MAE Test Loss: 0.001404050039127469 \n",
      "Epoch: 420 | MAE Train Loss: 0.010661350563168526 | MAE Test Loss: 0.001404050039127469 \n",
      "Epoch: 430 | MAE Train Loss: 0.010661350563168526 | MAE Test Loss: 0.001404050039127469 \n",
      "Epoch: 440 | MAE Train Loss: 0.010661350563168526 | MAE Test Loss: 0.001404050039127469 \n"
     ]
    }
   ],
   "source": [
    "torch.manual_seed(42)\n",
    "\n",
    "# Set the number of epochs (how many times the model will pass over the training data)\n",
    "epochs = 450\n",
    "\n",
    "# Create empty loss lists to track values\n",
    "train_loss_values = []\n",
    "test_loss_values = []\n",
    "epoch_count = []\n",
    "\n",
    "for epoch in range(epochs):\n",
    "    \n",
    "    ### Training\n",
    "    # Put model in training mode (this is the default state of a model)\n",
    "    model0.train()\n",
    "\n",
    "    # 1. Forward pass on train data using the forward() method inside\n",
    "    y_pred = model0(X_train)\n",
    "    # print(y_pred)\n",
    "\n",
    "    # 2. Calculate the loss (how different are our models predictions to the ground truth)\n",
    "    loss = loss_fn(y_pred, Y_train)\n",
    "\n",
    "    # 3. Zero grad of the optimizer\n",
    "    optimizer.zero_grad()\n",
    "\n",
    "    # 4. Loss backwards\n",
    "    loss.backward()\n",
    "\n",
    "    # 5. Progress the optimizer\n",
    "    optimizer.step()\n",
    "\n",
    "\n",
    "    ### Testing\n",
    "    # Put the model in evaluation mode\n",
    "    model0.eval()\n",
    "    with torch.inference_mode():\n",
    "\n",
    "        # 1. Forward pass on test data\n",
    "        test_pred = model0(X_test)\n",
    "\n",
    "        # 2. Caculate loss on test data\n",
    "        test_loss = loss_fn(test_pred,Y_test.type(torch.float)) \n",
    "\n",
    "    # Print out what's happening\n",
    "    if epoch % 10 == 0:\n",
    "        epoch_count.append(epoch)\n",
    "        train_loss_values.append(loss.detach().numpy())\n",
    "        test_loss_values.append(test_loss.detach().numpy())\n",
    "        print(f\"Epoch: {epoch} | MAE Train Loss: {loss} | MAE Test Loss: {test_loss} \")\n"
   ]
  },
  {
   "cell_type": "code",
   "execution_count": 59,
   "id": "92b48f48",
   "metadata": {},
   "outputs": [
    {
     "data": {
      "image/png": "[encoded data removed]",
      "text/plain": [
       "<Figure size 640x480 with 1 Axes>"
      ]
     },
     "metadata": {},
     "output_type": "display_data"
    }
   ],
   "source": [
    "# Plot the loss curves\n",
    "plt.plot(epoch_count, train_loss_values, label=\"Train loss\")\n",
    "plt.plot(epoch_count, test_loss_values, label=\"Test loss\")\n",
    "plt.title(\"Training and test loss curves\")\n",
    "plt.ylabel(\"Loss\")\n",
    "plt.xlabel(\"Epochs\")\n",
    "plt.legend();\n"
   ]
  },
  {
   "cell_type": "code",
   "execution_count": 60,
   "id": "5295cc5d",
   "metadata": {},
   "outputs": [
    {
     "name": "stdout",
     "output_type": "stream",
     "text": [
      "OrderedDict([('weights', tensor([0.7060])), ('bias', tensor([0.3078]))])\n",
      "0.7 0.3\n"
     ]
    }
   ],
   "source": [
    "print(model0.state_dict())\n",
    "print(weight,bias)"
   ]
  },
  {
   "cell_type": "code",
   "execution_count": 61,
   "id": "8cc105ba",
   "metadata": {},
   "outputs": [
    {
     "data": {
      "text/plain": [
       "tensor([[0.9715],\n",
       "        [0.8303],\n",
       "        [0.9150],\n",
       "        [0.6750],\n",
       "        [0.3784],\n",
       "        [0.3502],\n",
       "        [0.6608],\n",
       "        [0.6326],\n",
       "        [0.8021],\n",
       "        [0.9009]])"
      ]
     },
     "execution_count": 61,
     "metadata": {},
     "output_type": "execute_result"
    }
   ],
   "source": [
    "model0.eval()\n",
    "\n",
    "with torch.inference_mode():\n",
    "    y_preds = model0(X_test)\n",
    "    \n",
    "y_preds"
   ]
  },
  {
   "cell_type": "code",
   "execution_count": 62,
   "id": "cb8e3f64",
   "metadata": {},
   "outputs": [
    {
     "data": {
      "image/png": "[encoded data removed]",
      "text/plain": [
       "<Figure size 640x480 with 1 Axes>"
      ]
     },
     "metadata": {},
     "output_type": "display_data"
    }
   ],
   "source": [
    "plot_preds(preds=y_preds)"
   ]
  },
  {
   "cell_type": "markdown",
   "id": "6c6ea8ba",
   "metadata": {},
   "source": [
    "# Saving & Loading a PyTorch Models"
   ]
  },
  {
   "cell_type": "markdown",
   "id": "8126ca51",
   "metadata": {},
   "source": [
    "For saving and loading models in PyTorch, there are three main methods you should be aware of:\n",
    "\n",
    "torch.save -> Saves a serialized object to disk using Python's pickle utility. Models, tensors and various other Python objects like dictionaries can be saved using torch.save.\n",
    "\n",
    "torch.load -> Uses pickle 's unpickling features to deserialize and load pickled Python object.\n",
    "\n",
    "torch.nn.Module.load_state_dict -> Loads a model's parameter dictionary ( model.state_dict() ) using a saved state_dict() object."
   ]
  },
  {
   "cell_type": "markdown",
   "id": "98ab1418",
   "metadata": {},
   "source": [
    "## Saving"
   ]
  },
  {
   "cell_type": "markdown",
   "id": "e26fb99f",
   "metadata": {},
   "source": [
    "The recommended way for saving and loading a model for inference (making predictions) is\n",
    "by saving and loading a model's state_dict() ."
   ]
  },
  {
   "cell_type": "code",
   "execution_count": 63,
   "id": "b0113f77",
   "metadata": {},
   "outputs": [
    {
     "name": "stdout",
     "output_type": "stream",
     "text": [
      "Saving model to: models\\01_pytorch_workflow_model0.pth\n"
     ]
    }
   ],
   "source": [
    "from pathlib import Path\n",
    "\n",
    "# 1. Create models directory\n",
    "MODEL_PATH = Path(\"models\")\n",
    "MODEL_PATH.mkdir(parents=True, exist_ok=True)\n",
    "\n",
    "# 2. Create model save path\n",
    "MODEL_NAME = \"01_pytorch_workflow_model0.pth\"\n",
    "MODEL_SAVE_PATH = MODEL_PATH / MODEL_NAME\n",
    "\n",
    "# 3. Save the model state dict\n",
    "print(f\"Saving model to: {MODEL_SAVE_PATH}\")\n",
    "torch.save(obj=model0.state_dict(),f=MODEL_SAVE_PATH)\n"
   ]
  },
  {
   "cell_type": "markdown",
   "id": "538e578d",
   "metadata": {},
   "source": [
    "## Loading"
   ]
  },
  {
   "cell_type": "code",
   "execution_count": 67,
   "id": "04e4f677",
   "metadata": {},
   "outputs": [
    {
     "data": {
      "text/plain": [
       "<All keys matched successfully>"
      ]
     },
     "execution_count": 67,
     "metadata": {},
     "output_type": "execute_result"
    }
   ],
   "source": [
    "loaded_model0 = LinearRegressionModel()\n",
    "\n",
    "# Load the state_dict of our saved model (this will update the new instance of our model with trained weights)\n",
    "loaded_model0.load_state_dict(torch.load(f=MODEL_SAVE_PATH))"
   ]
  },
  {
   "cell_type": "code",
   "execution_count": 70,
   "id": "04587103",
   "metadata": {},
   "outputs": [],
   "source": [
    "loaded_model0.eval()\n",
    "\n",
    "with torch.inference_mode():\n",
    "    predz = loaded_model0(X_test)"
   ]
  },
  {
   "cell_type": "code",
   "execution_count": 71,
   "id": "922b4558",
   "metadata": {},
   "outputs": [
    {
     "data": {
      "image/png": "[encoded data removed]",
      "text/plain": [
       "<Figure size 640x480 with 1 Axes>"
      ]
     },
     "metadata": {},
     "output_type": "display_data"
    }
   ],
   "source": [
    "plot_preds(preds=predz)"
   ]
  },
  {
   "cell_type": "markdown",
   "id": "f823f834",
   "metadata": {},
   "source": [
    "# Repeating the process with device agnostic code and proper functions"
   ]
  },
  {
   "cell_type": "code",
   "execution_count": 216,
   "id": "ebf4719e",
   "metadata": {},
   "outputs": [
    {
     "name": "stdout",
     "output_type": "stream",
     "text": [
      " Using device: cpu\n"
     ]
    }
   ],
   "source": [
    "device = 'cuda' if torch.cuda.is_available() else 'cpu'\n",
    "print(f\" Using device: {device}\")"
   ]
  },
  {
   "cell_type": "code",
   "execution_count": 217,
   "id": "fb518f0e",
   "metadata": {},
   "outputs": [
    {
     "data": {
      "text/plain": [
       "torch.Size([16, 1])"
      ]
     },
     "execution_count": 217,
     "metadata": {},
     "output_type": "execute_result"
    }
   ],
   "source": [
    "torch.manual_seed(0)\n",
    "X = torch.arange(0,10,0.125).unsqueeze(dim=1)\n",
    "y = 0.5 * X + 10\n",
    "\n",
    "X_train,X_test,y_train,y_test = tts(X,y,test_size=0.2)\n",
    "X_test.shape"
   ]
  },
  {
   "cell_type": "code",
   "execution_count": 218,
   "id": "3ffd4809",
   "metadata": {},
   "outputs": [
    {
     "data": {
      "text/plain": [
       "OrderedDict([('linear_layer.weight', tensor([[-0.0075]])),\n",
       "             ('linear_layer.bias', tensor([0.5364]))])"
      ]
     },
     "execution_count": 218,
     "metadata": {},
     "output_type": "execute_result"
    }
   ],
   "source": [
    "class LinearRegression2(nn.Module):\n",
    "    def __init__(self):\n",
    "        super().__init__()\n",
    "        self.linear_layer = nn.Linear(in_features=1,\n",
    "                                      out_features=1)\n",
    "        \n",
    "    def forward(self, x: torch.Tensor) -> torch.Tensor:\n",
    "        return self.linear_layer(x)\n",
    "    \n",
    "torch.manual_seed(0)\n",
    "model1 = LinearRegression2()\n",
    "model1.state_dict()"
   ]
  },
  {
   "cell_type": "markdown",
   "id": "d9e3fbc6",
   "metadata": {},
   "source": [
    "automatically creates a state_dict with weight and bias"
   ]
  },
  {
   "cell_type": "code",
   "execution_count": 219,
   "id": "0353320a",
   "metadata": {},
   "outputs": [
    {
     "data": {
      "text/plain": [
       "device(type='cpu')"
      ]
     },
     "execution_count": 219,
     "metadata": {},
     "output_type": "execute_result"
    }
   ],
   "source": [
    "model1.to(device)\n",
    "next(model1.parameters()).device"
   ]
  },
  {
   "cell_type": "code",
   "execution_count": 220,
   "id": "75b9b679",
   "metadata": {},
   "outputs": [],
   "source": [
    "loss_fn = nn.L1Loss()\n",
    "\n",
    "optimiser = torch.optim.SGD(params=model1.parameters(),lr=0.01)"
   ]
  },
  {
   "cell_type": "code",
   "execution_count": 221,
   "id": "552a1597",
   "metadata": {
    "scrolled": true
   },
   "outputs": [
    {
     "name": "stdout",
     "output_type": "stream",
     "text": [
      "Epoch: 0 | Trains loss: 11.902863502502441 | Test loss: 11.962423324584961\n",
      "Epoch: 100 | Trains loss: 3.7256977558135986 | Test loss: 3.5346240997314453\n",
      "Epoch: 200 | Trains loss: 3.551048517227173 | Test loss: 3.368619918823242\n",
      "Epoch: 300 | Trains loss: 3.3764121532440186 | Test loss: 3.2028920650482178\n",
      "Epoch: 400 | Trains loss: 3.201779365539551 | Test loss: 3.0371673107147217\n",
      "Epoch: 500 | Trains loss: 3.027146816253662 | Test loss: 2.8714427947998047\n",
      "Epoch: 600 | Trains loss: 2.8525147438049316 | Test loss: 2.7057182788848877\n",
      "Epoch: 700 | Trains loss: 2.677882194519043 | Test loss: 2.5399937629699707\n",
      "Epoch: 800 | Trains loss: 2.5032095909118652 | Test loss: 2.374267816543579\n",
      "Epoch: 900 | Trains loss: 2.3285088539123535 | Test loss: 2.208536386489868\n",
      "Epoch: 1000 | Trains loss: 2.1538519859313965 | Test loss: 2.042529344558716\n",
      "Epoch: 1100 | Trains loss: 1.9792120456695557 | Test loss: 1.8767974376678467\n",
      "Epoch: 1200 | Trains loss: 1.8045722246170044 | Test loss: 1.7110662460327148\n",
      "Epoch: 1300 | Trains loss: 1.6299325227737427 | Test loss: 1.545335054397583\n",
      "Epoch: 1400 | Trains loss: 1.4552925825119019 | Test loss: 1.3796035051345825\n",
      "Epoch: 1500 | Trains loss: 1.2806527614593506 | Test loss: 1.2138721942901611\n",
      "Epoch: 1600 | Trains loss: 1.1059740781784058 | Test loss: 1.048140525817871\n",
      "Epoch: 1700 | Trains loss: 0.9312729835510254 | Test loss: 0.8824090957641602\n",
      "Epoch: 1800 | Trains loss: 0.7566142678260803 | Test loss: 0.7163998484611511\n",
      "Epoch: 1900 | Trains loss: 0.5819697976112366 | Test loss: 0.5506641268730164\n",
      "Epoch: 2000 | Trains loss: 0.4073251783847809 | Test loss: 0.3849285840988159\n",
      "Epoch: 2100 | Trains loss: 0.23281995952129364 | Test loss: 0.2191997766494751\n",
      "Epoch: 2200 | Trains loss: 0.09815768897533417 | Test loss: 0.21084457635879517\n",
      "Epoch: 2300 | Trains loss: 0.03870740532875061 | Test loss: 0.23339319229125977\n",
      "Epoch: 2400 | Trains loss: 0.01943911612033844 | Test loss: 0.25175535678863525\n"
     ]
    }
   ],
   "source": [
    "torch.manual_seed(0)\n",
    "## Training and testing it\n",
    "train_loss_vals = []\n",
    "test_loss_vals = []\n",
    "epochs = 2500\n",
    "\n",
    "for epoch in range(epochs):\n",
    "    model1.train()\n",
    "    \n",
    "    # Forward pass\n",
    "    preds = model1(X_train)\n",
    "    \n",
    "    #calculate loss\n",
    "    loss = loss_fn(preds,y_train)\n",
    "    train_loss_vals.append(loss.detach().numpy())\n",
    "    #zero optimiser\n",
    "    optimiser.zero_grad()\n",
    "    \n",
    "    #back propagation\n",
    "    loss.backward()\n",
    "    \n",
    "    #optimiser step\n",
    "    optimiser.step()\n",
    "    \n",
    "    model1.eval()\n",
    "    with torch.inference_mode():\n",
    "        y_preds = model1(X_test)\n",
    "        test_loss = loss_fn(y_preds,y_test)\n",
    "        test_loss_vals.append(test_loss.detach().numpy())\n",
    "        \n",
    "    if epoch % 100 == 0:\n",
    "        print(f'Epoch: {epoch} | Trains loss: {loss} | Test loss: {test_loss}')\n",
    "    \n",
    "    "
   ]
  },
  {
   "cell_type": "code",
   "execution_count": 222,
   "id": "8d86473d",
   "metadata": {},
   "outputs": [
    {
     "data": {
      "text/plain": [
       "OrderedDict([('linear_layer.weight', tensor([[0.4980]])),\n",
       "             ('linear_layer.bias', tensor([9.9901]))])"
      ]
     },
     "execution_count": 222,
     "metadata": {},
     "output_type": "execute_result"
    }
   ],
   "source": [
    "model1.state_dict()"
   ]
  },
  {
   "cell_type": "code",
   "execution_count": 225,
   "id": "49115c63",
   "metadata": {},
   "outputs": [],
   "source": [
    "rangee = range(2500)"
   ]
  },
  {
   "cell_type": "code",
   "execution_count": 229,
   "id": "dc2fdaa3",
   "metadata": {},
   "outputs": [
    {
     "data": {
      "image/png": "[encoded data removed]",
      "text/plain": [
       "<Figure size 640x480 with 1 Axes>"
      ]
     },
     "metadata": {},
     "output_type": "display_data"
    }
   ],
   "source": [
    "plt.plot(rangee,train_loss_vals,label = 'Train Loss')\n",
    "plt.plot(rangee,test_loss_vals, label='Test Loss')\n",
    "plt.legend()\n",
    "plt.show()"
   ]
  },
  {
   "cell_type": "code",
   "execution_count": 230,
   "id": "42ecd754",
   "metadata": {},
   "outputs": [
    {
     "data": {
      "image/png": "[encoded data removed]",
      "text/plain": [
       "<Figure size 640x480 with 1 Axes>"
      ]
     },
     "metadata": {},
     "output_type": "display_data"
    }
   ],
   "source": [
    "model1.eval()\n",
    "with torch.inference_mode():\n",
    "    predzz = model1(X_test)\n",
    "    \n",
    "plt.scatter(X_test,y_test,c='g',label='Test')\n",
    "plt.scatter(X_test,predzz,c='y',label='Preds')\n",
    "plt.legend()\n",
    "plt.show()"
   ]
  }
 ],
 "metadata": {
  "kernelspec": {
   "display_name": "Python 3 (ipykernel)",
   "language": "python",
   "name": "python3"
  },
  "language_info": {
   "codemirror_mode": {
    "name": "ipython",
    "version": 3
   },
   "file_extension": ".py",
   "mimetype": "text/x-python",
   "name": "python",
   "nbconvert_exporter": "python",
   "pygments_lexer": "ipython3",
   "version": "3.10.9"
  }
 },
 "nbformat": 4,
 "nbformat_minor": 5
}
